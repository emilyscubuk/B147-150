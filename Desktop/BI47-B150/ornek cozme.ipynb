{
 "cells": [
  {
   "cell_type": "code",
   "execution_count": 1,
   "metadata": {},
   "outputs": [],
   "source": [
    "# Write a while loop that adds all the numbers up to 100 (inclusive)."
   ]
  },
  {
   "cell_type": "code",
   "execution_count": 4,
   "metadata": {},
   "outputs": [
    {
     "name": "stdout",
     "output_type": "stream",
     "text": [
      "5050\n"
     ]
    }
   ],
   "source": [
    "counter=0\n",
    "total=0\n",
    "while counter<=100:\n",
    "    total=total + counter\n",
    "    counter=counter + 1\n",
    "print(total)\n"
   ]
  },
  {
   "cell_type": "code",
   "execution_count": null,
   "metadata": {},
   "outputs": [],
   "source": [
    "# Using a while loop, len function, \n",
    "# an if statement and the str() function; \n",
    "# iterate through the given list and if there is a 100, \n",
    "# assign a notification message \n",
    "# to the variable my_message with the index of 100. "
   ]
  },
  {
   "cell_type": "code",
   "execution_count": 5,
   "metadata": {},
   "outputs": [
    {
     "name": "stdout",
     "output_type": "stream",
     "text": [
      "There is 100 at index no:12\n"
     ]
    }
   ],
   "source": [
    "lst=[10, 99, 98, 85, 45, 59, 65, 66, 76, 12, 35, 13, 100, 80, 95]\n",
    "\n",
    "my_message=\"\"\n",
    "i=0\n",
    "while i<len(lst):\n",
    "    i=i+1\n",
    "    if lst[i]==100:\n",
    "        my_message=\"There is 100 at index no:\" +str(i)\n",
    "        i+=i\n",
    "\n",
    "print(my_message)\n",
    "\n"
   ]
  },
  {
   "cell_type": "code",
   "execution_count": null,
   "metadata": {},
   "outputs": [],
   "source": [
    "# Using a while loop and an if statement write a function named name_adder which\n",
    "# appends all the elements in a list to a new list unless the element is an empty string: \"\"."
   ]
  },
  {
   "cell_type": "code",
   "execution_count": 15,
   "metadata": {},
   "outputs": [
    {
     "name": "stdout",
     "output_type": "stream",
     "text": [
      "['Joe', 'Sarah', 'Mike', 'Jess', 'Matt', 'Greg']\n"
     ]
    }
   ],
   "source": [
    "lst1=[\"Joe\", \"Sarah\", \"Mike\", \"Jess\", \"\", \"Matt\", \"\", \"Greg\"]\n",
    "\n",
    "def name_adder(list):\n",
    "    i = 0\n",
    "    new_list = []\n",
    "    while i < len(list):\n",
    "        if list[i] != \"\":\n",
    "            new_list.append(list[i])\n",
    "        i = i+1\n",
    "    return new_list\n",
    "                \n",
    "print(name_adder(lst1))\n",
    "    \n",
    "\n",
    "\n",
    "\n",
    "\n",
    "\n"
   ]
  },
  {
   "cell_type": "code",
   "execution_count": 16,
   "metadata": {},
   "outputs": [
    {
     "name": "stdout",
     "output_type": "stream",
     "text": [
      "Hello World\n"
     ]
    }
   ],
   "source": [
    "my_text=\"Hello World\"\n",
    "print(my_text)"
   ]
  },
  {
   "cell_type": "code",
   "execution_count": 17,
   "metadata": {},
   "outputs": [
    {
     "name": "stdout",
     "output_type": "stream",
     "text": [
      "2,3,4\n"
     ]
    }
   ],
   "source": [
    "# Type a couple of different values on line 9 inside the print function. Make sure they are separated by commas.    \n",
    "    \n",
    "print(\"2,3,4\")"
   ]
  },
  {
   "cell_type": "code",
   "execution_count": 19,
   "metadata": {},
   "outputs": [
    {
     "name": "stdout",
     "output_type": "stream",
     "text": [
      "make,noise\n"
     ]
    }
   ],
   "source": [
    "print(\"make,noise\")"
   ]
  },
  {
   "cell_type": "code",
   "execution_count": 20,
   "metadata": {},
   "outputs": [
    {
     "name": "stdout",
     "output_type": "stream",
     "text": [
      "SpaceX Blue Origin Sierra Nevada\n"
     ]
    }
   ],
   "source": [
    "print(\"SpaceX\", \"Blue Origin\", \"Sierra Nevada\")"
   ]
  },
  {
   "cell_type": "code",
   "execution_count": 21,
   "metadata": {},
   "outputs": [
    {
     "name": "stdout",
     "output_type": "stream",
     "text": [
      "2 3 4\n"
     ]
    }
   ],
   "source": [
    "print(\"2\",\"3\",\"4\")"
   ]
  },
  {
   "cell_type": "code",
   "execution_count": 22,
   "metadata": {},
   "outputs": [
    {
     "name": "stdout",
     "output_type": "stream",
     "text": [
      "I drank 3 glasses of water today.\n"
     ]
    }
   ],
   "source": [
    "#Assign: 3 to variable glass_of_water.\n",
    "\n",
    "glass_of_water=3\n",
    "\n",
    "print(\"I drank\", glass_of_water, \"glasses of water today.\")"
   ]
  },
  {
   "cell_type": "code",
   "execution_count": 24,
   "metadata": {},
   "outputs": [
    {
     "name": "stdout",
     "output_type": "stream",
     "text": [
      "4\n"
     ]
    }
   ],
   "source": [
    "#Fill the print function so it prints glass_of_water\n",
    "\n",
    "glass_of_water=3\n",
    "\n",
    "glass_of_water=glass_of_water + 1\n",
    "\n",
    "\n",
    "print(glass_of_water)"
   ]
  },
  {
   "cell_type": "code",
   "execution_count": 26,
   "metadata": {},
   "outputs": [
    {
     "name": "stdout",
     "output_type": "stream",
     "text": [
      "12\n"
     ]
    }
   ],
   "source": [
    "#Assign an integer to the variable, then print it.\n",
    "\n",
    "men_stepped_on_the_moon=12\n",
    "print(men_stepped_on_the_moon)"
   ]
  },
  {
   "cell_type": "code",
   "execution_count": 28,
   "metadata": {},
   "outputs": [
    {
     "name": "stdout",
     "output_type": "stream",
     "text": [
      " I love Python\n"
     ]
    }
   ],
   "source": [
    "#Type a couple of words or a short sentence for your variable, then print it.\n",
    "\n",
    "my_reason_for_coding=\" I love Python\"\n",
    "print(my_reason_for_coding)\n",
    "\n"
   ]
  },
  {
   "cell_type": "code",
   "execution_count": 29,
   "metadata": {},
   "outputs": [
    {
     "name": "stdout",
     "output_type": "stream",
     "text": [
      "21.36\n"
     ]
    }
   ],
   "source": [
    "#Assign a float with 2 decimals to the variable below. If you don't wan't to search the value you can check out Hint 1.\n",
    "\n",
    "global_mean_sea_level_2018=21\n",
    "\n",
    "#Type your code here.\n",
    "global_mean_sea_level_2018=21.36\n",
    "\n",
    "\n",
    "print(global_mean_sea_level_2018)"
   ]
  },
  {
   "cell_type": "code",
   "execution_count": 30,
   "metadata": {},
   "outputs": [
    {
     "name": "stdout",
     "output_type": "stream",
     "text": [
      "True\n"
     ]
    }
   ],
   "source": [
    "#Assign True or False to the variable below then print it.\n",
    "\n",
    "staying_alive=True\n",
    "print(staying_alive)"
   ]
  },
  {
   "cell_type": "code",
   "execution_count": 31,
   "metadata": {},
   "outputs": [
    {
     "name": "stdout",
     "output_type": "stream",
     "text": [
      "<class 'int'>\n"
     ]
    }
   ],
   "source": [
    "#Using type() function assign the type of the variable to answer_1, then print it.\n",
    "men_stepped_on_the_moon=12\n",
    "\n",
    "#Type your code here.\n",
    "\n",
    "answer_1=type(men_stepped_on_the_moon)\n",
    "\n",
    "\n",
    "print(answer_1)"
   ]
  },
  {
   "cell_type": "code",
   "execution_count": 32,
   "metadata": {},
   "outputs": [
    {
     "name": "stdout",
     "output_type": "stream",
     "text": [
      "<class 'str'>\n"
     ]
    }
   ],
   "source": [
    "my_reason_for_coding=\"intergalactic travel\"\n",
    "\n",
    "#Type your code here.\n",
    "\n",
    "answer_2=type(my_reason_for_coding)\n",
    "\n",
    "\n",
    "print (answer_2)\n",
    "\n"
   ]
  },
  {
   "cell_type": "code",
   "execution_count": 33,
   "metadata": {},
   "outputs": [
    {
     "name": "stdout",
     "output_type": "stream",
     "text": [
      "<class 'float'>\n"
     ]
    }
   ],
   "source": [
    "global_mean_sea_level_delta_2018=21.36\n",
    "\n",
    "#Type your code here.\n",
    "\n",
    "answer_3=type(global_mean_sea_level_delta_2018)\n",
    "\n",
    "\n",
    "print(answer_3)"
   ]
  },
  {
   "cell_type": "code",
   "execution_count": 36,
   "metadata": {},
   "outputs": [
    {
     "data": {
      "text/plain": [
       "str"
      ]
     },
     "execution_count": 36,
     "metadata": {},
     "output_type": "execute_result"
    }
   ],
   "source": [
    "type(\"bng\")"
   ]
  },
  {
   "cell_type": "code",
   "execution_count": 37,
   "metadata": {},
   "outputs": [
    {
     "name": "stdout",
     "output_type": "stream",
     "text": [
      "<class 'bool'>\n"
     ]
    }
   ],
   "source": [
    "staying_alive=True\n",
    "\n",
    "#Type your code here.\n",
    "\n",
    "\n",
    "answer_4=type(staying_alive)\n",
    "\n",
    "\n",
    "print(answer_4)"
   ]
  },
  {
   "cell_type": "code",
   "execution_count": 39,
   "metadata": {},
   "outputs": [
    {
     "name": "stdout",
     "output_type": "stream",
     "text": [
      "10\n"
     ]
    }
   ],
   "source": [
    "#my_grade variable is a string (because it's in quotes). On line 9, convert it to an integer.\n",
    "\n",
    "my_grade=\"10\"\n",
    "\n",
    "answer_5=int(my_grade)\n",
    "\n",
    "\n",
    "print(answer_5)"
   ]
  },
  {
   "cell_type": "code",
   "execution_count": 40,
   "metadata": {},
   "outputs": [
    {
     "name": "stdout",
     "output_type": "stream",
     "text": [
      "97\n"
     ]
    }
   ],
   "source": [
    "#my_temp variable is a float (because it has decimals). On line 9, convert it to an integer.\n",
    "\n",
    "my_temp=97.70\n",
    "\n",
    "answer_6=int(my_temp)\n",
    "\n",
    "\n",
    "print(answer_6)"
   ]
  },
  {
   "cell_type": "code",
   "execution_count": 41,
   "metadata": {},
   "outputs": [
    {
     "name": "stdout",
     "output_type": "stream",
     "text": [
      "69.99\n"
     ]
    }
   ],
   "source": [
    "#shoe_price variable is a string (because it's in quotes). On line 9, convert it into a float.\n",
    "\n",
    "shoe_price=\"69.99\"\n",
    "\n",
    "answer_7=float(shoe_price)\n",
    "\n",
    "\n",
    "print(answer_7)"
   ]
  },
  {
   "cell_type": "code",
   "execution_count": 42,
   "metadata": {},
   "outputs": [
    {
     "name": "stdout",
     "output_type": "stream",
     "text": [
      "In 2018 gross product of the world (GWP) was 84.84 in trillion US dollars.\n"
     ]
    }
   ],
   "source": [
    "#GWP denotes the total economic activity created by the world population collectively in a year.\n",
    "\n",
    "gross_world_product=84.84\n",
    "\n",
    "gwp_str=str(gross_world_product)\n",
    "\n",
    "answer_8=\"In 2018 gross product of the world (GWP) was \" + gwp_str + \" in trillion US dollars.\"\n",
    "\n",
    "\n",
    "print(answer_8)"
   ]
  },
  {
   "cell_type": "code",
   "execution_count": 43,
   "metadata": {},
   "outputs": [
    {
     "name": "stdout",
     "output_type": "stream",
     "text": [
      "<class 'list'>\n"
     ]
    }
   ],
   "source": [
    "#Create an empty list on line 3 and assign its type on line 4\n",
    "\n",
    "gift_list=[]\n",
    "\n",
    "answer_1=type(gift_list)\n",
    "\n",
    "\n",
    "print(answer_1)"
   ]
  },
  {
   "cell_type": "code",
   "execution_count": 44,
   "metadata": {},
   "outputs": [
    {
     "name": "stdout",
     "output_type": "stream",
     "text": [
      "<class 'dict'>\n"
     ]
    }
   ],
   "source": [
    "#Create an empty dictionary on line 3 and assign its type on line 4\n",
    "\n",
    "grocery_items={}\n",
    "\n",
    "answer_2=type(grocery_items)\n",
    "\n",
    "\n",
    "print(answer_2)"
   ]
  },
  {
   "cell_type": "code",
   "execution_count": 45,
   "metadata": {},
   "outputs": [
    {
     "name": "stdout",
     "output_type": "stream",
     "text": [
      "<class 'tuple'>\n"
     ]
    }
   ],
   "source": [
    "#Create an empty tuple on line 3 and assign its type on line 4\n",
    "\n",
    "bucket_list=()\n",
    "\n",
    "answer_2=type(bucket_list)\n",
    "\n",
    "\n",
    "print(answer_2)"
   ]
  },
  {
   "cell_type": "code",
   "execution_count": 47,
   "metadata": {},
   "outputs": [
    {
     "name": "stdout",
     "output_type": "stream",
     "text": [
      "['bag', 'drone', 'dress']\n"
     ]
    }
   ],
   "source": [
    "#Fill in the right side of equation on line 3 so that gift_list is assigned to a list with values in it.\n",
    "\n",
    "gift_list=['bag', 'drone', 'dress']\n",
    "print(gift_list)"
   ]
  },
  {
   "cell_type": "code",
   "execution_count": 49,
   "metadata": {},
   "outputs": [
    {
     "name": "stdout",
     "output_type": "stream",
     "text": [
      "{'banaa': 4, 'apple': 2, 'cherry': 3}\n"
     ]
    }
   ],
   "source": [
    "#Fill in the right side of equation on line 3 so that grocery_list is assigned to a dictionary with values in it.\n",
    "\n",
    "grocery_list={\"banaa\":4,\"apple\":2,\"cherry\":3}\n",
    "\n",
    "\n",
    "print(grocery_list)"
   ]
  },
  {
   "cell_type": "code",
   "execution_count": 51,
   "metadata": {},
   "outputs": [
    {
     "name": "stdout",
     "output_type": "stream",
     "text": [
      "11\n"
     ]
    }
   ],
   "source": [
    "#Assign the first element of the list to answer_1 on line 2\n",
    "lst=[11, 100, 99, 1000, 999]\n",
    "answer_1=lst[0]\n",
    "\n",
    "print(answer_1)"
   ]
  },
  {
   "cell_type": "code",
   "execution_count": 52,
   "metadata": {},
   "outputs": [],
   "source": [
    "#And let's print the second element directly inside print function.\n",
    "\n",
    "#This time print the second element of the list directly on line 3. You should get 100"
   ]
  },
  {
   "cell_type": "code",
   "execution_count": 55,
   "metadata": {},
   "outputs": [
    {
     "name": "stdout",
     "output_type": "stream",
     "text": [
      "100\n"
     ]
    }
   ],
   "source": [
    "lst=[11, 100, 101, 999, 1001]\n",
    "\n",
    "print(lst[1]) "
   ]
  },
  {
   "cell_type": "code",
   "execution_count": 58,
   "metadata": {},
   "outputs": [
    {
     "name": "stdout",
     "output_type": "stream",
     "text": [
      "1001\n"
     ]
    }
   ],
   "source": [
    "#Print the last element of the list through variable answer_1.\n",
    "answer_1=lst[-1]\n",
    "print(answer_1)"
   ]
  },
  {
   "cell_type": "code",
   "execution_count": 59,
   "metadata": {},
   "outputs": [
    {
     "name": "stdout",
     "output_type": "stream",
     "text": [
      "['socks', '4K drone', 'wine', 'jam', 'pajamas']\n"
     ]
    }
   ],
   "source": [
    "#On line 3, add the string \"pajamas\" to the list with .append() method.\n",
    "\n",
    "gift_list=['socks', '4K drone', 'wine', 'jam']\n",
    "# Type your code here.\n",
    "\n",
    "gift_list.append(\"pajamas\")\n",
    "\n",
    "print(gift_list)"
   ]
  },
  {
   "cell_type": "code",
   "execution_count": 60,
   "metadata": {},
   "outputs": [
    {
     "name": "stdout",
     "output_type": "stream",
     "text": [
      "['socks', '4K drone', 'wine', 'jam', ['socks', 'tshirt', 'pajamas']]\n"
     ]
    }
   ],
   "source": [
    "#On line 3, this time add the sub-list: [\"socks\", \"tshirt\", \"pajamas\"] to the end of the gift_list.\n",
    "\n",
    "gift_list=['socks', '4K drone', 'wine', 'jam']\n",
    "# Type your code here.\n",
    "\n",
    "gift_list.append([\"socks\", \"tshirt\", \"pajamas\"])\n",
    "\n",
    "print(gift_list)"
   ]
  },
  {
   "cell_type": "code",
   "execution_count": 62,
   "metadata": {},
   "outputs": [
    {
     "name": "stdout",
     "output_type": "stream",
     "text": [
      "['socks', '4K drone', 'slippers', 'wine', 'jam']\n"
     ]
    }
   ],
   "source": [
    "#On line 3, this time insert \"slippers\" to index 3 of gift_list.\n",
    "\n",
    "gift_list=['socks', '4K drone', 'wine', 'jam']\n",
    "# Type your code here.\n",
    "gift_list.insert(2,\"slippers\")\n",
    "\n",
    "\n",
    "\n",
    "print(gift_list)\n",
    "\n"
   ]
  },
  {
   "cell_type": "code",
   "execution_count": 63,
   "metadata": {},
   "outputs": [
    {
     "name": "stdout",
     "output_type": "stream",
     "text": [
      "8\n"
     ]
    }
   ],
   "source": [
    "# With .index() method you can learn the index number of an item inside your list. \n",
    "# Assign the index no of 8679 to the variable answer_1.\n",
    "\n",
    "\n",
    "lst=[55, 777, 54, 6, 76, 101, 1, 2, 8679, 123, 99]\n",
    "#  Type your code here.\n",
    "\n",
    "answer_1=lst.index(8679)\n",
    "\n",
    "print(answer_1)"
   ]
  },
  {
   "cell_type": "code",
   "execution_count": 65,
   "metadata": {},
   "outputs": [
    {
     "name": "stdout",
     "output_type": "stream",
     "text": [
      "['CRV', 'Outback', 'XC90', 'GL', 'Cherokee', 'Escalade', ['Navigator', 'Suburban']]\n"
     ]
    }
   ],
   "source": [
    "# Using .append() method, add a new list to the end of the list which contains strings: \n",
    "#\"Navigator\" and \"Suburban\".\n",
    "\n",
    "lst=[\"CRV\", \"Outback\", \"XC90\", \"GL\", \"Cherokee\", \"Escalade\"]\n",
    "#  Type your code here.\n",
    "lst.append([\"Navigator\", \"Suburban\"])\n",
    "\n",
    "\n",
    "\n",
    "print(lst)"
   ]
  },
  {
   "cell_type": "code",
   "execution_count": 67,
   "metadata": {},
   "outputs": [
    {
     "name": "stdout",
     "output_type": "stream",
     "text": [
      "[55, 777, 54, 6, 76, 101, 1, 2, 8679, 123]\n"
     ]
    }
   ],
   "source": [
    "#Using .remove() method, clear the last element of the list.\n",
    "\n",
    "lst=[55, 777, 54, 6, 76, 101, 1, 2, 8679, 123, 99]\n",
    "#  Type your code here.\n",
    "lst.remove(99)\n",
    "\n",
    "\n",
    "print(lst)"
   ]
  },
  {
   "cell_type": "code",
   "execution_count": 68,
   "metadata": {},
   "outputs": [
    {
     "name": "stdout",
     "output_type": "stream",
     "text": [
      "[99, 123, 8679, 2, 1, 101, 76, 6, 54, 777, 55]\n"
     ]
    }
   ],
   "source": [
    "#Using .reverse() method, reverse the list.\n",
    "lst=[55, 777, 54, 6, 76, 101, 1, 2, 8679, 123, 99]\n",
    "\n",
    "#  Type your code here.\n",
    "\n",
    "lst.reverse()\n",
    "\n",
    "print(lst)"
   ]
  },
  {
   "cell_type": "code",
   "execution_count": 69,
   "metadata": {},
   "outputs": [
    {
     "name": "stdout",
     "output_type": "stream",
     "text": [
      "4\n"
     ]
    }
   ],
   "source": [
    "# Using .count() method, count how many times 6 occur in the list.\n",
    "\n",
    "lst=[55, 6, 777, 54, 6, 76, 101, 1, 6, 2, 6]\n",
    "#  Type your code inside print() function.\n",
    "\n",
    "answer_1=lst.count(6)\n",
    "\n",
    "print(answer_1)"
   ]
  },
  {
   "cell_type": "code",
   "execution_count": 70,
   "metadata": {},
   "outputs": [
    {
     "name": "stdout",
     "output_type": "stream",
     "text": [
      "1090\n"
     ]
    }
   ],
   "source": [
    "# What is the sum of all the numbers in the list?\n",
    "\n",
    "lst=[55, 6, 777, 54, 6, 76, 101, 1, 6, 2, 6]\n",
    "answer_1=sum(lst)\n",
    "\n",
    "print(answer_1)"
   ]
  },
  {
   "cell_type": "code",
   "execution_count": 72,
   "metadata": {},
   "outputs": [
    {
     "name": "stdout",
     "output_type": "stream",
     "text": [
      "777\n"
     ]
    }
   ],
   "source": [
    "#What is the minimum value in the list?\n",
    "lst=[55, 6, 777, 54, 6, 76, 101, 1, 6, 2, 6]\n",
    "\n",
    "#  Type your code on line 4:\n",
    "answer_1=max(lst)   #min(lst)\n",
    "\n",
    "print(answer_1)\n"
   ]
  },
  {
   "cell_type": "code",
   "execution_count": 74,
   "metadata": {},
   "outputs": [
    {
     "name": "stdout",
     "output_type": "stream",
     "text": [
      "11\n"
     ]
    }
   ],
   "source": [
    "#Assign the first element of the tuple to answer_1 on line 2\n",
    "tt=(11, 100, 99, 1000, 999)\n",
    "\n",
    "answer_1=tt[0]\n",
    "\n",
    "\n",
    "print(answer_1)"
   ]
  },
  {
   "cell_type": "code",
   "execution_count": 76,
   "metadata": {},
   "outputs": [
    {
     "name": "stdout",
     "output_type": "stream",
     "text": [
      "101\n"
     ]
    }
   ],
   "source": [
    "#This time print the third element of the tuple\n",
    "tt=(11, 100, 101, 999, 1001)\n",
    "\n",
    "#Type your answer here.\n",
    "\n",
    "answer_1=(tt[2])\n",
    "\n",
    "print(answer_1)"
   ]
  },
  {
   "cell_type": "code",
   "execution_count": 78,
   "metadata": {},
   "outputs": [
    {
     "name": "stdout",
     "output_type": "stream",
     "text": [
      "999\n"
     ]
    }
   ],
   "source": [
    "#Print the second from the last element of the tuple.\n",
    "lst=(11, 100, 101, 999, 1001)\n",
    "\n",
    "#Type your answer here.\n",
    "\n",
    "answer_1=lst[-2]\n",
    "\n",
    "print(answer_1)"
   ]
  },
  {
   "cell_type": "code",
   "execution_count": 79,
   "metadata": {},
   "outputs": [
    {
     "name": "stdout",
     "output_type": "stream",
     "text": [
      "7\n"
     ]
    }
   ],
   "source": [
    "#What's the index of 2?\n",
    "\n",
    "tt=(55, 777, 54, 6, 76, 101, 1, 2, 8679, 123, 99)\n",
    "#  Type your code here.\n",
    "\n",
    "answer_1=tt.index(2)\n",
    "\n",
    "print(answer_1)"
   ]
  },
  {
   "cell_type": "code",
   "execution_count": 80,
   "metadata": {},
   "outputs": [
    {
     "name": "stdout",
     "output_type": "stream",
     "text": [
      "2\n"
     ]
    }
   ],
   "source": [
    "#How many times does 777 occur?\n",
    "tt=(55, 6, 777, 54, 6, 76, 7777, 1, 777, 2, 6)\n",
    "\n",
    "#  Type your code here.\n",
    "\n",
    "answer_1=tt.count(777)\n",
    "\n",
    "print(answer_1)\n"
   ]
  },
  {
   "cell_type": "code",
   "execution_count": 81,
   "metadata": {},
   "outputs": [
    {
     "name": "stdout",
     "output_type": "stream",
     "text": [
      "1306\n"
     ]
    }
   ],
   "source": [
    "#What is the sum of all the numbers in the tuple?\n",
    "tt=(42, 1092, 11, 88, 65, 2, 6)\n",
    "\n",
    "#  Type your code on line 4:\n",
    "\n",
    "ans_1=sum(tt)\n",
    "\n",
    "\n",
    "print(ans_1)"
   ]
  },
  {
   "cell_type": "code",
   "execution_count": 82,
   "metadata": {},
   "outputs": [
    {
     "name": "stdout",
     "output_type": "stream",
     "text": [
      "9\n"
     ]
    }
   ],
   "source": [
    "# What is the minimum value in the tuple?\n",
    "tt=(66, 555, 11, 101, 9, 1001)\n",
    "\n",
    "#  Type your code on line 4:\n",
    "\n",
    "ans_1=min(tt)\n",
    "\n",
    "\n",
    "print(ans_1)\n"
   ]
  },
  {
   "cell_type": "code",
   "execution_count": 83,
   "metadata": {},
   "outputs": [
    {
     "data": {
      "text/plain": [
       "1001"
      ]
     },
     "execution_count": 83,
     "metadata": {},
     "output_type": "execute_result"
    }
   ],
   "source": [
    "max(tt)"
   ]
  },
  {
   "cell_type": "code",
   "execution_count": 84,
   "metadata": {},
   "outputs": [
    {
     "name": "stdout",
     "output_type": "stream",
     "text": [
      "-427\n"
     ]
    }
   ],
   "source": [
    "# When was Plato born?\n",
    "dict={\"name\": \"Plato\", \"country\": \"Ancient Greece\", \"born\": -427, \"teacher\": \"Socrates\", \"student\": \"Aristotle\"}\n",
    "\n",
    "#Type your answer below.\n",
    "answer_1=dict[\"born\"]\n",
    "\n",
    "print(answer_1)"
   ]
  },
  {
   "cell_type": "code",
   "execution_count": 85,
   "metadata": {},
   "outputs": [],
   "source": [
    "# Change Plato's birth year from B.C. 427 to B.C. 428.\n",
    "dict[\"born\"]=-428"
   ]
  },
  {
   "cell_type": "code",
   "execution_count": 86,
   "metadata": {},
   "outputs": [
    {
     "data": {
      "text/plain": [
       "{'name': 'Plato',\n",
       " 'country': 'Ancient Greece',\n",
       " 'born': -428,\n",
       " 'teacher': 'Socrates',\n",
       " 'student': 'Aristotle'}"
      ]
     },
     "execution_count": 86,
     "metadata": {},
     "output_type": "execute_result"
    }
   ],
   "source": [
    "dict"
   ]
  },
  {
   "cell_type": "code",
   "execution_count": 87,
   "metadata": {},
   "outputs": [
    {
     "data": {
      "text/plain": [
       "{'name': 'Plato',\n",
       " 'country': 'Ancient Greece',\n",
       " 'born': -428,\n",
       " 'teacher': 'Socrates',\n",
       " 'student': 'Aristotle',\n",
       " 'work': ['Apology', 'Phaedo', 'Republic', 'Symposium']}"
      ]
     },
     "execution_count": 87,
     "metadata": {},
     "output_type": "execute_result"
    }
   ],
   "source": [
    "# \"work\": [\"Apology\", \"Phaedo\", \"Republic\", \"Symposium\"]\n",
    "dict[\"work\"]=[\"Apology\", \"Phaedo\", \"Republic\", \"Symposium\"]\n",
    "dict"
   ]
  },
  {
   "cell_type": "code",
   "execution_count": 90,
   "metadata": {},
   "outputs": [
    {
     "name": "stdout",
     "output_type": "stream",
     "text": [
      "{\"son's name\": 'Lucas', \"son's eyes\": 'green', \"son's height\": 34, \"son's weight\": 25}\n"
     ]
    }
   ],
   "source": [
    "## Add 2 inches to the son's height.\n",
    "dict={\"son's name\": \"Lucas\", \"son's eyes\": \"green\", \"son's height\": 32, \"son's weight\": 25}\n",
    "\n",
    "#Type your answer below.\n",
    "dict[\"son's height\"] = dict[\"son's height\"] + 2\n",
    "\n",
    "print(dict)\n"
   ]
  },
  {
   "cell_type": "code",
   "execution_count": 91,
   "metadata": {},
   "outputs": [
    {
     "name": "stdout",
     "output_type": "stream",
     "text": [
      "dict_items([(\"son's name\", 'Lucas'), (\"son's eyes\", 'green'), (\"son's height\", 32), (\"son's weight\", 25)])\n"
     ]
    }
   ],
   "source": [
    "## Using .items() method generate a list of tuples consisted of each key value pair\n",
    "dict={\"son's name\": \"Lucas\", \"son's eyes\": \"green\", \"son's height\": 32, \"son's weight\": 25}\n",
    "\n",
    "#Type your answer below.\n",
    "ans_1=dict.items()\n",
    "\n",
    "print(ans_1)"
   ]
  },
  {
   "cell_type": "code",
   "execution_count": 92,
   "metadata": {},
   "outputs": [
    {
     "name": "stdout",
     "output_type": "stream",
     "text": [
      "green\n"
     ]
    }
   ],
   "source": [
    "# Using .get() method print the value of \"son's eyes\".\n",
    "dict={\"son's name\": \"Lucas\", \"son's eyes\": \"green\", \"son's height\": 32, \"son's weight\": 25}\n",
    "\n",
    "#Type your answer below.\n",
    "ans_1=dict.get(\"son's eyes\")\n",
    "\n",
    "print(ans_1)"
   ]
  },
  {
   "cell_type": "code",
   "execution_count": 94,
   "metadata": {},
   "outputs": [
    {
     "name": "stdout",
     "output_type": "stream",
     "text": [
      "2\n"
     ]
    }
   ],
   "source": [
    "# .get() method can be used just to get the value of a key. But it has more tricks up its sleeve.\n",
    "\n",
    "#Try to look for key: \"son's age\" and if nothing comes up make the .get() return \"2\".\n",
    "ans_1=dict.get(\"son's age\", 2)\n",
    "print(ans_1)"
   ]
  },
  {
   "cell_type": "code",
   "execution_count": 95,
   "metadata": {},
   "outputs": [
    {
     "name": "stdout",
     "output_type": "stream",
     "text": [
      "4\n"
     ]
    }
   ],
   "source": [
    "# Using len function, find how many keys there are in the dictionary.\n",
    "ans_1=len(dict)\n",
    "print(ans_1)"
   ]
  },
  {
   "cell_type": "code",
   "execution_count": 96,
   "metadata": {},
   "outputs": [
    {
     "name": "stdout",
     "output_type": "stream",
     "text": [
      "son's weight\n"
     ]
    }
   ],
   "source": [
    "#What's the key with the highest value in the dictionary?\n",
    "dict={\"son's name\": \"Lucas\", \"son's eye color\": \"green\", \"son's height\": 32, \"son's weight\": 25}\n",
    "\n",
    "#Write your answer here.\n",
    "ans_1=max(dict)\n",
    "\n",
    "print(ans_1)\n"
   ]
  },
  {
   "attachments": {},
   "cell_type": "markdown",
   "metadata": {},
   "source": [
    "# String"
   ]
  },
  {
   "cell_type": "code",
   "execution_count": 98,
   "metadata": {},
   "outputs": [
    {
     "name": "stdout",
     "output_type": "stream",
     "text": [
      "It.\n"
     ]
    }
   ],
   "source": [
    "#By using first, second and last characters of the string, create a new string.\n",
    "str=\"It's always darkest before dawn.\"\n",
    "\n",
    "#Type your answer here.\n",
    "\n",
    "ans_1=str[0]+str[1]+str[-1]\n",
    "\n",
    "print(ans_1)"
   ]
  },
  {
   "cell_type": "code",
   "execution_count": 100,
   "metadata": {},
   "outputs": [
    {
     "name": "stdout",
     "output_type": "stream",
     "text": [
      "It's always darkest before dawn!\n"
     ]
    }
   ],
   "source": [
    "# Replace the (.) with (!)\n",
    "ans_1=str.replace(\".\",\"!\")\n",
    "print(ans_1)"
   ]
  },
  {
   "cell_type": "code",
   "execution_count": 102,
   "metadata": {},
   "outputs": [
    {
     "name": "stdout",
     "output_type": "stream",
     "text": [
      "every strike brings me closer to the next home run.\n"
     ]
    }
   ],
   "source": [
    "# Reassign str so that, all its characters are lowercase.\n",
    "str=\"EVERY Strike Brings Me Closer to the Next Home run.\"\n",
    "# Type your code here.\n",
    "\n",
    "str=str.lower()    # str=str.upper()\n",
    "\n",
    "\n",
    "print(str)"
   ]
  },
  {
   "cell_type": "code",
   "execution_count": 103,
   "metadata": {},
   "outputs": [
    {
     "name": "stdout",
     "output_type": "stream",
     "text": [
      "There are no traffic jams along the extra mile.\n"
     ]
    }
   ],
   "source": [
    "# Make the string so that everything is properly and first letter is capital with one function.\n",
    "str=\"there are no traffic JamS Along The extra mile.\"\n",
    "\n",
    "#Type your answer here.\n",
    "str=str.capitalize()\n",
    "\n",
    "\n",
    "\n",
    "print(str)"
   ]
  },
  {
   "cell_type": "code",
   "execution_count": 105,
   "metadata": {},
   "outputs": [
    {
     "name": "stdout",
     "output_type": "stream",
     "text": [
      "False\n"
     ]
    }
   ],
   "source": [
    "# Does the string start with an A?\n",
    "\n",
    "# Assign a boolean answer to the ans_1 variable.\n",
    "ans_1=str.startswith(\"A\")\n",
    "print(ans_1)"
   ]
  },
  {
   "cell_type": "code",
   "execution_count": 106,
   "metadata": {},
   "outputs": [
    {
     "name": "stdout",
     "output_type": "stream",
     "text": [
      "True\n"
     ]
    }
   ],
   "source": [
    "# Does it end with a fullstop (.) ?\n",
    "\n",
    "ans_2=str.endswith(\".\")\n",
    "print(ans_2)"
   ]
  },
  {
   "cell_type": "code",
   "execution_count": 109,
   "metadata": {},
   "outputs": [
    {
     "name": "stdout",
     "output_type": "stream",
     "text": [
      "11\n"
     ]
    }
   ],
   "source": [
    "# Using .index() method, identify the index of character: (v).\n",
    "str=\"The best revenge is massive success.\"\n",
    "\n",
    "#  Type your code here.\n",
    "\n",
    "ans_1=str.index(\"v\")\n",
    "\n",
    "\n",
    "print(ans_1)"
   ]
  },
  {
   "cell_type": "code",
   "execution_count": 111,
   "metadata": {},
   "outputs": [
    {
     "name": "stdout",
     "output_type": "stream",
     "text": [
      "20\n"
     ]
    }
   ],
   "source": [
    "# Using .find() method, identify the index of character: (m).\n",
    "str=\"The best revenge is massive success.\"\n",
    "ans_1=str.find(\"m\")\n",
    "print(ans_1)"
   ]
  },
  {
   "cell_type": "code",
   "execution_count": 114,
   "metadata": {},
   "outputs": [
    {
     "name": "stdout",
     "output_type": "stream",
     "text": [
      "-1\n"
     ]
    }
   ],
   "source": [
    "# Try to see what results you get looking for character: \n",
    "#(X). First with .find() method and then with .index() method.\n",
    "str=\"The best revenge is massive success.\"\n",
    "ans_1=str.find(\"X\")\n",
    "print(ans_1)"
   ]
  },
  {
   "cell_type": "code",
   "execution_count": 115,
   "metadata": {},
   "outputs": [
    {
     "name": "stdout",
     "output_type": "stream",
     "text": [
      "count of a is:  7  count of o is:  7\n"
     ]
    }
   ],
   "source": [
    "# Which character occur more often in the string? \"a\" or \"o\" ? Print both counts inside the print function.\n",
    "str=\"People often say that motivation doesn't last. Well, neither does bathing.  That's why we recommend it daily.\"\n",
    "#  Type your code here.\n",
    "\n",
    "ans_1=str.count(\"a\")\n",
    "\n",
    "ans_2=str.count(\"o\")\n",
    "\n",
    "\n",
    "print(\"count of a is: \", ans_1, \" count of o is: \", ans_2)"
   ]
  },
  {
   "cell_type": "code",
   "execution_count": 116,
   "metadata": {},
   "outputs": [
    {
     "name": "stdout",
     "output_type": "stream",
     "text": [
      "<class 'str'>\n",
      "<class 'int'>\n"
     ]
    }
   ],
   "source": [
    "# Print the types of two given variables with the print function.\n",
    "v_1=\"1\"\n",
    "v_2=1\n",
    "\n",
    "#  Type your code on line 4:\n",
    "\n",
    "ans_1=type(v_1)\n",
    "\n",
    "ans_2=type(v_2)\n",
    "\n",
    "\n",
    "print(ans_1)\n",
    "print(ans_2)"
   ]
  },
  {
   "cell_type": "code",
   "execution_count": 117,
   "metadata": {},
   "outputs": [
    {
     "name": "stdout",
     "output_type": "stream",
     "text": [
      "9\n"
     ]
    }
   ],
   "source": [
    "#What is the length of the given string?\n",
    "str=\"1.975.000\"\n",
    "\n",
    "#  Type your code here:\n",
    "\n",
    "ans_1=len(str)\n",
    "\n",
    "\n",
    "print(ans_1)\n"
   ]
  },
  {
   "cell_type": "code",
   "execution_count": 118,
   "metadata": {},
   "outputs": [
    {
     "name": "stdout",
     "output_type": "stream",
     "text": [
      "7\n"
     ]
    }
   ],
   "source": [
    "# Using len() function find out how many items are in the list.\n",
    "lst=[11, 10, 12, 101, 99, 1000, 999]\n",
    "\n",
    "answer_1=len(lst)\n",
    "\n",
    "\n",
    "print(answer_1)"
   ]
  },
  {
   "cell_type": "code",
   "execution_count": 119,
   "metadata": {},
   "outputs": [
    {
     "name": "stdout",
     "output_type": "stream",
     "text": [
      "36\n"
     ]
    }
   ],
   "source": [
    "#Find out the length of the string given below.\n",
    "msg=\"Be yourself, everyone else is taken.\"\n",
    "#Type your code here.\n",
    "\n",
    "msg_length=len(msg)\n",
    "\n",
    "\n",
    "print(msg_length)"
   ]
  },
  {
   "cell_type": "code",
   "execution_count": 120,
   "metadata": {},
   "outputs": [
    {
     "name": "stdout",
     "output_type": "stream",
     "text": [
      "5\n"
     ]
    }
   ],
   "source": [
    "# How many keys are there in the dictionary?\n",
    "dict={\"Real Madrid\": 13,\"AC Milan\": 7,\"Bayern Munich\":5 ,\"Barcelona\": 5, \"Liverpool\": 5}\n",
    "#Type your answer here.\n",
    "\n",
    "ans_1=len(dict)\n",
    "\n",
    "print(ans_1)"
   ]
  },
  {
   "cell_type": "code",
   "execution_count": 123,
   "metadata": {},
   "outputs": [
    {
     "name": "stdout",
     "output_type": "stream",
     "text": [
      "jam\n"
     ]
    }
   ],
   "source": [
    "# Call the last element of the list by using the len() function.\n",
    "gift_list=['socks', '4K drone', 'wine', 'jam']\n",
    "# Type your code here.\n",
    "\n",
    "index_no = len(gift_list)-1\n",
    "\n",
    "ans_1 = gift_list[index_no]\n",
    "\n",
    "\n",
    "print(ans_1)"
   ]
  },
  {
   "cell_type": "code",
   "execution_count": 126,
   "metadata": {},
   "outputs": [
    {
     "name": "stdout",
     "output_type": "stream",
     "text": [
      "7\n"
     ]
    }
   ],
   "source": [
    "# Below is a nested data. Find out the length of the item: 'raincoat'. You can use reverse indexing\n",
    "gift_list=['4K drone', 'wine', 'jam', ['socks', 'pajamas', 'raincoat']]\n",
    "# Type your code here.\n",
    "\n",
    "ans_1=len(gift_list[-1][1])\n",
    "\n",
    "print(ans_1)"
   ]
  },
  {
   "attachments": {},
   "cell_type": "markdown",
   "metadata": {},
   "source": [
    "# Python Sort Exercises"
   ]
  },
  {
   "cell_type": "code",
   "execution_count": 128,
   "metadata": {},
   "outputs": [
    {
     "name": "stdout",
     "output_type": "stream",
     "text": [
      "[11, 99, 100, 999, 1000]\n"
     ]
    }
   ],
   "source": [
    "# Sort the list in ascending order with .sort() method.\n",
    "lst=[11, 100, 99, 1000, 999]\n",
    "\n",
    "#Type your answer here.\n",
    "lst.sort()\n",
    "\n",
    "\n",
    "print(lst)"
   ]
  },
  {
   "cell_type": "code",
   "execution_count": 130,
   "metadata": {},
   "outputs": [
    {
     "name": "stdout",
     "output_type": "stream",
     "text": [
      "['Belize', 'Canada', 'India', 'Japan', 'Kazakhstan', 'Taiwan', 'Ukraine']\n"
     ]
    }
   ],
   "source": [
    "# This time sort the countries in alphabetic order.\n",
    "lst=[\"Ukraine\", \"Japan\", \"Canada\", \"Kazakhstan\", \"Taiwan\", \"India\", \"Belize\"]\n",
    "\n",
    "#Type your code here.\n",
    "lst.sort(reverse= False)\n",
    "\n",
    "\n",
    "print(lst)"
   ]
  },
  {
   "cell_type": "code",
   "execution_count": 131,
   "metadata": {},
   "outputs": [
    {
     "name": "stdout",
     "output_type": "stream",
     "text": [
      "[1001, 999, 101, 100, 11]\n"
     ]
    }
   ],
   "source": [
    "# Now sort the list in descending order with .sort() method.\n",
    "\n",
    "\n",
    "lst=[11, 100, 101, 999, 1001]\n",
    "\n",
    "#Type your answer here.\n",
    "\n",
    "lst.sort(reverse= True)\n",
    "\n",
    "print(lst)"
   ]
  },
  {
   "cell_type": "code",
   "execution_count": 132,
   "metadata": {},
   "outputs": [
    {
     "name": "stdout",
     "output_type": "stream",
     "text": [
      "['socks', '4K drone', 'wine', 'jam']\n"
     ]
    }
   ],
   "source": [
    "# Can you sort the gift list in reverse alphabetic order?\n",
    "\n",
    "gift_list=['socks', '4K drone', 'wine', 'jam']\n",
    "\n",
    "# Type your answer here.\n",
    "lst.sort(reverse=True)\n",
    "\n",
    "print(gift_list)"
   ]
  },
  {
   "cell_type": "code",
   "execution_count": 134,
   "metadata": {},
   "outputs": [
    {
     "name": "stdout",
     "output_type": "stream",
     "text": [
      "Bears\n"
     ]
    }
   ],
   "source": [
    "# Sort the list below in reverse alphabetic order and then assign the last element to the answer_1 variable.\n",
    "\n",
    "NFL=[\"Panthers\", \"Bears\", \"Dolphins\" \"Patriots\", \"Saints\", \"Giants\"]\n",
    "\n",
    "# Type your code here.\n",
    "\n",
    "NFL.sort(reverse= True)\n",
    "answer_1=NFL[-1]\n",
    "\n",
    "\n",
    "\n",
    "print(answer_1)"
   ]
  },
  {
   "cell_type": "code",
   "execution_count": 136,
   "metadata": {},
   "outputs": [
    {
     "name": "stdout",
     "output_type": "stream",
     "text": [
      "['Shanghai', 'Moscow', 'Montreal', 'Melbourne', 'Delhi', 'Atlanta']\n"
     ]
    }
   ],
   "source": [
    "# Sort the cities from z to a.\n",
    "\n",
    "muni=[\"Melbourne\", \"Shanghai\", \"Delhi\", \"Atlanta\", \"Moscow\", \"Montreal\"]\n",
    "\n",
    "# Type your code here.\n",
    "\n",
    "muni.sort(reverse=True)\n",
    "\n",
    "\n",
    "\n",
    "print(muni)"
   ]
  },
  {
   "cell_type": "code",
   "execution_count": 139,
   "metadata": {},
   "outputs": [
    {
     "name": "stdout",
     "output_type": "stream",
     "text": [
      "['tiramisu', 'chocolate', 'pudding', 'cheesecake']\n"
     ]
    }
   ],
   "source": [
    "# Sort the keys of the dictionary from a to z.\n",
    "\n",
    "# Hint: You might want to create a list of the keys first with the help of a dictionary method.\n",
    "\n",
    "dict={\"tiramisu\":5, \"chocolate\":2, \"pudding\":3, \"cheesecake\":4}\n",
    "#  Type your code below.\n",
    "\n",
    "key_list=list(dict.keys())\n",
    "key_list.sort\n",
    "\n",
    "\n",
    "\n",
    "print(key_list)"
   ]
  },
  {
   "attachments": {},
   "cell_type": "markdown",
   "metadata": {},
   "source": [
    "## Python Pop Exercises"
   ]
  },
  {
   "cell_type": "code",
   "execution_count": 140,
   "metadata": {},
   "outputs": [
    {
     "name": "stdout",
     "output_type": "stream",
     "text": [
      "999\n",
      "[11, 100, 99, 1000]\n"
     ]
    }
   ],
   "source": [
    "# Pop the last item of the list below.\n",
    "\n",
    "lst=[11, 100, 99, 1000, 999]\n",
    "\n",
    "#Type your answer here.\n",
    "\n",
    "popped_item=lst.pop()\n",
    " \n",
    "print(popped_item)\n",
    "print(lst)"
   ]
  },
  {
   "cell_type": "markdown",
   "metadata": {},
   "source": []
  },
  {
   "cell_type": "code",
   "execution_count": 143,
   "metadata": {},
   "outputs": [
    {
     "name": "stdout",
     "output_type": "stream",
     "text": [
      "['milk', 'banana', 'eggs', 'bread', 'lemons'] broccoli\n"
     ]
    }
   ],
   "source": [
    "# Remove \"broccoli\" from the list using .pop and .index methods.\n",
    "\n",
    "lst=[\"milk\", \"banana\", \"eggs\", \"bread\", \"broccoli\", \"lemons\"]\n",
    "\n",
    "#Type your code here.\n",
    "a=lst.index(\"broccoli\")\n",
    "\n",
    "item=lst.pop(a)   # item=lst.pop(4)\n",
    "\n",
    "\n",
    "print(lst, item)"
   ]
  },
  {
   "cell_type": "code",
   "execution_count": 144,
   "metadata": {},
   "outputs": [
    {
     "name": "stdout",
     "output_type": "stream",
     "text": [
      "{'US': 21, 'China': 16, 'Japan': 5, 'Germany': 4, 'India': 3, 'France': 3, 'UK': 3}\n",
      "2 trillion USD\n"
     ]
    }
   ],
   "source": [
    "# Save Italy's GDP in a separate variable and remove it from the dictionary.\n",
    "\n",
    "GDP_2018={\"US\": 21, \"China\": 16, \"Japan\": 5, \"Germany\": 4, \"India\": 3, \"France\": 3, \"UK\": 3, \"Italy\": 2}\n",
    "\n",
    "#Type your answer here.\n",
    "\n",
    "italy_gdp=GDP_2018.pop(\"Italy\")\n",
    "\n",
    "\n",
    "print(GDP_2018)\n",
    "print(italy_gdp, \"trillion USD\")"
   ]
  },
  {
   "attachments": {},
   "cell_type": "markdown",
   "metadata": {},
   "source": [
    "# Python Input Exercises"
   ]
  },
  {
   "cell_type": "code",
   "execution_count": 145,
   "metadata": {},
   "outputs": [
    {
     "name": "stdout",
     "output_type": "stream",
     "text": [
      "Hello!, Sibel\n"
     ]
    }
   ],
   "source": [
    "# Using input() function ask for user's name.\n",
    "\n",
    "#Type your answer here.\n",
    "\n",
    "ans_1=input(\"what is your name\")\n",
    " \n",
    "print(\"Hello!, \" + ans_1)"
   ]
  },
  {
   "cell_type": "code",
   "execution_count": 147,
   "metadata": {},
   "outputs": [
    {
     "name": "stdout",
     "output_type": "stream",
     "text": [
      "<class 'str'>\n"
     ]
    }
   ],
   "source": [
    "# This time ask the user a numerical question, such as, \"Please enter your age.\" See what type of data input() returns.\n",
    "#Type your code here.\n",
    "ans_1=input(\"Please enter your age\")\n",
    "\n",
    "\n",
    "print(type(ans_1))\n",
    "\n"
   ]
  },
  {
   "cell_type": "code",
   "execution_count": 152,
   "metadata": {},
   "outputs": [
    {
     "name": "stdout",
     "output_type": "stream",
     "text": [
      "2073\n"
     ]
    }
   ],
   "source": [
    "# Using input() function, print() function and another function you may need; \n",
    "# ask for the current year, then print the answer +50.\n",
    "\n",
    "ans=int(input(\"Tell me this year\"))\n",
    "print(ans+50)\n"
   ]
  },
  {
   "cell_type": "code",
   "execution_count": 154,
   "metadata": {},
   "outputs": [
    {
     "name": "stdout",
     "output_type": "stream",
     "text": [
      "0.3424657534246575\n"
     ]
    }
   ],
   "source": [
    "# Create a converter that will ask for amount of days and convert it to years, then print it\n",
    "# Using int() function convert the user's answer to integer. And then make your calculation.\n",
    "# You can ask something like: \"How many days would you like to convert to a year?\"\n",
    "\n",
    "# Type your answer here.\n",
    "\n",
    "message=input(\"How many days would you like to convert to a year?\")\n",
    "\n",
    "result=int(message)/365\n",
    "\n",
    "\n",
    "print(result)"
   ]
  },
  {
   "cell_type": "code",
   "execution_count": 155,
   "metadata": {},
   "outputs": [
    {
     "name": "stdout",
     "output_type": "stream",
     "text": [
      "0.4273972602739726\n"
     ]
    }
   ],
   "source": [
    "# Let's create the same converter this time with float() function instead of int().\n",
    "# Type your answer here.\n",
    "\n",
    "message=input(\"How many days would you like to convert to a year?\")\n",
    "\n",
    "result=float(message)/365\n",
    "\n",
    "\n",
    "print(result)"
   ]
  },
  {
   "cell_type": "code",
   "execution_count": 156,
   "metadata": {},
   "outputs": [
    {
     "name": "stdout",
     "output_type": "stream",
     "text": [
      "965.4\n"
     ]
    }
   ],
   "source": [
    "# Can you create a converter that converts miles to kms?\n",
    "# Type your answer here.\n",
    "\n",
    "message= input(\"Please enter a mile\")\n",
    "\n",
    "result=int(message)*1.609\n",
    "\n",
    "\n",
    "print(result)"
   ]
  },
  {
   "attachments": {},
   "cell_type": "markdown",
   "metadata": {},
   "source": [
    "# Python Range Exercises"
   ]
  },
  {
   "cell_type": "code",
   "execution_count": 158,
   "metadata": {},
   "outputs": [
    {
     "name": "stdout",
     "output_type": "stream",
     "text": [
      "range(0, 50)\n"
     ]
    }
   ],
   "source": [
    "# Create a range from 0 to 50, excluding 50.\n",
    "rng=range(50)\n",
    "print(rng)"
   ]
  },
  {
   "cell_type": "code",
   "execution_count": 159,
   "metadata": {},
   "outputs": [
    {
     "name": "stdout",
     "output_type": "stream",
     "text": [
      "[0, 2, 4, 6, 8]\n"
     ]
    }
   ],
   "source": [
    "# Create a range from 0 to 10 with steps of 2.\n",
    "#Type your code here.\n",
    "\n",
    "rng=range(0,10,2)\n",
    "\n",
    "\n",
    "print(list(rng))"
   ]
  },
  {
   "cell_type": "code",
   "execution_count": 161,
   "metadata": {},
   "outputs": [
    {
     "data": {
      "text/plain": [
       "[100, 110, 120, 130, 140, 150]"
      ]
     },
     "execution_count": 161,
     "metadata": {},
     "output_type": "execute_result"
    }
   ],
   "source": [
    "# Create a range from 100 to 160 with steps of 10. Then print it as a list.\n",
    "list(range(100,160,10))"
   ]
  },
  {
   "cell_type": "code",
   "execution_count": 163,
   "metadata": {},
   "outputs": [
    {
     "name": "stdout",
     "output_type": "stream",
     "text": [
      "[1300, 1200, 1100, 1000, 900, 800]\n"
     ]
    }
   ],
   "source": [
    "# Can you you create a list from 1300 to 700 with descending steps of 100? \n",
    "# Is your stop value included in the list?\n",
    "print(list(range(1300,700,-100)))\n",
    "\n"
   ]
  },
  {
   "cell_type": "code",
   "execution_count": 164,
   "metadata": {},
   "outputs": [
    {
     "name": "stdout",
     "output_type": "stream",
     "text": [
      "[1300, 1200, 1100, 1000, 900, 800, 700]\n"
     ]
    }
   ],
   "source": [
    "# Can you you create a list from 1300 to 700 with descending steps of 100, this time including 700?\n",
    "print(list(range(1300,699,-100)))"
   ]
  },
  {
   "cell_type": "code",
   "execution_count": 7,
   "metadata": {},
   "outputs": [
    {
     "ename": "SyntaxError",
     "evalue": "invalid syntax (407066432.py, line 1)",
     "output_type": "error",
     "traceback": [
      "\u001b[0;36m  Cell \u001b[0;32mIn[7], line 1\u001b[0;36m\u001b[0m\n\u001b[0;31m    without defining zzz anywhere:\u001b[0m\n\u001b[0m            ^\u001b[0m\n\u001b[0;31mSyntaxError\u001b[0m\u001b[0;31m:\u001b[0m invalid syntax\n"
     ]
    }
   ],
   "source": [
    "without defining zzz anywhere:\n",
    "print(zz)\n"
   ]
  },
  {
   "cell_type": "code",
   "execution_count": 8,
   "metadata": {},
   "outputs": [
    {
     "ename": "SyntaxError",
     "evalue": "unexpected EOF while parsing (4227803888.py, line 1)",
     "output_type": "error",
     "traceback": [
      "\u001b[0;36m  Cell \u001b[0;32mIn[8], line 1\u001b[0;36m\u001b[0m\n\u001b[0;31m    print(\"hello\"\u001b[0m\n\u001b[0m                 ^\u001b[0m\n\u001b[0;31mSyntaxError\u001b[0m\u001b[0;31m:\u001b[0m unexpected EOF while parsing\n"
     ]
    }
   ],
   "source": [
    "print(\"hello\""
   ]
  },
  {
   "cell_type": "code",
   "execution_count": 9,
   "metadata": {},
   "outputs": [
    {
     "ename": "TypeError",
     "evalue": "can only concatenate str (not \"int\") to str",
     "output_type": "error",
     "traceback": [
      "\u001b[0;31m---------------------------------------------------------------------------\u001b[0m",
      "\u001b[0;31mTypeError\u001b[0m                                 Traceback (most recent call last)",
      "Cell \u001b[0;32mIn[9], line 2\u001b[0m\n\u001b[1;32m      1\u001b[0m \u001b[39mstr\u001b[39m\u001b[39m=\u001b[39m\u001b[39m\"\u001b[39m\u001b[39mhello\u001b[39m\u001b[39m\"\u001b[39m\n\u001b[0;32m----> 2\u001b[0m \u001b[39mprint\u001b[39m(\u001b[39mstr\u001b[39;49m\u001b[39m+\u001b[39;49m\u001b[39m7\u001b[39;49m)\n",
      "\u001b[0;31mTypeError\u001b[0m: can only concatenate str (not \"int\") to str"
     ]
    }
   ],
   "source": [
    "str=\"hello\"\n",
    "print(str+7)"
   ]
  },
  {
   "cell_type": "code",
   "execution_count": 10,
   "metadata": {},
   "outputs": [
    {
     "ename": "TypeError",
     "evalue": "'str' object is not callable",
     "output_type": "error",
     "traceback": [
      "\u001b[0;31m---------------------------------------------------------------------------\u001b[0m",
      "\u001b[0;31mTypeError\u001b[0m                                 Traceback (most recent call last)",
      "Cell \u001b[0;32mIn[10], line 2\u001b[0m\n\u001b[1;32m      1\u001b[0m \u001b[39mstr\u001b[39m\u001b[39m=\u001b[39m\u001b[39m\"\u001b[39m\u001b[39mhello\u001b[39m\u001b[39m\"\u001b[39m\n\u001b[0;32m----> 2\u001b[0m \u001b[39mprint\u001b[39m(\u001b[39mstr\u001b[39;49m(\u001b[39m10\u001b[39;49m))\n",
      "\u001b[0;31mTypeError\u001b[0m: 'str' object is not callable"
     ]
    }
   ],
   "source": [
    "str=\"hello\"\n",
    "print(str(10))"
   ]
  },
  {
   "cell_type": "code",
   "execution_count": 14,
   "metadata": {},
   "outputs": [
    {
     "ename": "KeyError",
     "evalue": "5",
     "output_type": "error",
     "traceback": [
      "\u001b[0;31m---------------------------------------------------------------------------\u001b[0m",
      "\u001b[0;31mKeyError\u001b[0m                                  Traceback (most recent call last)",
      "Cell \u001b[0;32mIn[14], line 2\u001b[0m\n\u001b[1;32m      1\u001b[0m \u001b[39mdict\u001b[39m \u001b[39m=\u001b[39m {\u001b[39m1\u001b[39m:\u001b[39m111\u001b[39m, \u001b[39m2\u001b[39m:\u001b[39m222\u001b[39m, \u001b[39m3\u001b[39m:\u001b[39m333\u001b[39m}\n\u001b[0;32m----> 2\u001b[0m \u001b[39mprint\u001b[39m(\u001b[39mdict\u001b[39;49m[\u001b[39m5\u001b[39;49m])\n",
      "\u001b[0;31mKeyError\u001b[0m: 5"
     ]
    }
   ],
   "source": [
    "dict = {1:111, 2:222, 3:333}\n",
    "print(dict[5])"
   ]
  },
  {
   "cell_type": "code",
   "execution_count": 15,
   "metadata": {},
   "outputs": [
    {
     "ename": "AttributeError",
     "evalue": "'str' object has no attribute 'reverse'",
     "output_type": "error",
     "traceback": [
      "\u001b[0;31m---------------------------------------------------------------------------\u001b[0m",
      "\u001b[0;31mAttributeError\u001b[0m                            Traceback (most recent call last)",
      "Cell \u001b[0;32mIn[15], line 2\u001b[0m\n\u001b[1;32m      1\u001b[0m \u001b[39mstr\u001b[39m \u001b[39m=\u001b[39m \u001b[39m\"\u001b[39m\u001b[39mHello\u001b[39m\u001b[39m\"\u001b[39m\n\u001b[0;32m----> 2\u001b[0m \u001b[39mstr\u001b[39;49m\u001b[39m.\u001b[39;49mreverse()\n",
      "\u001b[0;31mAttributeError\u001b[0m: 'str' object has no attribute 'reverse'"
     ]
    }
   ],
   "source": [
    "str = \"Hello\"\n",
    "str.reverse()"
   ]
  },
  {
   "cell_type": "code",
   "execution_count": 16,
   "metadata": {},
   "outputs": [
    {
     "ename": "ValueError",
     "evalue": "invalid literal for int() with base 10: 'moose'",
     "output_type": "error",
     "traceback": [
      "\u001b[0;31m---------------------------------------------------------------------------\u001b[0m",
      "\u001b[0;31mValueError\u001b[0m                                Traceback (most recent call last)",
      "Cell \u001b[0;32mIn[16], line 2\u001b[0m\n\u001b[1;32m      1\u001b[0m \u001b[39mstr\u001b[39m \u001b[39m=\u001b[39m \u001b[39m\"\u001b[39m\u001b[39mmoose\u001b[39m\u001b[39m\"\u001b[39m\n\u001b[0;32m----> 2\u001b[0m ans_1 \u001b[39m=\u001b[39m \u001b[39mint\u001b[39;49m(\u001b[39mstr\u001b[39;49m)\n",
      "\u001b[0;31mValueError\u001b[0m: invalid literal for int() with base 10: 'moose'"
     ]
    }
   ],
   "source": [
    "str = \"moose\"\n",
    "ans_1 = int(str)"
   ]
  }
 ],
 "metadata": {
  "kernelspec": {
   "display_name": "Python 3",
   "language": "python",
   "name": "python3"
  },
  "language_info": {
   "codemirror_mode": {
    "name": "ipython",
    "version": 3
   },
   "file_extension": ".py",
   "mimetype": "text/x-python",
   "name": "python",
   "nbconvert_exporter": "python",
   "pygments_lexer": "ipython3",
   "version": "3.9.7"
  },
  "orig_nbformat": 4,
  "vscode": {
   "interpreter": {
    "hash": "aee8b7b246df8f9039afb4144a1f6fd8d2ca17a180786b69acc140d282b71a49"
   }
  }
 },
 "nbformat": 4,
 "nbformat_minor": 2
}
