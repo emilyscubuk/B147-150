{
 "cells": [
  {
   "cell_type": "code",
   "execution_count": 1,
   "metadata": {},
   "outputs": [],
   "source": [
    "## Loops - While"
   ]
  },
  {
   "cell_type": "code",
   "execution_count": 2,
   "metadata": {},
   "outputs": [
    {
     "data": {
      "text/plain": [
       "'Techpro'"
      ]
     },
     "execution_count": 2,
     "metadata": {},
     "output_type": "execute_result"
    }
   ],
   "source": [
    "\"Techpro\""
   ]
  },
  {
   "cell_type": "code",
   "execution_count": null,
   "metadata": {},
   "outputs": [],
   "source": [
    "while condition:\n",
    "    body"
   ]
  },
  {
   "cell_type": "code",
   "execution_count": null,
   "metadata": {},
   "outputs": [],
   "source": [
    "while True:\n",
    "    print(\"Sonsuz dongu\")"
   ]
  },
  {
   "cell_type": "code",
   "execution_count": null,
   "metadata": {},
   "outputs": [],
   "source": [
    "while 5>2:      ### durdurucu bisey koymazsak dongu sonsuza gider\n",
    "    print(\"5 2 den buyuktur\")     ## calistirmaz sonsuz dongu\n"
   ]
  },
  {
   "cell_type": "code",
   "execution_count": 3,
   "metadata": {},
   "outputs": [
    {
     "name": "stdout",
     "output_type": "stream",
     "text": [
      "0\n",
      "1\n",
      "2\n",
      "3\n",
      "4\n"
     ]
    }
   ],
   "source": [
    "x=0\n",
    "while x<5:\n",
    "    print(x)\n",
    "    x=x+1"
   ]
  },
  {
   "cell_type": "code",
   "execution_count": 4,
   "metadata": {},
   "outputs": [
    {
     "name": "stdout",
     "output_type": "stream",
     "text": [
      "while dongusu condition False olana kadar calisir\n"
     ]
    }
   ],
   "source": [
    "y= True\n",
    "while y:\n",
    "    print(\"while dongusu condition False olana kadar calisir\")\n",
    "    y=False"
   ]
  },
  {
   "cell_type": "code",
   "execution_count": 5,
   "metadata": {},
   "outputs": [
    {
     "name": "stdout",
     "output_type": "stream",
     "text": [
      "0\n",
      "1\n",
      "2\n",
      "3\n",
      "4\n",
      "Dongunun sonu\n"
     ]
    }
   ],
   "source": [
    "x=0\n",
    "while x<5:\n",
    "    print(x)\n",
    "    x=x+1\n",
    "print(\"Dongunun sonu\")"
   ]
  },
  {
   "cell_type": "code",
   "execution_count": 6,
   "metadata": {},
   "outputs": [
    {
     "name": "stdout",
     "output_type": "stream",
     "text": [
      "0\n",
      "Dongunun sonu\n",
      "1\n",
      "Dongunun sonu\n",
      "2\n",
      "Dongunun sonu\n",
      "3\n",
      "Dongunun sonu\n",
      "4\n",
      "Dongunun sonu\n"
     ]
    }
   ],
   "source": [
    "x=0                   ## print yerinin onemi\n",
    "while x<5:\n",
    "    print(x)\n",
    "    x=x+1\n",
    "    print(\"Dongunun sonu\")"
   ]
  },
  {
   "cell_type": "code",
   "execution_count": 9,
   "metadata": {},
   "outputs": [
    {
     "name": "stdout",
     "output_type": "stream",
     "text": [
      "1\n",
      "4\n",
      "9\n",
      "16\n",
      "25\n"
     ]
    }
   ],
   "source": [
    "liste=[1,2,3,4,5]\n",
    "\n",
    "x=0\n",
    "\n",
    "while x< len(liste):\n",
    "    print(liste[x]**2)    ## [] listenin indexlerine ulasip karelerini aliyoz\n",
    "    x+=1     ## x her seferinde 1 artacak"
   ]
  },
  {
   "cell_type": "code",
   "execution_count": 10,
   "metadata": {},
   "outputs": [
    {
     "name": "stdout",
     "output_type": "stream",
     "text": [
      "1\n",
      "4\n",
      "9\n",
      "16\n",
      "25\n"
     ]
    },
    {
     "ename": "IndexError",
     "evalue": "list index out of range",
     "output_type": "error",
     "traceback": [
      "\u001b[0;31m---------------------------------------------------------------------------\u001b[0m",
      "\u001b[0;31mIndexError\u001b[0m                                Traceback (most recent call last)",
      "Cell \u001b[0;32mIn[10], line 6\u001b[0m\n\u001b[1;32m      3\u001b[0m x\u001b[39m=\u001b[39m\u001b[39m0\u001b[39m\n\u001b[1;32m      5\u001b[0m \u001b[39mwhile\u001b[39;00m x \u001b[39m<\u001b[39m\u001b[39m=\u001b[39m \u001b[39mlen\u001b[39m(liste):   \u001b[39m## esittir dersek listenin indexsine ulasamz\u001b[39;00m\n\u001b[0;32m----> 6\u001b[0m     \u001b[39mprint\u001b[39m(liste[x]\u001b[39m*\u001b[39m\u001b[39m*\u001b[39m\u001b[39m2\u001b[39m)    \n\u001b[1;32m      7\u001b[0m     x\u001b[39m+\u001b[39m\u001b[39m=\u001b[39m\u001b[39m1\u001b[39m   \u001b[39m## =x+1\u001b[39;00m\n",
      "\u001b[0;31mIndexError\u001b[0m: list index out of range"
     ]
    }
   ],
   "source": [
    "liste=[1,2,3,4,5]\n",
    "\n",
    "x=0\n",
    "\n",
    "while x <= len(liste):   ## esittir dersek listenin indexsine ulasamz\n",
    "    print(liste[x]**2)    \n",
    "    x+=1   ## =x+1"
   ]
  },
  {
   "cell_type": "code",
   "execution_count": null,
   "metadata": {},
   "outputs": [],
   "source": []
  },
  {
   "cell_type": "code",
   "execution_count": 14,
   "metadata": {},
   "outputs": [
    {
     "name": "stdout",
     "output_type": "stream",
     "text": [
      "sanki bunu yazdirmaz\n"
     ]
    }
   ],
   "source": [
    "#soru1:\n",
    "while []:   ## bos liste False u temsil eder\n",
    "    print(\"bos liste\")\n",
    "print(\"sanki bunu yazdirmaz\")"
   ]
  },
  {
   "cell_type": "code",
   "execution_count": 15,
   "metadata": {},
   "outputs": [
    {
     "data": {
      "text/plain": [
       "'\"\\nwhile []:   ## bos liste False u temsil eder\\n    print(\"bos liste\")\\nprint(\"sanki bunu yazdirmaz\")\\n'"
      ]
     },
     "execution_count": 15,
     "metadata": {},
     "output_type": "execute_result"
    }
   ],
   "source": [
    "\"\"\"\"\n",
    "while []:   ## bos liste False u temsil eder\n",
    "    print(\"bos liste\")\n",
    "print(\"sanki bunu yazdirmaz\")\n",
    "\"\"\""
   ]
  },
  {
   "cell_type": "code",
   "execution_count": 21,
   "metadata": {},
   "outputs": [
    {
     "name": "stdout",
     "output_type": "stream",
     "text": [
      "Girdiginiz sayi 98.Tahminini azalt\n",
      "Girdiginiz sayi 32.tahminini arttir\n",
      "Girdiginiz sayi 48.Bravo.Dogru tahmin\n"
     ]
    }
   ],
   "source": [
    "sayi= 48\n",
    "\n",
    "while True:\n",
    "\n",
    "    tahmin= int(input(\"bir sayi girin\"))\n",
    "    if sayi < tahmin:\n",
    "        print(f\"Girdiginiz sayi {tahmin}.Tahminini azalt\")\n",
    "    elif sayi  > tahmin:\n",
    "        print(f\"Girdiginiz sayi {tahmin}.tahminini arttir\")\n",
    "    else:\n",
    "        print(f\"Girdiginiz sayi {tahmin}.Bravo.Dogru tahmin\")\n",
    "        break"
   ]
  },
  {
   "cell_type": "code",
   "execution_count": 23,
   "metadata": {},
   "outputs": [
    {
     "name": "stdout",
     "output_type": "stream",
     "text": [
      "Girdiginiz sayi 65.Tahminini azalt\n",
      "Girdiginiz sayi 32.tahminini arttir\n",
      "Girdiginiz sayi 47.tahminini arttir\n",
      "Girdiginiz sayi 48.Bravo.Dogru tahmin\n",
      "4 denemede bildin\n"
     ]
    }
   ],
   "source": [
    "sayi= 48\n",
    "sayac = 0\n",
    "\n",
    "while True:\n",
    "\n",
    "    tahmin= int(input(\"bir sayi girin\"))\n",
    "    if sayi < tahmin:\n",
    "        print(f\"Girdiginiz sayi {tahmin}.Tahminini azalt\")\n",
    "        sayac +=1\n",
    "    elif sayi  > tahmin:\n",
    "        print(f\"Girdiginiz sayi {tahmin}.tahminini arttir\")\n",
    "        sayac +=1\n",
    "    else:\n",
    "        print(f\"Girdiginiz sayi {tahmin}.Bravo.Dogru tahmin\")\n",
    "        sayac +=1\n",
    "        break\n",
    "print (f\"{sayac} denemede bildin\")"
   ]
  },
  {
   "cell_type": "code",
   "execution_count": 24,
   "metadata": {},
   "outputs": [],
   "source": [
    "## random modulu"
   ]
  },
  {
   "cell_type": "code",
   "execution_count": 25,
   "metadata": {},
   "outputs": [],
   "source": [
    "import random"
   ]
  },
  {
   "cell_type": "code",
   "execution_count": 26,
   "metadata": {},
   "outputs": [
    {
     "data": {
      "text/plain": [
       "0.918378543970555"
      ]
     },
     "execution_count": 26,
     "metadata": {},
     "output_type": "execute_result"
    }
   ],
   "source": [
    "random.random()"
   ]
  },
  {
   "cell_type": "code",
   "execution_count": 27,
   "metadata": {},
   "outputs": [
    {
     "data": {
      "text/plain": [
       "0.7601614783097744"
      ]
     },
     "execution_count": 27,
     "metadata": {},
     "output_type": "execute_result"
    }
   ],
   "source": [
    "random.seed(95)\n",
    "random.random()"
   ]
  },
  {
   "cell_type": "code",
   "execution_count": 32,
   "metadata": {},
   "outputs": [
    {
     "data": {
      "text/plain": [
       "4"
      ]
     },
     "execution_count": 32,
     "metadata": {},
     "output_type": "execute_result"
    }
   ],
   "source": [
    "random.randint(0,4)"
   ]
  },
  {
   "cell_type": "code",
   "execution_count": 33,
   "metadata": {},
   "outputs": [
    {
     "data": {
      "text/plain": [
       "1"
      ]
     },
     "execution_count": 33,
     "metadata": {},
     "output_type": "execute_result"
    }
   ],
   "source": [
    "random.randrange(0,4)"
   ]
  },
  {
   "cell_type": "code",
   "execution_count": 34,
   "metadata": {},
   "outputs": [
    {
     "name": "stdout",
     "output_type": "stream",
     "text": [
      "Girdiginiz sayi 39.tahminini arttir\n",
      "Girdiginiz sayi 110.Tahminini azalt\n",
      "Girdiginiz sayi 23.tahminini arttir\n",
      "Girdiginiz sayi 90.Tahminini azalt\n",
      "Girdiginiz sayi 89.Tahminini azalt\n",
      "Girdiginiz sayi 80.Tahminini azalt\n",
      "Girdiginiz sayi 30.tahminini arttir\n",
      "Girdiginiz sayi 30.tahminini arttir\n",
      "Girdiginiz sayi 40.tahminini arttir\n",
      "Girdiginiz sayi 40.tahminini arttir\n",
      "Girdiginiz sayi 50.tahminini arttir\n",
      "Girdiginiz sayi 60.tahminini arttir\n",
      "Girdiginiz sayi 70.Tahminini azalt\n",
      "Girdiginiz sayi 70.Tahminini azalt\n",
      "Girdiginiz sayi 65.Tahminini azalt\n",
      "Girdiginiz sayi 64.Tahminini azalt\n",
      "Girdiginiz sayi 63.Bravo.Dogru tahmin\n",
      "17 denemede bildin\n"
     ]
    }
   ],
   "source": [
    "import random\n",
    "sayi= random.randint(0,100)\n",
    "sayac = 0\n",
    "\n",
    "while True:\n",
    "\n",
    "    tahmin= int(input(\"bir sayi girin\"))\n",
    "    if sayi < tahmin:\n",
    "        print(f\"Girdiginiz sayi {tahmin}.Tahminini azalt\")\n",
    "        sayac +=1\n",
    "    elif sayi  > tahmin:\n",
    "        print(f\"Girdiginiz sayi {tahmin}.tahminini arttir\")\n",
    "        sayac +=1\n",
    "    else:\n",
    "        print(f\"Girdiginiz sayi {tahmin}.Bravo.Dogru tahmin\")\n",
    "        sayac +=1\n",
    "        break\n",
    "print (f\"{sayac} denemede bildin\")"
   ]
  },
  {
   "cell_type": "code",
   "execution_count": 39,
   "metadata": {},
   "outputs": [
    {
     "name": "stdout",
     "output_type": "stream",
     "text": [
      "Girdiginiz sayi 50.Tahminini azalt\n",
      "Girdiginiz sayi 40.Tahminini azalt\n",
      "Girdiginiz sayi 30.Tahminini azalt\n",
      "Girdiginiz sayi 20.Tahminini azalt\n",
      "Girdiginiz sayi 10.Bravo.Dogru tahmin\n"
     ]
    }
   ],
   "source": [
    "import random\n",
    "sayi= random.randint(0,100)\n",
    "sayac = 0\n",
    "\n",
    "while sayac < 5:\n",
    "\n",
    "    tahmin= int(input(\"bir sayi girin\"))\n",
    "    sayac +=1\n",
    "    if sayi < tahmin:\n",
    "        print(f\"Girdiginiz sayi {tahmin}.Tahminini azalt\")\n",
    "       \n",
    "    elif sayi  > tahmin:\n",
    "        print(f\"Girdiginiz sayi {tahmin}.tahminini arttir\")\n",
    "    \n",
    "    else:\n",
    "        print(f\"Girdiginiz sayi {tahmin}.Bravo.Dogru tahmin\")\n",
    "     \n",
    "        break\n",
    "\n"
   ]
  },
  {
   "cell_type": "code",
   "execution_count": 41,
   "metadata": {},
   "outputs": [
    {
     "name": "stdout",
     "output_type": "stream",
     "text": [
      "Girdiginiz sayi 20.tahminini arttir\n",
      "Girdiginiz sayi 30.tahminini arttir\n",
      "Girdiginiz sayi 40.Tahminini azalt\n",
      "Girdiginiz sayi 35.Bravo.Dogru tahmin\n"
     ]
    }
   ],
   "source": [
    "import random\n",
    "import time\n",
    "sayi= random.randint(0,100)\n",
    "sayac = 0\n",
    "\n",
    "while sayac < 5:\n",
    "\n",
    "    tahmin= int(input(\"bir sayi girin\"))\n",
    "    sayac +=1\n",
    "    time.sleep(1)\n",
    "    if sayi < tahmin:\n",
    "        print(f\"Girdiginiz sayi {tahmin}.Tahminini azalt\")\n",
    "        time.sleep(1)\n",
    "       \n",
    "    elif sayi  > tahmin:\n",
    "        print(f\"Girdiginiz sayi {tahmin}.tahminini arttir\")\n",
    "        time.sleep(1)\n",
    "    \n",
    "    else:\n",
    "        print(f\"Girdiginiz sayi {tahmin}.Bravo.Dogru tahmin\")\n",
    "        time.sleep(1)\n",
    "     \n",
    "        break"
   ]
  },
  {
   "cell_type": "code",
   "execution_count": 42,
   "metadata": {},
   "outputs": [],
   "source": [
    "## max() and min()"
   ]
  },
  {
   "cell_type": "code",
   "execution_count": 43,
   "metadata": {},
   "outputs": [
    {
     "data": {
      "text/plain": [
       "94"
      ]
     },
     "execution_count": 43,
     "metadata": {},
     "output_type": "execute_result"
    }
   ],
   "source": [
    "max([1,23,8,94,56,27,3,4])"
   ]
  },
  {
   "cell_type": "code",
   "execution_count": 44,
   "metadata": {},
   "outputs": [
    {
     "data": {
      "text/plain": [
       "1"
      ]
     },
     "execution_count": 44,
     "metadata": {},
     "output_type": "execute_result"
    }
   ],
   "source": [
    "min([1,23,8,94,56,27,3,4])"
   ]
  },
  {
   "cell_type": "code",
   "execution_count": 45,
   "metadata": {},
   "outputs": [
    {
     "data": {
      "text/plain": [
       "'sedat'"
      ]
     },
     "execution_count": 45,
     "metadata": {},
     "output_type": "execute_result"
    }
   ],
   "source": [
    "max([\"hello\",\"sedat\",\"Techpro\"])"
   ]
  },
  {
   "cell_type": "code",
   "execution_count": 46,
   "metadata": {},
   "outputs": [
    {
     "data": {
      "text/plain": [
       "'techpro'"
      ]
     },
     "execution_count": 46,
     "metadata": {},
     "output_type": "execute_result"
    }
   ],
   "source": [
    "max([\"hello\",\"sedat\",\"techpro\"])"
   ]
  },
  {
   "cell_type": "code",
   "execution_count": 53,
   "metadata": {},
   "outputs": [
    {
     "data": {
      "text/plain": [
       "'Techpro'"
      ]
     },
     "execution_count": 53,
     "metadata": {},
     "output_type": "execute_result"
    }
   ],
   "source": [
    "max([\"hello\",\"sedat\",\"Techpro\"],key=str.upper)"
   ]
  },
  {
   "cell_type": "code",
   "execution_count": 47,
   "metadata": {},
   "outputs": [
    {
     "data": {
      "text/plain": [
       "'Techpro'"
      ]
     },
     "execution_count": 47,
     "metadata": {},
     "output_type": "execute_result"
    }
   ],
   "source": [
    "max([\"hello\",\"sedat\",\"Techpro\"],key=str.lower)    ## key bi fonksiyondur"
   ]
  },
  {
   "cell_type": "code",
   "execution_count": 49,
   "metadata": {},
   "outputs": [
    {
     "data": {
      "text/plain": [
       "'techpro'"
      ]
     },
     "execution_count": 49,
     "metadata": {},
     "output_type": "execute_result"
    }
   ],
   "source": [
    "max([\"hello\",\"sedat\",\"techpro\"],key=str.upper)"
   ]
  },
  {
   "cell_type": "code",
   "execution_count": 50,
   "metadata": {},
   "outputs": [
    {
     "data": {
      "text/plain": [
       "<function str.capitalize()>"
      ]
     },
     "execution_count": 50,
     "metadata": {},
     "output_type": "execute_result"
    }
   ],
   "source": [
    "\"hello\".capitalize"
   ]
  },
  {
   "cell_type": "code",
   "execution_count": 51,
   "metadata": {},
   "outputs": [
    {
     "data": {
      "text/plain": [
       "'Hello'"
      ]
     },
     "execution_count": 51,
     "metadata": {},
     "output_type": "execute_result"
    }
   ],
   "source": [
    "\"hello\".capitalize()"
   ]
  },
  {
   "cell_type": "code",
   "execution_count": 54,
   "metadata": {},
   "outputs": [
    {
     "data": {
      "text/plain": [
       "325"
      ]
     },
     "execution_count": 54,
     "metadata": {},
     "output_type": "execute_result"
    }
   ],
   "source": [
    "sayılar_listesi = [1,4,56,18,47,96,325,1,5,4,7,8,-8,-400,0,47]\n",
    "max(sayılar_listesi)"
   ]
  },
  {
   "cell_type": "code",
   "execution_count": 55,
   "metadata": {},
   "outputs": [
    {
     "data": {
      "text/plain": [
       "325"
      ]
     },
     "execution_count": 55,
     "metadata": {},
     "output_type": "execute_result"
    }
   ],
   "source": [
    "sayılar_listesi[6]"
   ]
  },
  {
   "cell_type": "code",
   "execution_count": 60,
   "metadata": {},
   "outputs": [
    {
     "name": "stdout",
     "output_type": "stream",
     "text": [
      "listenin en buyuk elemani 325\n"
     ]
    }
   ],
   "source": [
    "sayılar_listesi = [1,4,56,18,47,96,325,1,5,4,7,8,-8,-400,0,47]\n",
    "index=0\n",
    "max_sayi=sayılar_listesi[0]\n",
    "\n",
    "while index  < len(sayılar_listesi):\n",
    "\n",
    "    if sayılar_listesi[index] >max_sayi:\n",
    "       \n",
    "       max_sayi= sayılar_listesi[index]\n",
    "\n",
    "    index +=1\n",
    "\n",
    "print(f\"listenin en buyuk elemani {max_sayi}\")"
   ]
  },
  {
   "cell_type": "code",
   "execution_count": 66,
   "metadata": {},
   "outputs": [
    {
     "name": "stdout",
     "output_type": "stream",
     "text": [
      "listenin en kucuk elemani 1\n"
     ]
    }
   ],
   "source": [
    "sayılar_listesi = [1,4,56,18,47,96,325,1,5,4,7,8,-8,-400,0,47]\n",
    "index=0\n",
    "min_sayi=sayılar_listesi[0]\n",
    "\n",
    "while index  > len(sayılar_listesi):\n",
    "\n",
    "    if sayılar_listesi[index] >min_sayi:\n",
    "       \n",
    "       min_sayi= sayılar_listesi[index]\n",
    "\n",
    "    index +=1\n",
    "\n",
    "print(f\"listenin en kucuk elemani {min_sayi}\")"
   ]
  },
  {
   "cell_type": "code",
   "execution_count": null,
   "metadata": {},
   "outputs": [],
   "source": [
    "liste_1 = [1,45,22,69,58,55,47,45,46,48,49,50,40]\n",
    "n=1\n",
    "while n <=len(liste_1):\n",
    "\n",
    "    if (n%2==0):\n",
    "        print(f\"Even numbers\",n)\n",
    "\n",
    "    \n",
    "else:\n",
    "\n",
    "    print(f\"Odd number\",n)\n",
    "    n=n+1"
   ]
  },
  {
   "cell_type": "code",
   "execution_count": 81,
   "metadata": {},
   "outputs": [
    {
     "name": "stdout",
     "output_type": "stream",
     "text": [
      "Evennumbers : 0\n",
      "Odd numbers: 1\n",
      "Evennumbers : 0\n",
      "Odd numbers: 2\n",
      "Evennumbers : 1\n",
      "Odd numbers: 2\n",
      "Evennumbers : 1\n",
      "Odd numbers: 3\n",
      "Evennumbers : 1\n",
      "Odd numbers: 3\n",
      "Evennumbers : 1\n",
      "Odd numbers: 4\n",
      "Evennumbers : 1\n",
      "Odd numbers: 5\n",
      "Evennumbers : 1\n",
      "Odd numbers: 6\n",
      "Evennumbers : 1\n",
      "Odd numbers: 6\n",
      "Evennumbers : 1\n",
      "Odd numbers: 6\n",
      "Evennumbers : 1\n",
      "Odd numbers: 7\n",
      "Evennumbers : 1\n",
      "Odd numbers: 7\n",
      "Evennumbers : 1\n",
      "Odd numbers: 7\n"
     ]
    }
   ],
   "source": [
    "liste_1 = [1,45,22,69,58,55,47,45,46,48,49,50,40]\n",
    "even_count, odd_count=0,0\n",
    "for num in liste_1:\n",
    "    if num %2==0:\n",
    "        even_count=1\n",
    "    else:\n",
    "        odd_count+=1\n",
    "    print(\"Evennumbers :\",even_count)\n",
    "    print(\"Odd numbers:\", odd_count)"
   ]
  },
  {
   "cell_type": "code",
   "execution_count": 90,
   "metadata": {},
   "outputs": [
    {
     "name": "stdout",
     "output_type": "stream",
     "text": [
      "Even numbers in the list:  6\n",
      "Odd numbers in the list:  7\n"
     ]
    }
   ],
   "source": [
    "liste_1 = [1,45,22,69,58,55,47,45,46,48,49,50,40]\n",
    " \n",
    "even_count, odd_count = 0, 0\n",
    "num = 0\n",
    " \n",
    "   \n",
    "while (num < len(liste_1)):\n",
    "     \n",
    " \n",
    "    if liste_1[num] % 2 == 0:\n",
    "        even_count += 1\n",
    "    else:\n",
    "        odd_count += 1\n",
    "     \n",
    "\n",
    "    num += 1\n",
    "     \n",
    "print(\"Even numbers in the list: \", even_count)\n",
    "print(\"Odd numbers in the list: \", odd_count)"
   ]
  },
  {
   "cell_type": "code",
   "execution_count": 91,
   "metadata": {},
   "outputs": [
    {
     "name": "stdout",
     "output_type": "stream",
     "text": [
      "çiftler: [22, 58, 46, 48, 50, 40]\n",
      "tekler: [1, 45, 69, 55, 47, 45, 49]\n"
     ]
    }
   ],
   "source": [
    "liste_1 = [1,45,22,69,58,55,47,45,46,48,49,50,40]\n",
    "\n",
    "evens = []\n",
    "\n",
    "odds = []\n",
    "\n",
    "index = 0\n",
    "\n",
    "while index < len(liste_1):\n",
    "\n",
    "    if liste_1[index] % 2 == 0:\n",
    "        evens.append(liste_1[index])\n",
    "    else:\n",
    "        odds.append(liste_1[index])\n",
    "    \n",
    "    index += 1\n",
    "\n",
    "print(f\"çiftler: {evens}\")\n",
    "print(f\"tekler: {odds}\")"
   ]
  },
  {
   "cell_type": "code",
   "execution_count": 92,
   "metadata": {},
   "outputs": [
    {
     "name": "stdout",
     "output_type": "stream",
     "text": [
      "çiftler: [22, 58, 46, 48, 50, 40]\n",
      "tekler: [1, 45, 69, 55, 47, 45, 49]\n"
     ]
    }
   ],
   "source": [
    "liste_1 = [1,45,22,69,58,55,47,45,46,48,49,50,40]\n",
    "\n",
    "evens = []\n",
    "\n",
    "odds = []\n",
    "\n",
    "index = 0\n",
    "\n",
    "while index < len(liste_1):\n",
    "\n",
    "    if liste_1[index] % 2 == 0:\n",
    "        evens.append(liste_1[index])\n",
    "    else:\n",
    "        odds.append(liste_1[index])\n",
    "    \n",
    "    index += 1\n",
    "\n",
    "print(f\"çiftler: {evens}\")\n",
    "print(f\"tekler: {odds}\")"
   ]
  },
  {
   "cell_type": "code",
   "execution_count": null,
   "metadata": {},
   "outputs": [],
   "source": []
  }
 ],
 "metadata": {
  "kernelspec": {
   "display_name": "Python 3",
   "language": "python",
   "name": "python3"
  },
  "language_info": {
   "codemirror_mode": {
    "name": "ipython",
    "version": 3
   },
   "file_extension": ".py",
   "mimetype": "text/x-python",
   "name": "python",
   "nbconvert_exporter": "python",
   "pygments_lexer": "ipython3",
   "version": "3.9.7"
  },
  "orig_nbformat": 4,
  "vscode": {
   "interpreter": {
    "hash": "aee8b7b246df8f9039afb4144a1f6fd8d2ca17a180786b69acc140d282b71a49"
   }
  }
 },
 "nbformat": 4,
 "nbformat_minor": 2
}
