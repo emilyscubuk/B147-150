{
 "cells": [
  {
   "cell_type": "code",
   "execution_count": 98,
   "metadata": {},
   "outputs": [],
   "source": [
    "## for loop"
   ]
  },
  {
   "cell_type": "code",
   "execution_count": 99,
   "metadata": {},
   "outputs": [
    {
     "ename": "SyntaxError",
     "evalue": "invalid syntax (4089123794.py, line 2)",
     "output_type": "error",
     "traceback": [
      "\u001b[0;36m  Cell \u001b[0;32mIn[99], line 2\u001b[0;36m\u001b[0m\n\u001b[0;31m    islem satiri/lari\u001b[0m\n\u001b[0m          ^\u001b[0m\n\u001b[0;31mSyntaxError\u001b[0m\u001b[0;31m:\u001b[0m invalid syntax\n"
     ]
    }
   ],
   "source": [
    "for degisken in iterable:\n",
    "    islem satiri/lari"
   ]
  },
  {
   "cell_type": "code",
   "execution_count": null,
   "metadata": {},
   "outputs": [
    {
     "name": "stdout",
     "output_type": "stream",
     "text": [
      "T\n",
      "e\n",
      "c\n",
      "h\n",
      "p\n",
      "r\n",
      "o\n"
     ]
    }
   ],
   "source": [
    "for i in \"Techpro\":\n",
    "    print(i)"
   ]
  },
  {
   "cell_type": "code",
   "execution_count": null,
   "metadata": {},
   "outputs": [
    {
     "name": "stdout",
     "output_type": "stream",
     "text": [
      "1\n",
      "2\n",
      "3\n",
      "4\n",
      "5\n"
     ]
    }
   ],
   "source": [
    "for i in [1,2,3,4,5]:\n",
    "    print(i)"
   ]
  },
  {
   "cell_type": "code",
   "execution_count": null,
   "metadata": {},
   "outputs": [
    {
     "name": "stdout",
     "output_type": "stream",
     "text": [
      "adem\n",
      "ahmad\n",
      "filiz\n"
     ]
    }
   ],
   "source": [
    "for name in (\"adem\",\"ahmad\",\"filiz\"):\n",
    "    print(name)"
   ]
  },
  {
   "cell_type": "code",
   "execution_count": null,
   "metadata": {},
   "outputs": [
    {
     "data": {
      "text/plain": [
       "[1, 2, 3, 4, 5]"
      ]
     },
     "execution_count": 5,
     "metadata": {},
     "output_type": "execute_result"
    }
   ],
   "source": [
    "liste_1=[1,2,3,4,5]\n",
    "liste_1"
   ]
  },
  {
   "cell_type": "code",
   "execution_count": null,
   "metadata": {},
   "outputs": [
    {
     "name": "stdout",
     "output_type": "stream",
     "text": [
      "1 4 9 16 25 "
     ]
    }
   ],
   "source": [
    "for i in liste_1:\n",
    "    print(i**2,end=\" \")"
   ]
  },
  {
   "cell_type": "code",
   "execution_count": null,
   "metadata": {},
   "outputs": [
    {
     "name": "stdout",
     "output_type": "stream",
     "text": [
      "1\n",
      "4\n",
      "9\n",
      "16\n",
      "25\n"
     ]
    }
   ],
   "source": [
    "index=0\n",
    "\n",
    "while index< len(liste_1):\n",
    "    print(liste_1[index]**2)\n",
    "    index +=1\n"
   ]
  },
  {
   "cell_type": "code",
   "execution_count": null,
   "metadata": {},
   "outputs": [
    {
     "data": {
      "text/plain": [
       "{1, 4, 9, 16, 25}"
      ]
     },
     "execution_count": 10,
     "metadata": {},
     "output_type": "execute_result"
    }
   ],
   "source": [
    "{i**2 for i in [1,2,3,4,5]}"
   ]
  },
  {
   "cell_type": "code",
   "execution_count": null,
   "metadata": {},
   "outputs": [
    {
     "name": "stdout",
     "output_type": "stream",
     "text": [
      "t-e-c-h-p-r-o-"
     ]
    }
   ],
   "source": [
    "for i in \"techpro\":\n",
    "    print(i,end=\"-\",flush=True)"
   ]
  },
  {
   "cell_type": "code",
   "execution_count": null,
   "metadata": {},
   "outputs": [
    {
     "name": "stdout",
     "output_type": "stream",
     "text": [
      "t-e-c-h-p-r-o\n"
     ]
    }
   ],
   "source": [
    "empty_str=\"\"\n",
    "for i in \"techpro\":\n",
    "    empty_str += i +\"-\"\n",
    "print(empty_str.rstrip(\"-\"))   ## sondaki - i silme islemi"
   ]
  },
  {
   "cell_type": "code",
   "execution_count": null,
   "metadata": {},
   "outputs": [
    {
     "name": "stdout",
     "output_type": "stream",
     "text": [
      "['t', '-', 'e', '-', 'c', '-', 'h', '-', 'p', '-', 'r', '-', 'o', '-']\n"
     ]
    }
   ],
   "source": [
    "empty_list=[]\n",
    "for i in \"techpro\":\n",
    "    empty_list.append(i)\n",
    "    empty_list.append(\"-\")\n",
    "print(empty_list)"
   ]
  },
  {
   "cell_type": "code",
   "execution_count": null,
   "metadata": {},
   "outputs": [
    {
     "name": "stdout",
     "output_type": "stream",
     "text": [
      "['t', '-', 'e', '-', 'c', '-', 'h', '-', 'p', '-', 'r', '-', 'o']\n"
     ]
    }
   ],
   "source": [
    "empty_list=[]\n",
    "for i in \"techpro\":\n",
    "    empty_list.append(i)\n",
    "    empty_list.append(\"-\")\n",
    "empty_list.pop()\n",
    "print(empty_list)"
   ]
  },
  {
   "cell_type": "code",
   "execution_count": null,
   "metadata": {},
   "outputs": [
    {
     "name": "stdout",
     "output_type": "stream",
     "text": [
      "t-e-c-h-p-r-o\n"
     ]
    }
   ],
   "source": [
    "empty_list=[]\n",
    "for i in \"techpro\":\n",
    "    empty_list.append(i)\n",
    "    empty_list.append(\"-\")\n",
    "empty_list.pop()\n",
    "print(\"\".join(empty_list))"
   ]
  },
  {
   "cell_type": "code",
   "execution_count": null,
   "metadata": {},
   "outputs": [
    {
     "name": "stdout",
     "output_type": "stream",
     "text": [
      "t*-*e*-*c*-*h*-*p*-*r*-*o\n"
     ]
    }
   ],
   "source": [
    "empty_list=[]\n",
    "for i in \"techpro\":\n",
    "    empty_list.append(i)\n",
    "    empty_list.append(\"-\")\n",
    "empty_list.pop()\n",
    "print(\"*\".join(empty_list))"
   ]
  },
  {
   "cell_type": "code",
   "execution_count": null,
   "metadata": {},
   "outputs": [
    {
     "data": {
      "text/plain": [
       "('1', '2', '3', '4', '5')"
      ]
     },
     "execution_count": 27,
     "metadata": {},
     "output_type": "execute_result"
    }
   ],
   "source": [
    "a=tuple(\"12345\")\n",
    "a"
   ]
  },
  {
   "cell_type": "code",
   "execution_count": null,
   "metadata": {},
   "outputs": [
    {
     "name": "stdout",
     "output_type": "stream",
     "text": [
      "1 2 3 4 5 "
     ]
    }
   ],
   "source": [
    "for i in a:\n",
    "    print(i,end=\" \")   ## yan yana yazdirma optionu"
   ]
  },
  {
   "cell_type": "code",
   "execution_count": null,
   "metadata": {},
   "outputs": [
    {
     "name": "stdout",
     "output_type": "stream",
     "text": [
      "{'t', 'b', 'n', 'a', 'i', 'h', 's'}\n"
     ]
    }
   ],
   "source": [
    "b=set(\"sabahattin\")\n",
    "print(b)"
   ]
  },
  {
   "cell_type": "code",
   "execution_count": null,
   "metadata": {},
   "outputs": [
    {
     "name": "stdout",
     "output_type": "stream",
     "text": [
      "t\n",
      "b\n",
      "n\n",
      "a\n",
      "i\n",
      "h\n",
      "s\n"
     ]
    }
   ],
   "source": [
    "for i in b:\n",
    "    print(i)"
   ]
  },
  {
   "cell_type": "code",
   "execution_count": null,
   "metadata": {},
   "outputs": [
    {
     "data": {
      "text/plain": [
       "{'name': 'Ismet', 'job': 'data science', 'age': '25'}"
      ]
     },
     "execution_count": 36,
     "metadata": {},
     "output_type": "execute_result"
    }
   ],
   "source": [
    "dict_1={\"name\":\"Ismet\",\"job\":\"data science\",\"age\":\"25\"}\n",
    "dict_1"
   ]
  },
  {
   "cell_type": "code",
   "execution_count": null,
   "metadata": {},
   "outputs": [
    {
     "name": "stdout",
     "output_type": "stream",
     "text": [
      "name\n",
      "job\n",
      "age\n"
     ]
    }
   ],
   "source": [
    "for i in dict_1:\n",
    "    print(i)"
   ]
  },
  {
   "cell_type": "code",
   "execution_count": null,
   "metadata": {},
   "outputs": [
    {
     "name": "stdout",
     "output_type": "stream",
     "text": [
      "Ismet\n",
      "data science\n",
      "25\n"
     ]
    }
   ],
   "source": [
    "for i in dict_1.values():   ### value lara ulasma yontemi\n",
    "    print(i)"
   ]
  },
  {
   "cell_type": "code",
   "execution_count": null,
   "metadata": {},
   "outputs": [
    {
     "name": "stdout",
     "output_type": "stream",
     "text": [
      "name Ismet\n",
      "job data science\n",
      "age 25\n"
     ]
    }
   ],
   "source": [
    "for i,j in dict_1.items():   ## dict deki butun key ve valuelara ulasma yontemi\n",
    "    print(i,j)"
   ]
  },
  {
   "cell_type": "code",
   "execution_count": null,
   "metadata": {},
   "outputs": [
    {
     "name": "stdout",
     "output_type": "stream",
     "text": [
      "key :name, value : Ismet\n",
      "key :job, value : data science\n",
      "key :age, value : 25\n"
     ]
    }
   ],
   "source": [
    "for i,j in dict_1.items():\n",
    "    print(f\"key :{i}, value : {j}\")"
   ]
  },
  {
   "cell_type": "code",
   "execution_count": null,
   "metadata": {},
   "outputs": [
    {
     "name": "stdout",
     "output_type": "stream",
     "text": [
      "key :name       value : Ismet               \n",
      "key :job        value : data science        \n",
      "key :age        value : 25                  \n"
     ]
    }
   ],
   "source": [
    "for i,j in dict_1.items():\n",
    "    print(f\"key :{i:<10} value : {j:<20}\")"
   ]
  },
  {
   "cell_type": "code",
   "execution_count": null,
   "metadata": {},
   "outputs": [
    {
     "name": "stdout",
     "output_type": "stream",
     "text": [
      "Hoca bize ceza verdi\n",
      "Hoca bize ceza verdi\n",
      "Hoca bize ceza verdi\n",
      "Hoca bize ceza verdi\n",
      "Hoca bize ceza verdi\n",
      "Hoca bize ceza verdi\n",
      "Hoca bize ceza verdi\n",
      "Hoca bize ceza verdi\n",
      "Hoca bize ceza verdi\n",
      "Hoca bize ceza verdi\n",
      "Hoca bize ceza verdi\n",
      "Hoca bize ceza verdi\n",
      "Hoca bize ceza verdi\n",
      "Hoca bize ceza verdi\n",
      "Hoca bize ceza verdi\n",
      "Hoca bize ceza verdi\n",
      "Hoca bize ceza verdi\n",
      "Hoca bize ceza verdi\n",
      "Hoca bize ceza verdi\n",
      "Hoca bize ceza verdi\n",
      "Hoca bize ceza verdi\n",
      "Hoca bize ceza verdi\n",
      "Hoca bize ceza verdi\n",
      "Hoca bize ceza verdi\n",
      "Hoca bize ceza verdi\n",
      "Hoca bize ceza verdi\n",
      "Hoca bize ceza verdi\n",
      "Hoca bize ceza verdi\n",
      "Hoca bize ceza verdi\n",
      "Hoca bize ceza verdi\n",
      "Hoca bize ceza verdi\n",
      "Hoca bize ceza verdi\n",
      "Hoca bize ceza verdi\n",
      "Hoca bize ceza verdi\n",
      "Hoca bize ceza verdi\n",
      "Hoca bize ceza verdi\n",
      "Hoca bize ceza verdi\n",
      "Hoca bize ceza verdi\n",
      "Hoca bize ceza verdi\n",
      "Hoca bize ceza verdi\n",
      "Hoca bize ceza verdi\n",
      "Hoca bize ceza verdi\n",
      "Hoca bize ceza verdi\n",
      "Hoca bize ceza verdi\n",
      "Hoca bize ceza verdi\n",
      "Hoca bize ceza verdi\n",
      "Hoca bize ceza verdi\n",
      "Hoca bize ceza verdi\n",
      "Hoca bize ceza verdi\n",
      "Hoca bize ceza verdi\n"
     ]
    }
   ],
   "source": [
    "\n",
    "for i in range(50):\n",
    "    print(\"Hoca bize ceza verdi\")\n"
   ]
  },
  {
   "cell_type": "code",
   "execution_count": null,
   "metadata": {},
   "outputs": [
    {
     "name": "stdout",
     "output_type": "stream",
     "text": [
      "hoca bize cevap verdi\n",
      "hoca bize cevap verdi\n",
      "hoca bize cevap verdi\n",
      "hoca bize cevap verdi\n",
      "hoca bize cevap verdi\n",
      "hoca bize cevap verdi\n",
      "hoca bize cevap verdi\n",
      "hoca bize cevap verdi\n",
      "hoca bize cevap verdi\n",
      "hoca bize cevap verdi\n",
      "hoca bize cevap verdi\n",
      "hoca bize cevap verdi\n",
      "hoca bize cevap verdi\n",
      "hoca bize cevap verdi\n",
      "hoca bize cevap verdi\n",
      "hoca bize cevap verdi\n",
      "hoca bize cevap verdi\n",
      "hoca bize cevap verdi\n",
      "hoca bize cevap verdi\n",
      "hoca bize cevap verdi\n",
      "hoca bize cevap verdi\n"
     ]
    }
   ],
   "source": [
    "a=\"hoca bize cevap verdi\"\n",
    "sayac=0\n",
    "for i in a:\n",
    "    print(a)\n",
    "    sayac +=1\n",
    "    if sayac ==50:\n",
    "        break"
   ]
  },
  {
   "cell_type": "code",
   "execution_count": null,
   "metadata": {},
   "outputs": [
    {
     "name": "stdout",
     "output_type": "stream",
     "text": [
      "1.Hoca bize ceza verdi\n",
      "2.Hoca bize ceza verdi\n",
      "3.Hoca bize ceza verdi\n",
      "4.Hoca bize ceza verdi\n",
      "5.Hoca bize ceza verdi\n",
      "6.Hoca bize ceza verdi\n",
      "7.Hoca bize ceza verdi\n",
      "8.Hoca bize ceza verdi\n",
      "9.Hoca bize ceza verdi\n",
      "10.Hoca bize ceza verdi\n",
      "11.Hoca bize ceza verdi\n",
      "12.Hoca bize ceza verdi\n",
      "13.Hoca bize ceza verdi\n",
      "14.Hoca bize ceza verdi\n",
      "15.Hoca bize ceza verdi\n",
      "16.Hoca bize ceza verdi\n",
      "17.Hoca bize ceza verdi\n",
      "18.Hoca bize ceza verdi\n",
      "19.Hoca bize ceza verdi\n",
      "20.Hoca bize ceza verdi\n",
      "21.Hoca bize ceza verdi\n",
      "22.Hoca bize ceza verdi\n",
      "23.Hoca bize ceza verdi\n",
      "24.Hoca bize ceza verdi\n",
      "25.Hoca bize ceza verdi\n",
      "26.Hoca bize ceza verdi\n",
      "27.Hoca bize ceza verdi\n",
      "28.Hoca bize ceza verdi\n",
      "29.Hoca bize ceza verdi\n",
      "30.Hoca bize ceza verdi\n",
      "31.Hoca bize ceza verdi\n",
      "32.Hoca bize ceza verdi\n",
      "33.Hoca bize ceza verdi\n",
      "34.Hoca bize ceza verdi\n",
      "35.Hoca bize ceza verdi\n",
      "36.Hoca bize ceza verdi\n",
      "37.Hoca bize ceza verdi\n",
      "38.Hoca bize ceza verdi\n",
      "39.Hoca bize ceza verdi\n",
      "40.Hoca bize ceza verdi\n",
      "41.Hoca bize ceza verdi\n",
      "42.Hoca bize ceza verdi\n",
      "43.Hoca bize ceza verdi\n",
      "44.Hoca bize ceza verdi\n",
      "45.Hoca bize ceza verdi\n",
      "46.Hoca bize ceza verdi\n",
      "47.Hoca bize ceza verdi\n",
      "48.Hoca bize ceza verdi\n",
      "49.Hoca bize ceza verdi\n",
      "50.Hoca bize ceza verdi\n"
     ]
    }
   ],
   "source": [
    "for i in range(1,51):\n",
    "    print(f\"{i}.Hoca bize ceza verdi\")"
   ]
  },
  {
   "cell_type": "code",
   "execution_count": null,
   "metadata": {},
   "outputs": [
    {
     "name": "stdout",
     "output_type": "stream",
     "text": [
      "1 x8=8\n",
      "2 x8=16\n",
      "3 x8=24\n",
      "4 x8=32\n",
      "5 x8=40\n",
      "6 x8=48\n",
      "7 x8=56\n",
      "8 x8=64\n",
      "9 x8=72\n",
      "10x8=80\n"
     ]
    }
   ],
   "source": [
    "number=int(input(\"0 ile 9 arasinda bir sayi giriniz.(0 ve 9 dahil)\"))\n",
    "if x in [0,1,2,3,4,5,6,7,8,9]:\n",
    "    for i in range(1,11):\n",
    "        print(f\"{i:<2}x{number}={i*number}\")\n",
    "   \n",
    "else:\n",
    "    print(\"0 ile 9 arasinda sayi girmenizi istemistiom\")"
   ]
  },
  {
   "cell_type": "code",
   "execution_count": null,
   "metadata": {},
   "outputs": [
    {
     "ename": "SyntaxError",
     "evalue": "EOL while scanning string literal (825789813.py, line 11)",
     "output_type": "error",
     "traceback": [
      "\u001b[0;36m  Cell \u001b[0;32mIn[64], line 11\u001b[0;36m\u001b[0m\n\u001b[0;31m    print(\"0 ile 9 arasinda sayi girmenizi istemistiom.Lutfen dogru sayiyi giriniz\u001b[0m\n\u001b[0m                                                                                  ^\u001b[0m\n\u001b[0;31mSyntaxError\u001b[0m\u001b[0;31m:\u001b[0m EOL while scanning string literal\n"
     ]
    }
   ],
   "source": [
    "## hatali giristen sonra tekrar girme option\n",
    "while True:\n",
    "  \n",
    "   number=int(input(\"0 ile 9 arasinda bir sayi giriniz.(0 ve 9 dahil)\"))\n",
    "   if number in [0,1,2,3,4,5,6,7,8,9]:\n",
    "     for i in range(1,11):\n",
    "        print(f\"{i}x{number}={i*number}\")\n",
    "     break\n",
    "   \n",
    "   else:\n",
    "    print(\"0 ile 9 arasinda sayi girmenizi istemistiom.Lutfen dogru sayiyi giriniz"
   ]
  },
  {
   "cell_type": "code",
   "execution_count": null,
   "metadata": {},
   "outputs": [
    {
     "name": "stdout",
     "output_type": "stream",
     "text": [
      "0 ile 9 arasinda sayi girmenizi istemistiom.Lutfen dogru sayiyi giriniz\n",
      "0 ile 9 arasinda sayi girmenizi istemistiom.Lutfen dogru sayiyi giriniz\n",
      "0 ile 9 arasinda sayi girmenizi istemistiom.Lutfen dogru sayiyi giriniz\n",
      "0 ile 9 arasinda sayi girmenizi istemistiom.Lutfen dogru sayiyi giriniz\n",
      "1x5=5\n",
      "2x5=10\n",
      "3x5=15\n",
      "4x5=20\n",
      "5x5=25\n",
      "6x5=30\n",
      "7x5=35\n",
      "8x5=40\n",
      "9x5=45\n",
      "10x5=50\n"
     ]
    }
   ],
   "source": [
    "## hatali giristen sonra tekrar girme option\n",
    "giris_hakki=3\n",
    "while True:\n",
    "  \n",
    "   number=int(input(\"0 ile 9 arasinda bir sayi giriniz.(0 ve 9 dahil)\"))\n",
    "   if number in [0,1,2,3,4,5,6,7,8,9]:\n",
    "     for i in range(1,11):\n",
    "        print(f\"{i}x{number}={i*number}\")\n",
    "     break\n",
    "   \n",
    "   else:\n",
    "       print(\"0 ile 9 arasinda sayi girmenizi istemistiom.Lutfen dogru sayiyi giriniz\")\n",
    "       if giris_hakki==0:\n",
    "          print(\" giris hakkiniz bitti\")\n",
    "          break\n",
    "             "
   ]
  },
  {
   "cell_type": "code",
   "execution_count": null,
   "metadata": {},
   "outputs": [
    {
     "name": "stdout",
     "output_type": "stream",
     "text": [
      "1  x 5 = 5\n",
      "2  x 5 = 10\n",
      "3  x 5 = 15\n",
      "4  x 5 = 20\n",
      "5  x 5 = 25\n",
      "6  x 5 = 30\n",
      "7  x 5 = 35\n",
      "8  x 5 = 40\n",
      "9  x 5 = 45\n",
      "10 x 5 = 50\n"
     ]
    }
   ],
   "source": [
    "giriş_hakkı = 3\n",
    "while True:\n",
    "    number = int(input(\"0 ile 9 arasında bir rakam girin. (0 ve 9 dahil)\"))\n",
    "    giriş_hakkı -= 1\n",
    "    if number in [0,1,2,3,4,5,6,7,8,9]:\n",
    "        for i in range(1,11):\n",
    "            print(f\"{i:<2} x {number} = {i * number}\")\n",
    "        break\n",
    "    else:\n",
    "        print(\"0 ile 9 arasında sayı girmenizi istemiştim.\")\n",
    "    if giriş_hakkı == 0:\n",
    "        print(\"giriş hakkınız bitti\")\n",
    "        break"
   ]
  },
  {
   "cell_type": "code",
   "execution_count": null,
   "metadata": {},
   "outputs": [],
   "source": []
  },
  {
   "cell_type": "code",
   "execution_count": null,
   "metadata": {},
   "outputs": [
    {
     "name": "stdout",
     "output_type": "stream",
     "text": [
      "1  x 8 = 8\n",
      "2  x 8 = 16\n",
      "3  x 8 = 24\n",
      "4  x 8 = 32\n",
      "5  x 8 = 40\n",
      "6  x 8 = 48\n",
      "7  x 8 = 56\n",
      "8  x 8 = 64\n",
      "9  x 8 = 72\n",
      "10 x 8 = 80\n"
     ]
    }
   ],
   "source": [
    "giriş_hakkı = 3\n",
    "while True:\n",
    "    number = int(input(\"0 ile 9 arasında bir rakam girin. (0 ve 9 dahil)\"))\n",
    "    giriş_hakkı -= 1\n",
    "    if number in [0,1,2,3,4,5,6,7,8,9]:\n",
    "        for i in range(1,11):\n",
    "            print(f\"{i:<2} x {number} = {i * number}\")\n",
    "        break\n",
    "    \n",
    "    if giriş_hakkı == 0:\n",
    "        print(\"giriş hakkınız bitti\")\n",
    "        break\n",
    "    else:\n",
    "        print(\"0 ile 9 arasında sayı girmenizi istemiştim.\")"
   ]
  },
  {
   "cell_type": "code",
   "execution_count": null,
   "metadata": {},
   "outputs": [
    {
     "name": "stdout",
     "output_type": "stream",
     "text": [
      "1275\n"
     ]
    }
   ],
   "source": [
    "sum_=0\n",
    "for i in range(51):\n",
    "    sum_ +=i\n",
    "\n",
    "print(sum_)\n",
    "    "
   ]
  },
  {
   "cell_type": "code",
   "execution_count": null,
   "metadata": {},
   "outputs": [
    {
     "name": "stdout",
     "output_type": "stream",
     "text": [
      "650\n"
     ]
    }
   ],
   "source": [
    "# cift sayilarin toplami\n",
    "sum_2=0\n",
    "for i in range(0,51,2):\n",
    "    sum_2 +=i\n",
    "\n",
    "print(sum_2)"
   ]
  },
  {
   "cell_type": "code",
   "execution_count": null,
   "metadata": {},
   "outputs": [
    {
     "name": "stdout",
     "output_type": "stream",
     "text": [
      "625\n"
     ]
    }
   ],
   "source": [
    "# tek sayilarin toplami\n",
    "sum_1=0\n",
    "for i in range(1,51,2):\n",
    "    sum_1 +=i\n",
    "\n",
    "print(sum_1)"
   ]
  },
  {
   "cell_type": "code",
   "execution_count": 106,
   "metadata": {},
   "outputs": [],
   "source": [
    "del(sum)"
   ]
  },
  {
   "cell_type": "code",
   "execution_count": 107,
   "metadata": {},
   "outputs": [
    {
     "data": {
      "text/plain": [
       "1275"
      ]
     },
     "execution_count": 107,
     "metadata": {},
     "output_type": "execute_result"
    }
   ],
   "source": [
    "sum(list(range(51)))"
   ]
  },
  {
   "cell_type": "code",
   "execution_count": 110,
   "metadata": {},
   "outputs": [
    {
     "data": {
      "text/plain": [
       "39"
      ]
     },
     "execution_count": 110,
     "metadata": {},
     "output_type": "execute_result"
    }
   ],
   "source": [
    "sum((4,5,6,7,8,9))"
   ]
  },
  {
   "cell_type": "code",
   "execution_count": 111,
   "metadata": {},
   "outputs": [
    {
     "data": {
      "text/plain": [
       "45"
      ]
     },
     "execution_count": 111,
     "metadata": {},
     "output_type": "execute_result"
    }
   ],
   "source": [
    "sum((4,5,6,7,8,9),6)"
   ]
  },
  {
   "cell_type": "code",
   "execution_count": 112,
   "metadata": {},
   "outputs": [
    {
     "data": {
      "text/plain": [
       "139"
      ]
     },
     "execution_count": 112,
     "metadata": {},
     "output_type": "execute_result"
    }
   ],
   "source": [
    "sum((4,5,6,7,8,9),100)"
   ]
  },
  {
   "cell_type": "code",
   "execution_count": 113,
   "metadata": {},
   "outputs": [
    {
     "data": {
      "text/plain": [
       "40"
      ]
     },
     "execution_count": 113,
     "metadata": {},
     "output_type": "execute_result"
    }
   ],
   "source": [
    "sum((4,5,6,7,8,9),True)"
   ]
  },
  {
   "cell_type": "code",
   "execution_count": 114,
   "metadata": {},
   "outputs": [
    {
     "ename": "TypeError",
     "evalue": "sum() takes at most 2 arguments (3 given)",
     "output_type": "error",
     "traceback": [
      "\u001b[0;31m---------------------------------------------------------------------------\u001b[0m",
      "\u001b[0;31mTypeError\u001b[0m                                 Traceback (most recent call last)",
      "Cell \u001b[0;32mIn[114], line 1\u001b[0m\n\u001b[0;32m----> 1\u001b[0m \u001b[39msum\u001b[39;49m((\u001b[39m4\u001b[39;49m,\u001b[39m5\u001b[39;49m,\u001b[39m6\u001b[39;49m,\u001b[39m7\u001b[39;49m,\u001b[39m8\u001b[39;49m,\u001b[39m9\u001b[39;49m),\u001b[39mTrue\u001b[39;49;00m,\u001b[39m\"\u001b[39;49m\u001b[39ma\u001b[39;49m\u001b[39m\"\u001b[39;49m)\n",
      "\u001b[0;31mTypeError\u001b[0m: sum() takes at most 2 arguments (3 given)"
     ]
    }
   ],
   "source": [
    "sum((4,5,6,7,8,9),True,\"a\")"
   ]
  },
  {
   "cell_type": "code",
   "execution_count": 116,
   "metadata": {},
   "outputs": [
    {
     "ename": "TypeError",
     "evalue": "sum() can't sum strings [use ''.join(seq) instead]",
     "output_type": "error",
     "traceback": [
      "\u001b[0;31m---------------------------------------------------------------------------\u001b[0m",
      "\u001b[0;31mTypeError\u001b[0m                                 Traceback (most recent call last)",
      "Cell \u001b[0;32mIn[116], line 1\u001b[0m\n\u001b[0;32m----> 1\u001b[0m \u001b[39msum\u001b[39;49m(\u001b[39m\"\u001b[39;49m\u001b[39ma\u001b[39;49m\u001b[39m\"\u001b[39;49m,\u001b[39m\"\u001b[39;49m\u001b[39mb\u001b[39;49m\u001b[39m\"\u001b[39;49m)\n",
      "\u001b[0;31mTypeError\u001b[0m: sum() can't sum strings [use ''.join(seq) instead]"
     ]
    }
   ],
   "source": [
    "sum(\"a\",\"b\")  ### default degeri int 0 oldugu icin islem yapmaz"
   ]
  },
  {
   "cell_type": "code",
   "execution_count": 117,
   "metadata": {},
   "outputs": [],
   "source": [
    "###  break, continue"
   ]
  },
  {
   "cell_type": "code",
   "execution_count": 118,
   "metadata": {},
   "outputs": [
    {
     "name": "stdout",
     "output_type": "stream",
     "text": [
      "1\n",
      "2\n",
      "3\n",
      "4\n",
      "5\n",
      "6\n",
      "7\n",
      "8\n",
      "9\n"
     ]
    }
   ],
   "source": [
    "for i in [1,2,3,4,5,6,7,8,9]:\n",
    "    print(i)"
   ]
  },
  {
   "cell_type": "code",
   "execution_count": 121,
   "metadata": {},
   "outputs": [
    {
     "name": "stdout",
     "output_type": "stream",
     "text": [
      "1\n",
      "2\n",
      "3\n",
      "9\n"
     ]
    }
   ],
   "source": [
    "for i in [1,2,3,4,5,6,7,8,9]:\n",
    "    print(i)\n",
    "    if i % 3==0:\n",
    "        print(i**2)\n",
    "        break"
   ]
  },
  {
   "cell_type": "code",
   "execution_count": 122,
   "metadata": {},
   "outputs": [
    {
     "name": "stdout",
     "output_type": "stream",
     "text": [
      "1\n",
      "2\n",
      "3\n",
      "9\n",
      "4\n",
      "5\n",
      "6\n",
      "36\n",
      "7\n",
      "8\n",
      "9\n",
      "81\n"
     ]
    }
   ],
   "source": [
    "for i in [1,2,3,4,5,6,7,8,9]:\n",
    "    print(i)\n",
    "    if i % 3==0:\n",
    "        print(i**2)\n",
    "        continue"
   ]
  },
  {
   "cell_type": "code",
   "execution_count": 130,
   "metadata": {},
   "outputs": [
    {
     "data": {
      "text/plain": [
       "45"
      ]
     },
     "execution_count": 130,
     "metadata": {},
     "output_type": "execute_result"
    }
   ],
   "source": [
    "sum(range(1,10))"
   ]
  },
  {
   "cell_type": "code",
   "execution_count": 131,
   "metadata": {},
   "outputs": [
    {
     "name": "stdout",
     "output_type": "stream",
     "text": [
      "34\n"
     ]
    }
   ],
   "source": [
    "k=0\n",
    "for i in [1,2,3,4,5,6,7,8,9]:\n",
    "   \n",
    "    if i==5 or i==6:    ## 5 i toplamaya dahil etmedik\n",
    "        continue\n",
    "    k +=i\n",
    "\n",
    "print(k)\n"
   ]
  },
  {
   "cell_type": "code",
   "execution_count": 135,
   "metadata": {},
   "outputs": [
    {
     "name": "stdout",
     "output_type": "stream",
     "text": [
      "96\n"
     ]
    }
   ],
   "source": [
    "for i in [1,4,6,8,9,5,4,7,27,26,30,33,48]:\n",
    "\n",
    "    if i%3==0:\n",
    "       continue\n",
    "i +=i\n",
    "print(i)"
   ]
  },
  {
   "cell_type": "code",
   "execution_count": 136,
   "metadata": {},
   "outputs": [
    {
     "name": "stdout",
     "output_type": "stream",
     "text": [
      "t\n",
      "e\n",
      "c\n",
      "h\n",
      "r\n",
      "o\n"
     ]
    }
   ],
   "source": [
    "for i in \"techpro\":\n",
    "    if i==\"p\":\n",
    "        continue\n",
    "    print(i)"
   ]
  },
  {
   "cell_type": "code",
   "execution_count": 138,
   "metadata": {},
   "outputs": [],
   "source": [
    "### zip()"
   ]
  },
  {
   "cell_type": "code",
   "execution_count": 141,
   "metadata": {},
   "outputs": [],
   "source": [
    "a = [\"apple\", \"banana\",\"orange\"]\n",
    "b = [1,2,3]"
   ]
  },
  {
   "cell_type": "code",
   "execution_count": 142,
   "metadata": {},
   "outputs": [
    {
     "data": {
      "text/plain": [
       "<zip at 0x7f9de8af00c0>"
      ]
     },
     "execution_count": 142,
     "metadata": {},
     "output_type": "execute_result"
    }
   ],
   "source": [
    "zip(a,b)"
   ]
  },
  {
   "cell_type": "code",
   "execution_count": 143,
   "metadata": {},
   "outputs": [
    {
     "data": {
      "text/plain": [
       "[('apple', 1), ('banana', 2), ('orange', 3)]"
      ]
     },
     "execution_count": 143,
     "metadata": {},
     "output_type": "execute_result"
    }
   ],
   "source": [
    "list(zip(a,b))"
   ]
  },
  {
   "cell_type": "code",
   "execution_count": 144,
   "metadata": {},
   "outputs": [
    {
     "data": {
      "text/plain": [
       "{'apple': 1, 'banana': 2, 'orange': 3}"
      ]
     },
     "execution_count": 144,
     "metadata": {},
     "output_type": "execute_result"
    }
   ],
   "source": [
    "dict(zip(a,b))"
   ]
  },
  {
   "cell_type": "code",
   "execution_count": 147,
   "metadata": {},
   "outputs": [],
   "source": [
    "x=\"techpro\"\n",
    "y=\"sedat\"\n",
    "z=\"ali\"\n"
   ]
  },
  {
   "cell_type": "code",
   "execution_count": 148,
   "metadata": {},
   "outputs": [
    {
     "data": {
      "text/plain": [
       "[('t', 's', 'a'), ('e', 'e', 'l'), ('c', 'd', 'i')]"
      ]
     },
     "execution_count": 148,
     "metadata": {},
     "output_type": "execute_result"
    }
   ],
   "source": [
    "list(zip(x,y,z))"
   ]
  },
  {
   "cell_type": "code",
   "execution_count": 150,
   "metadata": {},
   "outputs": [
    {
     "data": {
      "text/plain": [
       "[]"
      ]
     },
     "execution_count": 150,
     "metadata": {},
     "output_type": "execute_result"
    }
   ],
   "source": [
    "list(zip(\"techpro\",[],(1,2,3)))"
   ]
  },
  {
   "cell_type": "code",
   "execution_count": null,
   "metadata": {},
   "outputs": [],
   "source": []
  }
 ],
 "metadata": {
  "kernelspec": {
   "display_name": "Python 3",
   "language": "python",
   "name": "python3"
  },
  "language_info": {
   "codemirror_mode": {
    "name": "ipython",
    "version": 3
   },
   "file_extension": ".py",
   "mimetype": "text/x-python",
   "name": "python",
   "nbconvert_exporter": "python",
   "pygments_lexer": "ipython3",
   "version": "3.9.7"
  },
  "orig_nbformat": 4,
  "vscode": {
   "interpreter": {
    "hash": "aee8b7b246df8f9039afb4144a1f6fd8d2ca17a180786b69acc140d282b71a49"
   }
  }
 },
 "nbformat": 4,
 "nbformat_minor": 2
}
