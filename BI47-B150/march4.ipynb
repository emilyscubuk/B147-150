{
 "cells": [
  {
   "cell_type": "code",
   "execution_count": 1,
   "metadata": {},
   "outputs": [
    {
     "ename": "TypeError",
     "evalue": "can only concatenate str (not \"int\") to str",
     "output_type": "error",
     "traceback": [
      "\u001b[0;31m---------------------------------------------------------------------------\u001b[0m",
      "\u001b[0;31mTypeError\u001b[0m                                 Traceback (most recent call last)",
      "Cell \u001b[0;32mIn[1], line 1\u001b[0m\n\u001b[0;32m----> 1\u001b[0m \u001b[39m\"\u001b[39;49m\u001b[39m4\u001b[39;49m\u001b[39m\"\u001b[39;49m\u001b[39m+\u001b[39;49m\u001b[39m5\u001b[39;49m\n",
      "\u001b[0;31mTypeError\u001b[0m: can only concatenate str (not \"int\") to str"
     ]
    }
   ],
   "source": [
    "\"4\"+5"
   ]
  },
  {
   "cell_type": "code",
   "execution_count": 3,
   "metadata": {},
   "outputs": [
    {
     "name": "stdout",
     "output_type": "stream",
     "text": [
      "hayati gosterme calismaya devam et\n"
     ]
    }
   ],
   "source": [
    "try:\n",
    "    \"4\"+5\n",
    "except:\n",
    "        print(\"hayati gosterme calismaya devam et\")"
   ]
  },
  {
   "cell_type": "code",
   "execution_count": 4,
   "metadata": {},
   "outputs": [
    {
     "name": "stdout",
     "output_type": "stream",
     "text": [
      "16\n"
     ]
    }
   ],
   "source": [
    "try:\n",
    "    print(4**2)\n",
    "except:\n",
    "    print(\"hatali cikmasin!! nolur\")"
   ]
  },
  {
   "cell_type": "code",
   "execution_count": 6,
   "metadata": {},
   "outputs": [
    {
     "name": "stdout",
     "output_type": "stream",
     "text": [
      "hayati gosterme calismaya devam et\n"
     ]
    }
   ],
   "source": [
    "try:\n",
    "    \"4\"+5\n",
    "except TypeError:\n",
    "        print(\"hayati gosterme calismaya devam et\")"
   ]
  },
  {
   "cell_type": "code",
   "execution_count": 8,
   "metadata": {},
   "outputs": [
    {
     "ename": "TypeError",
     "evalue": "can only concatenate str (not \"int\") to str",
     "output_type": "error",
     "traceback": [
      "\u001b[0;31m---------------------------------------------------------------------------\u001b[0m",
      "\u001b[0;31mTypeError\u001b[0m                                 Traceback (most recent call last)",
      "Cell \u001b[0;32mIn[8], line 2\u001b[0m\n\u001b[1;32m      1\u001b[0m \u001b[39mtry\u001b[39;00m:\n\u001b[0;32m----> 2\u001b[0m     \u001b[39m\"\u001b[39;49m\u001b[39m4\u001b[39;49m\u001b[39m\"\u001b[39;49m\u001b[39m+\u001b[39;49m\u001b[39m5\u001b[39;49m\n\u001b[1;32m      3\u001b[0m \u001b[39mexcept\u001b[39;00m \u001b[39mNameError\u001b[39;00m:\n\u001b[1;32m      4\u001b[0m         \u001b[39mprint\u001b[39m(\u001b[39m\"\u001b[39m\u001b[39mhayati gosterme calismaya devam et\u001b[39m\u001b[39m\"\u001b[39m)\n",
      "\u001b[0;31mTypeError\u001b[0m: can only concatenate str (not \"int\") to str"
     ]
    }
   ],
   "source": [
    "try:\n",
    "    \"4\"+5\n",
    "except NameError:\n",
    "        print(\"hayati gosterme calismaya devam et\")"
   ]
  },
  {
   "cell_type": "code",
   "execution_count": 14,
   "metadata": {},
   "outputs": [
    {
     "name": "stdout",
     "output_type": "stream",
     "text": [
      "14.833333333333334\n"
     ]
    }
   ],
   "source": [
    "x= int(input(\"Bir sayi giriniz\"))\n",
    "y= int(input(\"Bir sayi giriniz\"))\n",
    "try:\n",
    "    print(x/y)\n",
    "except:\n",
    "    print(\"Bu yaziyi goruyorsaniz girdiginiz sayilarda hata var demektir\")"
   ]
  },
  {
   "cell_type": "code",
   "execution_count": 19,
   "metadata": {},
   "outputs": [
    {
     "name": "stdout",
     "output_type": "stream",
     "text": [
      "Bu yaziyi goruyorsaniz girdiginiz sayilarda hata var demektir\n"
     ]
    }
   ],
   "source": [
    "x= (input(\"Bir sayi giriniz\"))\n",
    "y= (input(\"Bir sayi giriniz\"))\n",
    "try:\n",
    "    print(int(x)/int(y))\n",
    "except:\n",
    "    print(\"Bu yaziyi goruyorsaniz girdiginiz sayilarda hata var demektir\")"
   ]
  },
  {
   "cell_type": "code",
   "execution_count": 24,
   "metadata": {},
   "outputs": [
    {
     "name": "stdout",
     "output_type": "stream",
     "text": [
      "Bu yaziyi goruyorsaniz girdiginiz ikinci sayi sifirdir ve bir sayi sifira bolunemez\n"
     ]
    }
   ],
   "source": [
    "x= (input(\"Bir sayi giriniz\"))  ## 8\n",
    "y= (input(\"Bir sayi giriniz\")) ##0\n",
    "try:\n",
    "    print(int(x) / int(y))\n",
    "except ValueError:\n",
    "    print(\"Bu yaziyi goruyorsaniz girdiginiz sayilarda hata var demektir\")\n",
    "except ZeroDivisionError:\n",
    "    print(\"Bu yaziyi goruyorsaniz girdiginiz ikinci sayi sifirdir ve bir sayi sifira bolunemez\")\n",
    "    \n",
    "    "
   ]
  },
  {
   "cell_type": "code",
   "execution_count": 30,
   "metadata": {},
   "outputs": [
    {
     "name": "stdout",
     "output_type": "stream",
     "text": [
      "0.5625\n"
     ]
    }
   ],
   "source": [
    "x= (input(\"Bir sayi giriniz\"))  \n",
    "y= (input(\"Bir sayi giriniz\")) \n",
    "try:\n",
    "\n",
    "    a=int(x) / int(y)\n",
    "except ValueError:\n",
    "    print(\"Bu yaziyi goruyorsaniz girdiginiz sayilarda hata var demektir\")\n",
    "except ZeroDivisionError:\n",
    "    print(\"Bu yaziyi goruyorsaniz girdiginiz ikinci sayi sifirdir ve bir sayi sifira bolunemez\")\n",
    "else:\n",
    "    print(a**2)\n",
    "    \n",
    "    "
   ]
  },
  {
   "cell_type": "code",
   "execution_count": 37,
   "metadata": {},
   "outputs": [
    {
     "name": "stdout",
     "output_type": "stream",
     "text": [
      "Bu yaziyi goruyorsaniz girdiginiz sayilarda hata var demektir\n"
     ]
    }
   ],
   "source": [
    "x= (input(\"Bir sayi giriniz\"))  \n",
    "y= (input(\"Bir sayi giriniz\")) \n",
    "try:\n",
    "\n",
    "    a=int(x) / int(y)\n",
    "    print(a**2)\n",
    "except ValueError:\n",
    "    print(\"Bu yaziyi goruyorsaniz girdiginiz sayilarda hata var demektir\")\n",
    "except ZeroDivisionError:\n",
    "    print(\"Bu yaziyi goruyor4saniz girdiginiz ikinci sayi sifirdir ve bir sayi sifira bolunemez\")\n"
   ]
  },
  {
   "cell_type": "code",
   "execution_count": 36,
   "metadata": {},
   "outputs": [
    {
     "name": "stdout",
     "output_type": "stream",
     "text": [
      "odulunuz 100 birim\n"
     ]
    }
   ],
   "source": [
    "x= (input(\"Bir sayi giriniz\"))  \n",
    "y= (input(\"Bir sayi giriniz\")) \n",
    "try:\n",
    "\n",
    "    a=int(x) / int(y)\n",
    "    print(a**2)\n",
    "except (ValueError, ZeroDivisionError):\n",
    "    print(\"odulunuz 100 birim\")"
   ]
  },
  {
   "cell_type": "code",
   "execution_count": 38,
   "metadata": {},
   "outputs": [
    {
     "name": "stdout",
     "output_type": "stream",
     "text": [
      "15\n",
      "45\n",
      "48\n"
     ]
    }
   ],
   "source": [
    "liste=[\"15\",\"aa15\",\"45\",\"asdeddcds48\",\"48\"]\n",
    "for i in liste:\n",
    "    try:\n",
    "        type(int(i))==int\n",
    "        print(i)\n",
    "    except:\n",
    "        continue\n",
    "    \n"
   ]
  },
  {
   "cell_type": "code",
   "execution_count": null,
   "metadata": {},
   "outputs": [],
   "source": [
    "\n",
    "while True:\n",
    "    x= (input(\"Bir sayi giriniz\"))\n",
    "    y= (input(\"Bir sayi giriniz\"))  \n",
    "\n",
    "\n",
    " \n",
    "    try:\n",
    "\n",
    "        a=int(x) / int(y)\n",
    "        print(\"Girilen iki sayinin bolumu:\",a)\n",
    "        break\n",
    "\n",
    "    except (ValueError, ZeroDivisionError):\n",
    "        print(\"Sayilari dogru girdiiginizden emin olun\")"
   ]
  },
  {
   "cell_type": "code",
   "execution_count": 49,
   "metadata": {},
   "outputs": [
    {
     "name": "stdout",
     "output_type": "stream",
     "text": [
      "Hadi baslayalim\n",
      "0.4444444444444444\n",
      "Beni kimse durduramaz.Her harikualde calisirim ben \n"
     ]
    }
   ],
   "source": [
    "x= (input(\"Bir sayi giriniz\"))  \n",
    "y= (input(\"Bir sayi giriniz\")) \n",
    "try:\n",
    "    print(\"Hadi baslayalim\")\n",
    "    a=int(x)/int(y)\n",
    "\n",
    "except ValueError:\n",
    "    print(\"Bu yaziyi goruyorsaniz girdiginiz sayilarda hata var demektir\")\n",
    "except ZeroDivisionError:\n",
    "    print(\"Bu yaziyi goruyor4saniz girdiginiz ikinci sayi sifirdir ve bir sayi sifira bolunemez\")\n",
    "else:\n",
    "    print(a**2)\n",
    "finally:\n",
    "    print(\"Beni kimse durduramaz.Her harikualde calisirim ben \")\n"
   ]
  },
  {
   "cell_type": "code",
   "execution_count": 50,
   "metadata": {},
   "outputs": [
    {
     "name": "stdout",
     "output_type": "stream",
     "text": [
      "Hadi başlayalım\n",
      "64\n",
      "Bu yazıyı görüyorsanız girdiğiniz sayı/sayılarda hata var demektir.\n",
      "Beni kimse durduramaz. Her halükarda çalışırım ben\n"
     ]
    }
   ],
   "source": [
    "x = (input(\"Bir sayı girin\")) \n",
    "y = (input(\"Bir sayı girin\")) \n",
    "\n",
    "try:\n",
    "    print(\"Hadi başlayalım\")\n",
    "    print(4 ** 3)\n",
    "    a = int(x) / int(y)\n",
    "except ValueError:\n",
    "    print(\"Bu yazıyı görüyorsanız girdiğiniz sayı/sayılarda hata var demektir.\")\n",
    "except ZeroDivisionError:\n",
    "    print(\"Bu yazıyı görüyorsanız girdiğiniz ikinci sayı sıfırdır ve bir sayı sıfıra bölünemez.\")\n",
    "else:\n",
    "    print(a ** 2)\n",
    "finally:\n",
    "    print(\"Beni kimse durduramaz. Her halükarda çalışırım ben\")"
   ]
  },
  {
   "attachments": {},
   "cell_type": "markdown",
   "metadata": {},
   "source": [
    "# Moduls"
   ]
  },
  {
   "cell_type": "code",
   "execution_count": 51,
   "metadata": {},
   "outputs": [],
   "source": [
    "import random"
   ]
  },
  {
   "cell_type": "code",
   "execution_count": 52,
   "metadata": {},
   "outputs": [
    {
     "data": {
      "text/plain": [
       "5"
      ]
     },
     "execution_count": 52,
     "metadata": {},
     "output_type": "execute_result"
    }
   ],
   "source": [
    "random.choice([1,2,3,4,5,6,7,8])"
   ]
  },
  {
   "cell_type": "code",
   "execution_count": 53,
   "metadata": {},
   "outputs": [],
   "source": [
    "liste1=[1,2,3,4,5,6,7,8,9]"
   ]
  },
  {
   "cell_type": "code",
   "execution_count": 54,
   "metadata": {},
   "outputs": [],
   "source": [
    "random.shuffle(liste1)"
   ]
  },
  {
   "cell_type": "code",
   "execution_count": 55,
   "metadata": {},
   "outputs": [],
   "source": [
    "import string"
   ]
  },
  {
   "cell_type": "code",
   "execution_count": 56,
   "metadata": {},
   "outputs": [
    {
     "data": {
      "text/plain": [
       "'!\"#$%&\\'()*+,-./:;<=>?@[\\\\]^_`{|}~'"
      ]
     },
     "execution_count": 56,
     "metadata": {},
     "output_type": "execute_result"
    }
   ],
   "source": [
    "string.punctuation"
   ]
  },
  {
   "cell_type": "code",
   "execution_count": 59,
   "metadata": {},
   "outputs": [
    {
     "data": {
      "text/plain": [
       "<string.Formatter at 0x7f801057b550>"
      ]
     },
     "execution_count": 59,
     "metadata": {},
     "output_type": "execute_result"
    }
   ],
   "source": [
    "string.Formatter()"
   ]
  },
  {
   "cell_type": "code",
   "execution_count": 60,
   "metadata": {},
   "outputs": [
    {
     "data": {
      "text/plain": [
       "'abcdefghijklmnopqrstuvwxyzABCDEFGHIJKLMNOPQRSTUVWXYZ'"
      ]
     },
     "execution_count": 60,
     "metadata": {},
     "output_type": "execute_result"
    }
   ],
   "source": [
    "string.ascii_letters"
   ]
  },
  {
   "cell_type": "code",
   "execution_count": 62,
   "metadata": {},
   "outputs": [
    {
     "name": "stdout",
     "output_type": "stream",
     "text": [
      "Collecting rembg\n",
      "  Downloading rembg-2.0.30-py3-none-any.whl (13 kB)\n",
      "Collecting opencv-python-headless~=4.6.0.66\n",
      "  Downloading opencv_python_headless-4.6.0.66-cp36-abi3-macosx_10_15_x86_64.whl (46.4 MB)\n",
      "\u001b[K     |████████████████████████████████| 46.4 MB 5.5 MB/s eta 0:00:01\n",
      "\u001b[?25hCollecting watchdog~=2.1.9\n",
      "  Downloading watchdog-2.1.9-cp39-cp39-macosx_10_9_x86_64.whl (87 kB)\n",
      "\u001b[K     |████████████████████████████████| 87 kB 19.3 MB/s eta 0:00:01\n",
      "\u001b[?25hCollecting pymatting~=1.1.8\n",
      "  Downloading PyMatting-1.1.8-py3-none-any.whl (47 kB)\n",
      "\u001b[K     |████████████████████████████████| 47 kB 17.2 MB/s eta 0:00:01\n",
      "\u001b[?25hCollecting pooch~=1.6.0\n",
      "  Downloading pooch-1.6.0-py3-none-any.whl (56 kB)\n",
      "\u001b[K     |████████████████████████████████| 56 kB 10.1 MB/s eta 0:00:01\n",
      "\u001b[?25hCollecting uvicorn~=0.20.0\n",
      "  Downloading uvicorn-0.20.0-py3-none-any.whl (56 kB)\n",
      "\u001b[K     |████████████████████████████████| 56 kB 24.4 MB/s eta 0:00:01\n",
      "\u001b[?25hCollecting fastapi~=0.87.0\n",
      "  Downloading fastapi-0.87.0-py3-none-any.whl (55 kB)\n",
      "\u001b[K     |████████████████████████████████| 55 kB 9.5 MB/s  eta 0:00:01\n",
      "\u001b[?25hCollecting aiohttp~=3.8.1\n",
      "  Downloading aiohttp-3.8.4-cp39-cp39-macosx_10_9_x86_64.whl (360 kB)\n",
      "\u001b[K     |████████████████████████████████| 360 kB 5.7 MB/s eta 0:00:01\n",
      "\u001b[?25hCollecting asyncer~=0.0.2\n",
      "  Downloading asyncer-0.0.2-py3-none-any.whl (8.3 kB)\n",
      "Collecting numpy~=1.23.5\n",
      "  Downloading numpy-1.23.5-cp39-cp39-macosx_10_9_x86_64.whl (18.1 MB)\n",
      "\u001b[K     |████████████████████████████████| 18.1 MB 11.5 MB/s eta 0:00:01\n",
      "\u001b[?25hCollecting onnxruntime~=1.13.1\n",
      "  Downloading onnxruntime-1.13.1-cp39-cp39-macosx_10_15_x86_64.whl (6.2 MB)\n",
      "\u001b[K     |████████████████████████████████| 6.2 MB 9.7 MB/s eta 0:00:01\n",
      "\u001b[?25hCollecting imagehash~=4.3.1\n",
      "  Downloading ImageHash-4.3.1-py2.py3-none-any.whl (296 kB)\n",
      "\u001b[K     |████████████████████████████████| 296 kB 26.3 MB/s eta 0:00:01\n",
      "\u001b[?25hCollecting pillow~=9.3.0\n",
      "  Downloading Pillow-9.3.0-cp39-cp39-macosx_10_10_x86_64.whl (3.3 MB)\n",
      "\u001b[K     |████████████████████████████████| 3.3 MB 24.8 MB/s eta 0:00:01\n",
      "\u001b[?25hCollecting scipy~=1.9.3\n",
      "  Downloading scipy-1.9.3-cp39-cp39-macosx_10_9_x86_64.whl (34.3 MB)\n",
      "\u001b[K     |████████████████████████████████| 34.3 MB 21.0 MB/s eta 0:00:01\n",
      "\u001b[?25hCollecting python-multipart~=0.0.5\n",
      "  Downloading python_multipart-0.0.6-py3-none-any.whl (45 kB)\n",
      "\u001b[K     |████████████████████████████████| 45 kB 15.9 MB/s eta 0:00:01\n",
      "\u001b[?25hCollecting tqdm~=4.64.1\n",
      "  Downloading tqdm-4.64.1-py2.py3-none-any.whl (78 kB)\n",
      "\u001b[K     |████████████████████████████████| 78 kB 18.6 MB/s eta 0:00:01\n",
      "\u001b[?25hCollecting scikit-image~=0.19.3\n",
      "  Downloading scikit_image-0.19.3-cp39-cp39-macosx_10_13_x86_64.whl (13.3 MB)\n",
      "\u001b[K     |████████████████████████████████| 13.3 MB 428 kB/s eta 0:00:01\n",
      "\u001b[?25hCollecting click~=8.1.3\n",
      "  Downloading click-8.1.3-py3-none-any.whl (96 kB)\n",
      "\u001b[K     |████████████████████████████████| 96 kB 16.8 MB/s eta 0:00:01\n",
      "\u001b[?25hCollecting filetype~=1.2.0\n",
      "  Downloading filetype-1.2.0-py2.py3-none-any.whl (19 kB)\n",
      "Collecting multidict<7.0,>=4.5\n",
      "  Downloading multidict-6.0.4-cp39-cp39-macosx_10_9_x86_64.whl (29 kB)\n",
      "Collecting yarl<2.0,>=1.0\n",
      "  Downloading yarl-1.8.2-cp39-cp39-macosx_10_9_x86_64.whl (61 kB)\n",
      "\u001b[K     |████████████████████████████████| 61 kB 16.5 MB/s eta 0:00:01\n",
      "\u001b[?25hCollecting async-timeout<5.0,>=4.0.0a3\n",
      "  Downloading async_timeout-4.0.2-py3-none-any.whl (5.8 kB)\n",
      "Collecting frozenlist>=1.1.1\n",
      "  Downloading frozenlist-1.3.3-cp39-cp39-macosx_10_9_x86_64.whl (36 kB)\n",
      "Collecting aiosignal>=1.1.2\n",
      "  Downloading aiosignal-1.3.1-py3-none-any.whl (7.6 kB)\n",
      "Collecting charset-normalizer<4.0,>=2.0\n",
      "  Downloading charset_normalizer-3.0.1-cp39-cp39-macosx_10_9_x86_64.whl (124 kB)\n",
      "\u001b[K     |████████████████████████████████| 124 kB 6.9 MB/s eta 0:00:01\n",
      "\u001b[?25hRequirement already satisfied: attrs>=17.3.0 in /Users/sibel/Library/Python/3.9/lib/python/site-packages (from aiohttp~=3.8.1->rembg) (22.2.0)\n",
      "Requirement already satisfied: anyio<4.0.0,>=3.4.0 in /Users/sibel/Library/Python/3.9/lib/python/site-packages (from asyncer~=0.0.2->rembg) (3.6.2)\n",
      "Requirement already satisfied: sniffio>=1.1 in /Users/sibel/Library/Python/3.9/lib/python/site-packages (from anyio<4.0.0,>=3.4.0->asyncer~=0.0.2->rembg) (1.3.0)\n",
      "Requirement already satisfied: idna>=2.8 in /Users/sibel/Library/Python/3.9/lib/python/site-packages (from anyio<4.0.0,>=3.4.0->asyncer~=0.0.2->rembg) (3.4)\n",
      "Collecting pydantic!=1.7,!=1.7.1,!=1.7.2,!=1.7.3,!=1.8,!=1.8.1,<2.0.0,>=1.6.2\n",
      "  Downloading pydantic-1.10.5-cp39-cp39-macosx_10_9_x86_64.whl (2.9 MB)\n",
      "\u001b[K     |████████████████████████████████| 2.9 MB 32.0 MB/s eta 0:00:01\n",
      "\u001b[?25hCollecting starlette==0.21.0\n",
      "  Downloading starlette-0.21.0-py3-none-any.whl (64 kB)\n",
      "\u001b[K     |████████████████████████████████| 64 kB 9.4 MB/s  eta 0:00:01\n",
      "\u001b[?25hCollecting typing-extensions>=3.10.0\n",
      "  Downloading typing_extensions-4.5.0-py3-none-any.whl (27 kB)\n",
      "Collecting PyWavelets\n",
      "  Downloading PyWavelets-1.4.1-cp39-cp39-macosx_10_13_x86_64.whl (4.4 MB)\n",
      "\u001b[K     |████████████████████████████████| 4.4 MB 25.6 MB/s eta 0:00:01\n",
      "\u001b[?25hRequirement already satisfied: packaging in /Users/sibel/Library/Python/3.9/lib/python/site-packages (from onnxruntime~=1.13.1->rembg) (23.0)\n",
      "Collecting protobuf\n",
      "  Downloading protobuf-4.22.0-cp37-abi3-macosx_10_9_universal2.whl (397 kB)\n",
      "\u001b[K     |████████████████████████████████| 397 kB 18.8 MB/s eta 0:00:01\n",
      "\u001b[?25hCollecting coloredlogs\n",
      "  Downloading coloredlogs-15.0.1-py2.py3-none-any.whl (46 kB)\n",
      "\u001b[K     |████████████████████████████████| 46 kB 9.7 MB/s  eta 0:00:01\n",
      "\u001b[?25hCollecting sympy\n",
      "  Downloading sympy-1.11.1-py3-none-any.whl (6.5 MB)\n",
      "\u001b[K     |████████████████████████████████| 6.5 MB 30.9 MB/s eta 0:00:01\n",
      "\u001b[?25hCollecting flatbuffers\n",
      "  Downloading flatbuffers-23.3.3-py2.py3-none-any.whl (26 kB)\n",
      "Collecting appdirs>=1.3.0\n",
      "  Downloading appdirs-1.4.4-py2.py3-none-any.whl (9.6 kB)\n",
      "Collecting requests>=2.19.0\n",
      "  Downloading requests-2.28.2-py3-none-any.whl (62 kB)\n",
      "\u001b[K     |████████████████████████████████| 62 kB 8.5 MB/s  eta 0:00:01\n",
      "\u001b[?25hCollecting numba!=0.49.0\n",
      "  Downloading numba-0.56.4-cp39-cp39-macosx_10_14_x86_64.whl (2.4 MB)\n",
      "\u001b[K     |████████████████████████████████| 2.4 MB 40.7 MB/s eta 0:00:01\n",
      "\u001b[?25hCollecting llvmlite<0.40,>=0.39.0dev0\n",
      "  Downloading llvmlite-0.39.1-cp39-cp39-macosx_10_9_x86_64.whl (25.5 MB)\n",
      "\u001b[K     |████████████████████████████████| 25.5 MB 13.2 MB/s eta 0:00:01\n",
      "\u001b[?25hRequirement already satisfied: setuptools in /Library/Frameworks/Python.framework/Versions/3.9/lib/python3.9/site-packages (from numba!=0.49.0->pymatting~=1.1.8->rembg) (57.4.0)\n",
      "Collecting certifi>=2017.4.17\n",
      "  Downloading certifi-2022.12.7-py3-none-any.whl (155 kB)\n",
      "\u001b[K     |████████████████████████████████| 155 kB 18.1 MB/s eta 0:00:01\n",
      "\u001b[?25hCollecting urllib3<1.27,>=1.21.1\n",
      "  Downloading urllib3-1.26.14-py2.py3-none-any.whl (140 kB)\n",
      "\u001b[K     |████████████████████████████████| 140 kB 16.7 MB/s eta 0:00:01\n",
      "\u001b[?25hCollecting tifffile>=2019.7.26\n",
      "  Downloading tifffile-2023.2.28-py3-none-any.whl (216 kB)\n",
      "\u001b[K     |████████████████████████████████| 216 kB 37.8 MB/s eta 0:00:01\n",
      "\u001b[?25hCollecting imageio>=2.4.1\n",
      "  Downloading imageio-2.26.0-py3-none-any.whl (3.4 MB)\n",
      "\u001b[K     |████████████████████████████████| 3.4 MB 7.1 MB/s eta 0:00:01\n",
      "\u001b[?25hCollecting networkx>=2.2\n",
      "  Downloading networkx-3.0-py3-none-any.whl (2.0 MB)\n",
      "\u001b[K     |████████████████████████████████| 2.0 MB 21.7 MB/s eta 0:00:01\n",
      "\u001b[?25hCollecting h11>=0.8\n",
      "  Downloading h11-0.14.0-py3-none-any.whl (58 kB)\n",
      "\u001b[K     |████████████████████████████████| 58 kB 17.0 MB/s eta 0:00:01\n",
      "\u001b[?25hCollecting humanfriendly>=9.1\n",
      "  Downloading humanfriendly-10.0-py2.py3-none-any.whl (86 kB)\n",
      "\u001b[K     |████████████████████████████████| 86 kB 22.7 MB/s eta 0:00:01\n",
      "\u001b[?25hCollecting mpmath>=0.19\n",
      "  Downloading mpmath-1.2.1-py3-none-any.whl (532 kB)\n",
      "\u001b[K     |████████████████████████████████| 532 kB 28.8 MB/s eta 0:00:01\n",
      "\u001b[?25hInstalling collected packages: urllib3, typing-extensions, pillow, numpy, multidict, mpmath, llvmlite, humanfriendly, frozenlist, charset-normalizer, certifi, yarl, tifffile, sympy, starlette, scipy, requests, PyWavelets, pydantic, protobuf, numba, networkx, imageio, h11, flatbuffers, coloredlogs, click, async-timeout, appdirs, aiosignal, watchdog, uvicorn, tqdm, scikit-image, python-multipart, pymatting, pooch, opencv-python-headless, onnxruntime, imagehash, filetype, fastapi, asyncer, aiohttp, rembg\n",
      "Successfully installed PyWavelets-1.4.1 aiohttp-3.8.4 aiosignal-1.3.1 appdirs-1.4.4 async-timeout-4.0.2 asyncer-0.0.2 certifi-2022.12.7 charset-normalizer-3.0.1 click-8.1.3 coloredlogs-15.0.1 fastapi-0.87.0 filetype-1.2.0 flatbuffers-23.3.3 frozenlist-1.3.3 h11-0.14.0 humanfriendly-10.0 imagehash-4.3.1 imageio-2.26.0 llvmlite-0.39.1 mpmath-1.2.1 multidict-6.0.4 networkx-3.0 numba-0.56.4 numpy-1.23.5 onnxruntime-1.13.1 opencv-python-headless-4.6.0.66 pillow-9.3.0 pooch-1.6.0 protobuf-4.22.0 pydantic-1.10.5 pymatting-1.1.8 python-multipart-0.0.6 rembg-2.0.30 requests-2.28.2 scikit-image-0.19.3 scipy-1.9.3 starlette-0.21.0 sympy-1.11.1 tifffile-2023.2.28 tqdm-4.64.1 typing-extensions-4.5.0 urllib3-1.26.14 uvicorn-0.20.0 watchdog-2.1.9 yarl-1.8.2\n",
      "\u001b[33mWARNING: You are using pip version 21.2.3; however, version 23.0.1 is available.\n",
      "You should consider upgrading via the '/usr/local/bin/python3 -m pip install --upgrade pip' command.\u001b[0m\n",
      "Note: you may need to restart the kernel to use updated packages.\n"
     ]
    }
   ],
   "source": [
    "%pip install rembg"
   ]
  },
  {
   "cell_type": "code",
   "execution_count": 63,
   "metadata": {},
   "outputs": [],
   "source": [
    "random.shuffle(liste1)"
   ]
  },
  {
   "cell_type": "code",
   "execution_count": 64,
   "metadata": {},
   "outputs": [
    {
     "ename": "NameError",
     "evalue": "name 'pyautogui' is not defined",
     "output_type": "error",
     "traceback": [
      "\u001b[0;31m---------------------------------------------------------------------------\u001b[0m",
      "\u001b[0;31mNameError\u001b[0m                                 Traceback (most recent call last)",
      "Cell \u001b[0;32mIn[64], line 1\u001b[0m\n\u001b[0;32m----> 1\u001b[0m pyautogui\u001b[39m.\u001b[39mclick\n",
      "\u001b[0;31mNameError\u001b[0m: name 'pyautogui' is not defined"
     ]
    }
   ],
   "source": [
    "pyautogui.click"
   ]
  },
  {
   "cell_type": "code",
   "execution_count": 65,
   "metadata": {},
   "outputs": [
    {
     "ename": "ModuleNotFoundError",
     "evalue": "No module named 'pyautogui'",
     "output_type": "error",
     "traceback": [
      "\u001b[0;31m---------------------------------------------------------------------------\u001b[0m",
      "\u001b[0;31mModuleNotFoundError\u001b[0m                       Traceback (most recent call last)",
      "Cell \u001b[0;32mIn[65], line 1\u001b[0m\n\u001b[0;32m----> 1\u001b[0m \u001b[39mimport\u001b[39;00m \u001b[39mpyautogui\u001b[39;00m\n",
      "\u001b[0;31mModuleNotFoundError\u001b[0m: No module named 'pyautogui'"
     ]
    }
   ],
   "source": [
    "import pyautogui"
   ]
  },
  {
   "cell_type": "code",
   "execution_count": 66,
   "metadata": {},
   "outputs": [
    {
     "name": "stdout",
     "output_type": "stream",
     "text": [
      "Collecting pyautogui\n",
      "  Downloading PyAutoGUI-0.9.53.tar.gz (59 kB)\n",
      "\u001b[K     |████████████████████████████████| 59 kB 3.4 MB/s eta 0:00:01\n",
      "\u001b[?25hCollecting pymsgbox\n",
      "  Downloading PyMsgBox-1.0.9.tar.gz (18 kB)\n",
      "  Installing build dependencies ... \u001b[?25ldone\n",
      "\u001b[?25h  Getting requirements to build wheel ... \u001b[?25ldone\n",
      "\u001b[?25h    Preparing wheel metadata ... \u001b[?25ldone\n",
      "\u001b[?25hCollecting PyTweening>=1.0.1\n",
      "  Downloading pytweening-1.0.4.tar.gz (14 kB)\n",
      "Collecting pyscreeze>=0.1.21\n",
      "  Downloading PyScreeze-0.1.28.tar.gz (25 kB)\n",
      "  Installing build dependencies ... \u001b[?25ldone\n",
      "\u001b[?25h  Getting requirements to build wheel ... \u001b[?25ldone\n",
      "\u001b[?25h    Preparing wheel metadata ... \u001b[?25ldone\n",
      "\u001b[?25hCollecting pygetwindow>=0.0.5\n",
      "  Downloading PyGetWindow-0.0.9.tar.gz (9.7 kB)\n",
      "Collecting mouseinfo\n",
      "  Downloading MouseInfo-0.1.3.tar.gz (10 kB)\n",
      "Collecting pyobjc-core\n",
      "  Downloading pyobjc_core-9.0.1-cp39-cp39-macosx_10_9_universal2.whl (738 kB)\n",
      "\u001b[K     |████████████████████████████████| 738 kB 6.3 MB/s eta 0:00:01\n",
      "\u001b[?25hCollecting pyobjc\n",
      "  Downloading pyobjc-9.0.1-py3-none-any.whl (4.0 kB)\n",
      "Collecting pyrect\n",
      "  Downloading PyRect-0.2.0.tar.gz (17 kB)\n",
      "Collecting pyperclip\n",
      "  Downloading pyperclip-1.8.2.tar.gz (20 kB)\n",
      "Collecting rubicon-objc\n",
      "  Downloading rubicon_objc-0.4.5-py3-none-any.whl (60 kB)\n",
      "\u001b[K     |████████████████████████████████| 60 kB 26.8 MB/s eta 0:00:01\n",
      "\u001b[?25hCollecting pyobjc-framework-OSAKit==9.0.1\n",
      "  Downloading pyobjc_framework_OSAKit-9.0.1-py2.py3-none-any.whl (3.6 kB)\n",
      "Collecting pyobjc-framework-Photos==9.0.1\n",
      "  Downloading pyobjc_framework_Photos-9.0.1-cp36-abi3-macosx_10_9_x86_64.whl (9.4 kB)\n",
      "Collecting pyobjc-framework-Network==9.0.1\n",
      "  Downloading pyobjc_framework_Network-9.0.1-cp36-abi3-macosx_10_9_x86_64.whl (14 kB)\n",
      "Collecting pyobjc-framework-ModelIO==9.0.1\n",
      "  Downloading pyobjc_framework_ModelIO-9.0.1-cp36-abi3-macosx_10_9_x86_64.whl (15 kB)\n",
      "Collecting pyobjc-framework-SpriteKit==9.0.1\n",
      "  Downloading pyobjc_framework_SpriteKit-9.0.1-cp39-cp39-macosx_10_9_universal2.whl (17 kB)\n",
      "Collecting pyobjc-framework-VideoSubscriberAccount==9.0.1\n",
      "  Downloading pyobjc_framework_VideoSubscriberAccount-9.0.1-py2.py3-none-any.whl (4.0 kB)\n",
      "Collecting pyobjc-framework-ScreenTime==9.0.1\n",
      "  Downloading pyobjc_framework_ScreenTime-9.0.1-py2.py3-none-any.whl (3.1 kB)\n",
      "Collecting pyobjc-framework-LatentSemanticMapping==9.0.1\n",
      "  Downloading pyobjc_framework_LatentSemanticMapping-9.0.1-py2.py3-none-any.whl (5.0 kB)\n",
      "Collecting pyobjc-framework-CoreHaptics==9.0.1\n",
      "  Downloading pyobjc_framework_CoreHaptics-9.0.1-py2.py3-none-any.whl (4.7 kB)\n",
      "Collecting pyobjc-framework-CoreAudio==9.0.1\n",
      "  Downloading pyobjc_framework_CoreAudio-9.0.1-cp39-cp39-macosx_10_9_universal2.whl (35 kB)\n",
      "Collecting pyobjc-framework-iTunesLibrary==9.0.1\n",
      "  Downloading pyobjc_framework_iTunesLibrary-9.0.1-py2.py3-none-any.whl (4.7 kB)\n",
      "Collecting pyobjc-framework-ScriptingBridge==9.0.1\n",
      "  Downloading pyobjc_framework_ScriptingBridge-9.0.1-cp36-abi3-macosx_10_9_x86_64.whl (6.6 kB)\n",
      "Collecting pyobjc-framework-CloudKit==9.0.1\n",
      "  Downloading pyobjc_framework_CloudKit-9.0.1-py2.py3-none-any.whl (8.1 kB)\n",
      "Collecting pyobjc-framework-UserNotificationsUI==9.0.1\n",
      "  Downloading pyobjc_framework_UserNotificationsUI-9.0.1-py2.py3-none-any.whl (3.5 kB)\n",
      "Collecting pyobjc-framework-libdispatch==9.0.1\n",
      "  Downloading pyobjc_framework_libdispatch-9.0.1-cp39-cp39-macosx_10_9_universal2.whl (20 kB)\n",
      "Collecting pyobjc-framework-MetricKit==9.0.1\n",
      "  Downloading pyobjc_framework_MetricKit-9.0.1-cp39-cp39-macosx_10_9_universal2.whl (8.6 kB)\n",
      "Collecting pyobjc-framework-LocalAuthentication==9.0.1\n",
      "  Downloading pyobjc_framework_LocalAuthentication-9.0.1-py2.py3-none-any.whl (5.4 kB)\n",
      "Collecting pyobjc-framework-AutomaticAssessmentConfiguration==9.0.1\n",
      "  Downloading pyobjc_framework_AutomaticAssessmentConfiguration-9.0.1-cp36-abi3-macosx_10_9_x86_64.whl (6.4 kB)\n",
      "Collecting pyobjc-framework-ContactsUI==9.0.1\n",
      "  Downloading pyobjc_framework_ContactsUI-9.0.1-cp36-abi3-macosx_10_9_x86_64.whl (5.7 kB)\n",
      "Collecting pyobjc-framework-DeviceCheck==9.0.1\n",
      "  Downloading pyobjc_framework_DeviceCheck-9.0.1-py2.py3-none-any.whl (3.2 kB)\n",
      "Collecting pyobjc-framework-MediaToolbox==9.0.1\n",
      "  Downloading pyobjc_framework_MediaToolbox-9.0.1-cp36-abi3-macosx_10_9_x86_64.whl (8.3 kB)\n",
      "Collecting pyobjc-framework-ExceptionHandling==9.0.1\n",
      "  Downloading pyobjc_framework_ExceptionHandling-9.0.1-py2.py3-none-any.whl (6.6 kB)\n",
      "Collecting pyobjc-framework-GameKit==9.0.1\n",
      "  Downloading pyobjc_framework_GameKit-9.0.1-cp36-abi3-macosx_10_9_x86_64.whl (15 kB)\n",
      "Collecting pyobjc-framework-CFNetwork==9.0.1\n",
      "  Downloading pyobjc_framework_CFNetwork-9.0.1-cp36-abi3-macosx_10_9_x86_64.whl (12 kB)\n",
      "Collecting pyobjc-framework-CoreBluetooth==9.0.1\n",
      "  Downloading pyobjc_framework_CoreBluetooth-9.0.1-cp36-abi3-macosx_10_9_x86_64.whl (9.9 kB)\n",
      "Collecting pyobjc-framework-FinderSync==9.0.1\n",
      "  Downloading pyobjc_framework_FinderSync-9.0.1-py2.py3-none-any.whl (4.4 kB)\n",
      "Collecting pyobjc-framework-LaunchServices==9.0.1\n",
      "  Downloading pyobjc_framework_LaunchServices-9.0.1-py2.py3-none-any.whl (3.4 kB)\n",
      "Collecting pyobjc-framework-MultipeerConnectivity==9.0.1\n",
      "  Downloading pyobjc_framework_MultipeerConnectivity-9.0.1-cp36-abi3-macosx_10_9_x86_64.whl (8.8 kB)\n",
      "Collecting pyobjc-framework-SafariServices==9.0.1\n",
      "  Downloading pyobjc_framework_SafariServices-9.0.1-cp36-abi3-macosx_10_9_x86_64.whl (5.8 kB)\n",
      "Collecting pyobjc-framework-UniformTypeIdentifiers==9.0.1\n",
      "  Downloading pyobjc_framework_UniformTypeIdentifiers-9.0.1-py2.py3-none-any.whl (4.3 kB)\n",
      "Collecting pyobjc-framework-PreferencePanes==9.0.1\n",
      "  Downloading pyobjc_framework_PreferencePanes-9.0.1-py2.py3-none-any.whl (4.3 kB)\n",
      "Collecting pyobjc-framework-CoreText==9.0.1\n",
      "  Downloading pyobjc_framework_CoreText-9.0.1-cp39-cp39-macosx_10_9_universal2.whl (30 kB)\n",
      "Collecting pyobjc-framework-SystemExtensions==9.0.1\n",
      "  Downloading pyobjc_framework_SystemExtensions-9.0.1-cp36-abi3-macosx_10_9_x86_64.whl (6.4 kB)\n",
      "Collecting pyobjc-framework-WebKit==9.0.1\n",
      "  Downloading pyobjc_framework_WebKit-9.0.1-cp36-abi3-macosx_10_9_x86_64.whl (29 kB)\n",
      "Collecting pyobjc-framework-AuthenticationServices==9.0.1\n",
      "  Downloading pyobjc_framework_AuthenticationServices-9.0.1-cp36-abi3-macosx_10_9_x86_64.whl (10 kB)\n",
      "Collecting pyobjc-framework-SyncServices==9.0.1\n",
      "  Downloading pyobjc_framework_SyncServices-9.0.1-cp36-abi3-macosx_10_9_x86_64.whl (10 kB)\n",
      "Collecting pyobjc-framework-SecurityFoundation==9.0.1\n",
      "  Downloading pyobjc_framework_SecurityFoundation-9.0.1-py2.py3-none-any.whl (3.3 kB)\n",
      "Collecting pyobjc-framework-IntentsUI==9.0.1\n",
      "  Downloading pyobjc_framework_IntentsUI-9.0.1-cp39-cp39-macosx_10_9_universal2.whl (9.9 kB)\n",
      "Collecting pyobjc-framework-EventKit==9.0.1\n",
      "  Downloading pyobjc_framework_EventKit-9.0.1-py2.py3-none-any.whl (5.9 kB)\n",
      "Collecting pyobjc-framework-NetFS==9.0.1\n",
      "  Downloading pyobjc_framework_NetFS-9.0.1-py2.py3-none-any.whl (3.8 kB)\n",
      "Collecting pyobjc-framework-CoreWLAN==9.0.1\n",
      "  Downloading pyobjc_framework_CoreWLAN-9.0.1-cp36-abi3-macosx_10_9_x86_64.whl (8.1 kB)\n",
      "Collecting pyobjc-framework-LocalAuthenticationEmbeddedUI==9.0.1\n",
      "  Downloading pyobjc_framework_LocalAuthenticationEmbeddedUI-9.0.1-py2.py3-none-any.whl (3.1 kB)\n",
      "Collecting pyobjc-framework-CoreMotion==9.0.1\n",
      "  Downloading pyobjc_framework_CoreMotion-9.0.1-cp39-cp39-macosx_10_9_universal2.whl (9.8 kB)\n",
      "Collecting pyobjc-framework-Intents==9.0.1\n",
      "  Downloading pyobjc_framework_Intents-9.0.1-cp36-abi3-macosx_10_9_x86_64.whl (21 kB)\n",
      "Collecting pyobjc-framework-Metal==9.0.1\n",
      "  Downloading pyobjc_framework_Metal-9.0.1-cp36-abi3-macosx_10_9_x86_64.whl (37 kB)\n",
      "Collecting pyobjc-framework-Social==9.0.1\n",
      "  Downloading pyobjc_framework_Social-9.0.1-py2.py3-none-any.whl (4.0 kB)\n",
      "Collecting pyobjc-framework-Vision==9.0.1\n",
      "  Downloading pyobjc_framework_Vision-9.0.1-cp36-abi3-macosx_10_9_x86_64.whl (13 kB)\n",
      "Collecting pyobjc-framework-DictionaryServices==9.0.1\n",
      "  Downloading pyobjc_framework_DictionaryServices-9.0.1-py2.py3-none-any.whl (3.4 kB)\n",
      "Collecting pyobjc-framework-AVKit==9.0.1\n",
      "  Downloading pyobjc_framework_AVKit-9.0.1-cp36-abi3-macosx_10_9_x86_64.whl (8.1 kB)\n",
      "Collecting pyobjc-framework-DiscRecording==9.0.1\n",
      "  Downloading pyobjc_framework_DiscRecording-9.0.1-cp36-abi3-macosx_10_9_x86_64.whl (12 kB)\n",
      "Collecting pyobjc-framework-ExecutionPolicy==9.0.1\n",
      "  Downloading pyobjc_framework_ExecutionPolicy-9.0.1-py2.py3-none-any.whl (3.3 kB)\n",
      "Collecting pyobjc-framework-GameController==9.0.1\n",
      "  Downloading pyobjc_framework_GameController-9.0.1-cp36-abi3-macosx_10_9_x86_64.whl (13 kB)\n",
      "Collecting pyobjc-framework-AppleScriptObjC==9.0.1\n",
      "  Downloading pyobjc_framework_AppleScriptObjC-9.0.1-py2.py3-none-any.whl (4.0 kB)\n",
      "Collecting pyobjc-framework-ColorSync==9.0.1\n",
      "  Downloading pyobjc_framework_ColorSync-9.0.1-py2.py3-none-any.whl (5.5 kB)\n",
      "Collecting pyobjc-framework-Cocoa==9.0.1\n",
      "  Downloading pyobjc_framework_Cocoa-9.0.1-cp39-cp39-macosx_10_9_universal2.whl (388 kB)\n",
      "\u001b[K     |████████████████████████████████| 388 kB 11.3 MB/s eta 0:00:01\n",
      "\u001b[?25hCollecting pyobjc-framework-PassKit==9.0.1\n",
      "  Downloading pyobjc_framework_PassKit-9.0.1-cp36-abi3-macosx_10_9_x86_64.whl (9.9 kB)\n",
      "Collecting pyobjc-framework-SystemConfiguration==9.0.1\n",
      "  Downloading pyobjc_framework_SystemConfiguration-9.0.1-cp36-abi3-macosx_10_9_x86_64.whl (16 kB)\n",
      "Collecting pyobjc-framework-ExternalAccessory==9.0.1\n",
      "  Downloading pyobjc_framework_ExternalAccessory-9.0.1-cp36-abi3-macosx_10_9_x86_64.whl (6.5 kB)\n",
      "Collecting pyobjc-framework-MetalPerformanceShaders==9.0.1\n",
      "  Downloading pyobjc_framework_MetalPerformanceShaders-9.0.1-cp36-abi3-macosx_10_9_x86_64.whl (20 kB)\n",
      "Collecting pyobjc-framework-CoreSpotlight==9.0.1\n",
      "  Downloading pyobjc_framework_CoreSpotlight-9.0.1-cp36-abi3-macosx_10_9_x86_64.whl (7.1 kB)\n",
      "Collecting pyobjc-framework-Virtualization==9.0.1\n",
      "  Downloading pyobjc_framework_Virtualization-9.0.1-cp36-abi3-macosx_10_9_x86_64.whl (7.3 kB)\n",
      "Collecting pyobjc-framework-MapKit==9.0.1\n",
      "  Downloading pyobjc_framework_MapKit-9.0.1-cp36-abi3-macosx_10_9_x86_64.whl (15 kB)\n",
      "Collecting pyobjc-framework-InputMethodKit==9.0.1\n",
      "  Downloading pyobjc_framework_InputMethodKit-9.0.1-cp36-abi3-macosx_10_9_x86_64.whl (7.4 kB)\n",
      "Collecting pyobjc-framework-DataDetection==9.0.1\n",
      "  Downloading pyobjc_framework_DataDetection-9.0.1-py2.py3-none-any.whl (3.0 kB)\n",
      "Collecting pyobjc-framework-PushKit==9.0.1\n",
      "  Downloading pyobjc_framework_PushKit-9.0.1-cp36-abi3-macosx_10_9_x86_64.whl (5.9 kB)\n",
      "Collecting pyobjc-framework-MLCompute==9.0.1\n",
      "  Downloading pyobjc_framework_MLCompute-9.0.1-py2.py3-none-any.whl (6.1 kB)\n",
      "Collecting pyobjc-framework-SecurityInterface==9.0.1\n",
      "  Downloading pyobjc_framework_SecurityInterface-9.0.1-cp36-abi3-macosx_10_9_x86_64.whl (7.5 kB)\n",
      "Collecting pyobjc-framework-AudioVideoBridging==9.0.1\n",
      "  Downloading pyobjc_framework_AudioVideoBridging-9.0.1-py2.py3-none-any.whl (6.4 kB)\n",
      "Collecting pyobjc-framework-VideoToolbox==9.0.1\n",
      "  Downloading pyobjc_framework_VideoToolbox-9.0.1-cp36-abi3-macosx_10_9_x86_64.whl (9.7 kB)\n",
      "Collecting pyobjc-framework-ClassKit==9.0.1\n",
      "  Downloading pyobjc_framework_ClassKit-9.0.1-cp36-abi3-macosx_10_9_x86_64.whl (6.3 kB)\n",
      "Collecting pyobjc-framework-PhotosUI==9.0.1\n",
      "  Downloading pyobjc_framework_PhotosUI-9.0.1-cp36-abi3-macosx_10_9_x86_64.whl (8.2 kB)\n",
      "Collecting pyobjc-framework-SoundAnalysis==9.0.1\n",
      "  Downloading pyobjc_framework_SoundAnalysis-9.0.1-py2.py3-none-any.whl (3.5 kB)\n",
      "Collecting pyobjc-framework-CoreAudioKit==9.0.1\n",
      "  Downloading pyobjc_framework_CoreAudioKit-9.0.1-cp36-abi3-macosx_10_9_x86_64.whl (5.4 kB)\n",
      "Collecting pyobjc-framework-FileProviderUI==9.0.1\n",
      "  Downloading pyobjc_framework_FileProviderUI-9.0.1-py2.py3-none-any.whl (3.1 kB)\n",
      "Collecting pyobjc-framework-CoreML==9.0.1\n",
      "  Downloading pyobjc_framework_CoreML-9.0.1-cp36-abi3-macosx_10_9_x86_64.whl (8.3 kB)\n",
      "Collecting pyobjc-framework-ReplayKit==9.0.1\n",
      "  Downloading pyobjc_framework_ReplayKit-9.0.1-cp36-abi3-macosx_10_9_x86_64.whl (7.2 kB)\n",
      "Collecting pyobjc-framework-CryptoTokenKit==9.0.1\n",
      "  Downloading pyobjc_framework_CryptoTokenKit-9.0.1-cp36-abi3-macosx_10_9_x86_64.whl (9.3 kB)\n",
      "Collecting pyobjc-framework-InstantMessage==9.0.1\n",
      "  Downloading pyobjc_framework_InstantMessage-9.0.1-py2.py3-none-any.whl (4.9 kB)\n",
      "Collecting pyobjc-framework-DiscRecordingUI==9.0.1\n",
      "  Downloading pyobjc_framework_DiscRecordingUI-9.0.1-py2.py3-none-any.whl (4.3 kB)\n",
      "Collecting pyobjc-framework-DiskArbitration==9.0.1\n",
      "  Downloading pyobjc_framework_DiskArbitration-9.0.1-py2.py3-none-any.whl (4.4 kB)\n",
      "Collecting pyobjc-framework-Quartz==9.0.1\n",
      "  Downloading pyobjc_framework_Quartz-9.0.1-cp39-cp39-macosx_10_9_universal2.whl (227 kB)\n",
      "\u001b[K     |████████████████████████████████| 227 kB 14.7 MB/s eta 0:00:01\n",
      "\u001b[?25hCollecting pyobjc-framework-InstallerPlugins==9.0.1\n",
      "  Downloading pyobjc_framework_InstallerPlugins-9.0.1-py2.py3-none-any.whl (4.3 kB)\n",
      "Collecting pyobjc-framework-ShazamKit==9.0.1\n",
      "  Downloading pyobjc_framework_ShazamKit-9.0.1-cp39-cp39-macosx_10_9_universal2.whl (9.1 kB)\n",
      "Collecting pyobjc-framework-MediaLibrary==9.0.1\n",
      "  Downloading pyobjc_framework_MediaLibrary-9.0.1-py2.py3-none-any.whl (3.8 kB)\n",
      "Collecting pyobjc-framework-KernelManagement==9.0.1\n",
      "  Downloading pyobjc_framework_KernelManagement-9.0.1-py2.py3-none-any.whl (3.2 kB)\n",
      "Collecting pyobjc-framework-Accounts==9.0.1\n",
      "  Downloading pyobjc_framework_Accounts-9.0.1-py2.py3-none-any.whl (4.6 kB)\n",
      "Collecting pyobjc-framework-Automator==9.0.1\n",
      "  Downloading pyobjc_framework_Automator-9.0.1-py2.py3-none-any.whl (5.0 kB)\n",
      "Collecting pyobjc-framework-AdServices==9.0.1\n",
      "  Downloading pyobjc_framework_AdServices-9.0.1-py2.py3-none-any.whl (3.0 kB)\n",
      "Collecting pyobjc-framework-IOSurface==9.0.1\n",
      "  Downloading pyobjc_framework_IOSurface-9.0.1-py2.py3-none-any.whl (4.4 kB)\n",
      "Collecting pyobjc-framework-QuickLookThumbnailing==9.0.1\n",
      "  Downloading pyobjc_framework_QuickLookThumbnailing-9.0.1-py2.py3-none-any.whl (3.6 kB)\n",
      "Collecting pyobjc-framework-MetalPerformanceShadersGraph==9.0.1\n",
      "  Downloading pyobjc_framework_MetalPerformanceShadersGraph-9.0.1-py2.py3-none-any.whl (5.4 kB)\n",
      "Collecting pyobjc-framework-NetworkExtension==9.0.1\n",
      "  Downloading pyobjc_framework_NetworkExtension-9.0.1-cp36-abi3-macosx_10_9_x86_64.whl (11 kB)\n",
      "Collecting pyobjc-framework-GameplayKit==9.0.1\n",
      "  Downloading pyobjc_framework_GameplayKit-9.0.1-cp36-abi3-macosx_10_9_x86_64.whl (9.3 kB)\n",
      "Collecting pyobjc-framework-SceneKit==9.0.1\n",
      "  Downloading pyobjc_framework_SceneKit-9.0.1-cp36-abi3-macosx_10_9_x86_64.whl (22 kB)\n",
      "Collecting pyobjc-framework-Contacts==9.0.1\n",
      "  Downloading pyobjc_framework_Contacts-9.0.1-cp36-abi3-macosx_10_9_x86_64.whl (9.1 kB)\n",
      "Collecting pyobjc-framework-FSEvents==9.0.1\n",
      "  Downloading pyobjc_framework_FSEvents-9.0.1-cp36-abi3-macosx_10_9_x86_64.whl (8.9 kB)\n",
      "Collecting pyobjc-framework-NaturalLanguage==9.0.1\n",
      "  Downloading pyobjc_framework_NaturalLanguage-9.0.1-py2.py3-none-any.whl (4.4 kB)\n",
      "Collecting pyobjc-framework-ApplicationServices==9.0.1\n",
      "  Downloading pyobjc_framework_ApplicationServices-9.0.1-cp39-cp39-macosx_10_9_universal2.whl (32 kB)\n",
      "Collecting pyobjc-framework-Collaboration==9.0.1\n",
      "  Downloading pyobjc_framework_Collaboration-9.0.1-py2.py3-none-any.whl (4.4 kB)\n",
      "Collecting pyobjc-framework-OpenDirectory==9.0.1\n",
      "  Downloading pyobjc_framework_OpenDirectory-9.0.1-py2.py3-none-any.whl (11 kB)\n",
      "Collecting pyobjc-framework-FileProvider==9.0.1\n",
      "  Downloading pyobjc_framework_FileProvider-9.0.1-cp39-cp39-macosx_10_9_universal2.whl (17 kB)\n",
      "Collecting pyobjc-framework-AppTrackingTransparency==9.0.1\n",
      "  Downloading pyobjc_framework_AppTrackingTransparency-9.0.1-py2.py3-none-any.whl (3.3 kB)\n",
      "Collecting pyobjc-framework-AddressBook==9.0.1\n",
      "  Downloading pyobjc_framework_AddressBook-9.0.1-cp36-abi3-macosx_10_9_x86_64.whl (10 kB)\n",
      "Collecting pyobjc-framework-Accessibility==9.0.1\n",
      "  Downloading pyobjc_framework_Accessibility-9.0.1-cp36-abi3-macosx_10_9_x86_64.whl (7.1 kB)\n",
      "Collecting pyobjc-framework-CalendarStore==9.0.1\n",
      "  Downloading pyobjc_framework_CalendarStore-9.0.1-py2.py3-none-any.whl (4.6 kB)\n",
      "Collecting pyobjc-framework-CoreMediaIO==9.0.1\n",
      "  Downloading pyobjc_framework_CoreMediaIO-9.0.1-cp36-abi3-macosx_10_9_x86_64.whl (13 kB)\n",
      "Collecting pyobjc-framework-OSLog==9.0.1\n",
      "  Downloading pyobjc_framework_OSLog-9.0.1-cp36-abi3-macosx_10_9_x86_64.whl (5.8 kB)\n",
      "Collecting pyobjc-framework-CallKit==9.0.1\n",
      "  Downloading pyobjc_framework_CallKit-9.0.1-py2.py3-none-any.whl (4.4 kB)\n",
      "Collecting pyobjc-framework-ImageCaptureCore==9.0.1\n",
      "  Downloading pyobjc_framework_ImageCaptureCore-9.0.1-cp36-abi3-macosx_10_9_x86_64.whl (12 kB)\n",
      "Collecting pyobjc-framework-AdSupport==9.0.1\n",
      "  Downloading pyobjc_framework_AdSupport-9.0.1-py2.py3-none-any.whl (2.9 kB)\n",
      "Collecting pyobjc-framework-UserNotifications==9.0.1\n",
      "  Downloading pyobjc_framework_UserNotifications-9.0.1-cp36-abi3-macosx_10_9_x86_64.whl (7.3 kB)\n",
      "Collecting pyobjc-framework-LinkPresentation==9.0.1\n",
      "  Downloading pyobjc_framework_LinkPresentation-9.0.1-py2.py3-none-any.whl (3.3 kB)\n",
      "Collecting pyobjc-framework-BusinessChat==9.0.1\n",
      "  Downloading pyobjc_framework_BusinessChat-9.0.1-py2.py3-none-any.whl (3.0 kB)\n",
      "Collecting pyobjc-framework-DVDPlayback==9.0.1\n",
      "  Downloading pyobjc_framework_DVDPlayback-9.0.1-py2.py3-none-any.whl (7.8 kB)\n",
      "Collecting pyobjc-framework-GameCenter==9.0.1\n",
      "  Downloading pyobjc_framework_GameCenter-9.0.1-cp36-abi3-macosx_10_9_x86_64.whl (12 kB)\n",
      "Collecting pyobjc-framework-AppleScriptKit==9.0.1\n",
      "  Downloading pyobjc_framework_AppleScriptKit-9.0.1-py2.py3-none-any.whl (3.9 kB)\n",
      "Collecting pyobjc-framework-ServiceManagement==9.0.1\n",
      "  Downloading pyobjc_framework_ServiceManagement-9.0.1-py2.py3-none-any.whl (4.8 kB)\n",
      "Collecting pyobjc-framework-CoreMIDI==9.0.1\n",
      "  Downloading pyobjc_framework_CoreMIDI-9.0.1-cp36-abi3-macosx_10_9_x86_64.whl (12 kB)\n",
      "Collecting pyobjc-framework-ScreenSaver==9.0.1\n",
      "  Downloading pyobjc_framework_ScreenSaver-9.0.1-cp36-abi3-macosx_10_9_x86_64.whl (6.3 kB)\n",
      "Collecting pyobjc-framework-NotificationCenter==9.0.1\n",
      "  Downloading pyobjc_framework_NotificationCenter-9.0.1-cp36-abi3-macosx_10_9_x86_64.whl (7.2 kB)\n",
      "Collecting pyobjc-framework-MediaAccessibility==9.0.1\n",
      "  Downloading pyobjc_framework_MediaAccessibility-9.0.1-py2.py3-none-any.whl (3.9 kB)\n",
      "Collecting pyobjc-framework-AVFoundation==9.0.1\n",
      "  Downloading pyobjc_framework_AVFoundation-9.0.1-cp36-abi3-macosx_10_9_x86_64.whl (49 kB)\n",
      "\u001b[K     |████████████████████████████████| 49 kB 8.1 MB/s eta 0:00:01\n",
      "\u001b[?25hCollecting pyobjc-framework-MailKit==9.0.1\n",
      "  Downloading pyobjc_framework_MailKit-9.0.1-py2.py3-none-any.whl (4.0 kB)\n",
      "Collecting pyobjc-framework-IMServicePlugIn==9.0.1\n",
      "  Downloading pyobjc_framework_IMServicePlugIn-9.0.1-cp36-abi3-macosx_10_9_x86_64.whl (9.5 kB)\n",
      "Collecting pyobjc-framework-StoreKit==9.0.1\n",
      "  Downloading pyobjc_framework_StoreKit-9.0.1-cp36-abi3-macosx_10_9_x86_64.whl (8.6 kB)\n",
      "Collecting pyobjc-framework-SearchKit==9.0.1\n",
      "  Downloading pyobjc_framework_SearchKit-9.0.1-py2.py3-none-any.whl (3.3 kB)\n",
      "Collecting pyobjc-framework-CoreMedia==9.0.1\n",
      "  Downloading pyobjc_framework_CoreMedia-9.0.1-cp39-cp39-macosx_10_9_universal2.whl (23 kB)\n",
      "Collecting pyobjc-framework-MetalKit==9.0.1\n",
      "  Downloading pyobjc_framework_MetalKit-9.0.1-cp36-abi3-macosx_10_9_x86_64.whl (6.5 kB)\n",
      "Collecting pyobjc-framework-MediaPlayer==9.0.1\n",
      "  Downloading pyobjc_framework_MediaPlayer-9.0.1-py2.py3-none-any.whl (6.1 kB)\n",
      "Collecting pyobjc-framework-Security==9.0.1\n",
      "  Downloading pyobjc_framework_Security-9.0.1-cp39-cp39-macosx_10_9_universal2.whl (40 kB)\n",
      "\u001b[K     |████████████████████████████████| 40 kB 15.5 MB/s eta 0:00:01\n",
      "\u001b[?25hCollecting pyobjc-framework-CoreServices==9.0.1\n",
      "  Downloading pyobjc_framework_CoreServices-9.0.1-cp36-abi3-macosx_10_9_x86_64.whl (27 kB)\n",
      "Collecting pyobjc-framework-PencilKit==9.0.1\n",
      "  Downloading pyobjc_framework_PencilKit-9.0.1-py2.py3-none-any.whl (3.2 kB)\n",
      "Collecting pyobjc-framework-CoreData==9.0.1\n",
      "  Downloading pyobjc_framework_CoreData-9.0.1-cp36-abi3-macosx_10_9_x86_64.whl (13 kB)\n",
      "Collecting pyobjc-framework-Speech==9.0.1\n",
      "  Downloading pyobjc_framework_Speech-9.0.1-cp36-abi3-macosx_10_9_x86_64.whl (6.4 kB)\n",
      "Collecting pyobjc-framework-CoreLocation==9.0.1\n",
      "  Downloading pyobjc_framework_CoreLocation-9.0.1-cp36-abi3-macosx_10_9_x86_64.whl (9.4 kB)\n",
      "Using legacy 'setup.py install' for pyautogui, since package 'wheel' is not installed.\n",
      "Using legacy 'setup.py install' for pygetwindow, since package 'wheel' is not installed.\n",
      "Using legacy 'setup.py install' for PyTweening, since package 'wheel' is not installed.\n",
      "Using legacy 'setup.py install' for mouseinfo, since package 'wheel' is not installed.\n",
      "Using legacy 'setup.py install' for pyperclip, since package 'wheel' is not installed.\n",
      "Using legacy 'setup.py install' for pyrect, since package 'wheel' is not installed.\n",
      "Building wheels for collected packages: pyscreeze, pymsgbox\n",
      "  Building wheel for pyscreeze (PEP 517) ... \u001b[?25ldone\n",
      "\u001b[?25h  Created wheel for pyscreeze: filename=PyScreeze-0.1.28-py3-none-any.whl size=13009 sha256=08f554f85dcca4d52028e1fef38c15ebba67ce18c623ce40df3e40743a7ba9a2\n",
      "  Stored in directory: /Users/sibel/Library/Caches/pip/wheels/a2/5b/86/99f1d8fac5d92de0ccb3f0d4ad15e3f4278baf75a9b0f20b93\n",
      "  Building wheel for pymsgbox (PEP 517) ... \u001b[?25ldone\n",
      "\u001b[?25h  Created wheel for pymsgbox: filename=PyMsgBox-1.0.9-py3-none-any.whl size=7405 sha256=6bafbaf22906ad6aa3bdbda7a8b44d6cac2f378d9e3a52aa14de90503bff1330\n",
      "  Stored in directory: /Users/sibel/Library/Caches/pip/wheels/7f/13/8c/584c519464297d9637f9cd29fd1dcdf55e2a2cab225c76a2db\n",
      "Successfully built pyscreeze pymsgbox\n",
      "Installing collected packages: pyobjc-core, pyobjc-framework-Cocoa, pyobjc-framework-Security, pyobjc-framework-Quartz, pyobjc-framework-Metal, pyobjc-framework-FSEvents, pyobjc-framework-CoreMedia, pyobjc-framework-CoreAudio, pyobjc-framework-UserNotifications, pyobjc-framework-SpriteKit, pyobjc-framework-MetalPerformanceShaders, pyobjc-framework-LocalAuthentication, pyobjc-framework-Intents, pyobjc-framework-FileProvider, pyobjc-framework-DiscRecording, pyobjc-framework-CoreServices, pyobjc-framework-CoreML, pyobjc-framework-CoreLocation, pyobjc-framework-CoreData, pyobjc-framework-Contacts, pyobjc-framework-AVFoundation, pyobjc-framework-Accounts, rubicon-objc, pyrect, pyperclip, pyobjc-framework-WebKit, pyobjc-framework-Vision, pyobjc-framework-Virtualization, pyobjc-framework-VideoToolbox, pyobjc-framework-VideoSubscriberAccount, pyobjc-framework-UserNotificationsUI, pyobjc-framework-UniformTypeIdentifiers, pyobjc-framework-SystemExtensions, pyobjc-framework-SystemConfiguration, pyobjc-framework-SyncServices, pyobjc-framework-StoreKit, pyobjc-framework-Speech, pyobjc-framework-SoundAnalysis, pyobjc-framework-Social, pyobjc-framework-ShazamKit, pyobjc-framework-ServiceManagement, pyobjc-framework-SecurityInterface, pyobjc-framework-SecurityFoundation, pyobjc-framework-SearchKit, pyobjc-framework-ScriptingBridge, pyobjc-framework-ScreenTime, pyobjc-framework-ScreenSaver, pyobjc-framework-SceneKit, pyobjc-framework-SafariServices, pyobjc-framework-ReplayKit, pyobjc-framework-QuickLookThumbnailing, pyobjc-framework-PushKit, pyobjc-framework-PreferencePanes, pyobjc-framework-PhotosUI, pyobjc-framework-Photos, pyobjc-framework-PencilKit, pyobjc-framework-PassKit, pyobjc-framework-OSLog, pyobjc-framework-OSAKit, pyobjc-framework-OpenDirectory, pyobjc-framework-NotificationCenter, pyobjc-framework-NetworkExtension, pyobjc-framework-Network, pyobjc-framework-NetFS, pyobjc-framework-NaturalLanguage, pyobjc-framework-MultipeerConnectivity, pyobjc-framework-ModelIO, pyobjc-framework-MLCompute, pyobjc-framework-MetricKit, pyobjc-framework-MetalPerformanceShadersGraph, pyobjc-framework-MetalKit, pyobjc-framework-MediaToolbox, pyobjc-framework-MediaPlayer, pyobjc-framework-MediaLibrary, pyobjc-framework-MediaAccessibility, pyobjc-framework-MapKit, pyobjc-framework-MailKit, pyobjc-framework-LocalAuthenticationEmbeddedUI, pyobjc-framework-LinkPresentation, pyobjc-framework-libdispatch, pyobjc-framework-LaunchServices, pyobjc-framework-LatentSemanticMapping, pyobjc-framework-KernelManagement, pyobjc-framework-iTunesLibrary, pyobjc-framework-IOSurface, pyobjc-framework-IntentsUI, pyobjc-framework-InstantMessage, pyobjc-framework-InstallerPlugins, pyobjc-framework-InputMethodKit, pyobjc-framework-IMServicePlugIn, pyobjc-framework-ImageCaptureCore, pyobjc-framework-GameplayKit, pyobjc-framework-GameKit, pyobjc-framework-GameController, pyobjc-framework-GameCenter, pyobjc-framework-FinderSync, pyobjc-framework-FileProviderUI, pyobjc-framework-ExternalAccessory, pyobjc-framework-ExecutionPolicy, pyobjc-framework-ExceptionHandling, pyobjc-framework-EventKit, pyobjc-framework-DVDPlayback, pyobjc-framework-DiskArbitration, pyobjc-framework-DiscRecordingUI, pyobjc-framework-DictionaryServices, pyobjc-framework-DeviceCheck, pyobjc-framework-DataDetection, pyobjc-framework-CryptoTokenKit, pyobjc-framework-CoreWLAN, pyobjc-framework-CoreText, pyobjc-framework-CoreSpotlight, pyobjc-framework-CoreMotion, pyobjc-framework-CoreMIDI, pyobjc-framework-CoreMediaIO, pyobjc-framework-CoreHaptics, pyobjc-framework-CoreBluetooth, pyobjc-framework-CoreAudioKit, pyobjc-framework-ContactsUI, pyobjc-framework-ColorSync, pyobjc-framework-Collaboration, pyobjc-framework-CloudKit, pyobjc-framework-ClassKit, pyobjc-framework-CFNetwork, pyobjc-framework-CallKit, pyobjc-framework-CalendarStore, pyobjc-framework-BusinessChat, pyobjc-framework-AVKit, pyobjc-framework-Automator, pyobjc-framework-AutomaticAssessmentConfiguration, pyobjc-framework-AuthenticationServices, pyobjc-framework-AudioVideoBridging, pyobjc-framework-AppTrackingTransparency, pyobjc-framework-ApplicationServices, pyobjc-framework-AppleScriptObjC, pyobjc-framework-AppleScriptKit, pyobjc-framework-AdSupport, pyobjc-framework-AdServices, pyobjc-framework-AddressBook, pyobjc-framework-Accessibility, PyTweening, pyscreeze, pyobjc, pymsgbox, pygetwindow, mouseinfo, pyautogui\n",
      "    Running setup.py install for pyrect ... \u001b[?25ldone\n",
      "\u001b[?25h    Running setup.py install for pyperclip ... \u001b[?25ldone\n",
      "\u001b[?25h    Running setup.py install for PyTweening ... \u001b[?25ldone\n",
      "\u001b[?25h    Running setup.py install for pygetwindow ... \u001b[?25ldone\n",
      "\u001b[?25h    Running setup.py install for mouseinfo ... \u001b[?25ldone\n",
      "\u001b[?25h    Running setup.py install for pyautogui ... \u001b[?25ldone\n",
      "\u001b[?25hSuccessfully installed PyTweening-1.0.4 mouseinfo-0.1.3 pyautogui-0.9.53 pygetwindow-0.0.9 pymsgbox-1.0.9 pyobjc-9.0.1 pyobjc-core-9.0.1 pyobjc-framework-AVFoundation-9.0.1 pyobjc-framework-AVKit-9.0.1 pyobjc-framework-Accessibility-9.0.1 pyobjc-framework-Accounts-9.0.1 pyobjc-framework-AdServices-9.0.1 pyobjc-framework-AdSupport-9.0.1 pyobjc-framework-AddressBook-9.0.1 pyobjc-framework-AppTrackingTransparency-9.0.1 pyobjc-framework-AppleScriptKit-9.0.1 pyobjc-framework-AppleScriptObjC-9.0.1 pyobjc-framework-ApplicationServices-9.0.1 pyobjc-framework-AudioVideoBridging-9.0.1 pyobjc-framework-AuthenticationServices-9.0.1 pyobjc-framework-AutomaticAssessmentConfiguration-9.0.1 pyobjc-framework-Automator-9.0.1 pyobjc-framework-BusinessChat-9.0.1 pyobjc-framework-CFNetwork-9.0.1 pyobjc-framework-CalendarStore-9.0.1 pyobjc-framework-CallKit-9.0.1 pyobjc-framework-ClassKit-9.0.1 pyobjc-framework-CloudKit-9.0.1 pyobjc-framework-Cocoa-9.0.1 pyobjc-framework-Collaboration-9.0.1 pyobjc-framework-ColorSync-9.0.1 pyobjc-framework-Contacts-9.0.1 pyobjc-framework-ContactsUI-9.0.1 pyobjc-framework-CoreAudio-9.0.1 pyobjc-framework-CoreAudioKit-9.0.1 pyobjc-framework-CoreBluetooth-9.0.1 pyobjc-framework-CoreData-9.0.1 pyobjc-framework-CoreHaptics-9.0.1 pyobjc-framework-CoreLocation-9.0.1 pyobjc-framework-CoreMIDI-9.0.1 pyobjc-framework-CoreML-9.0.1 pyobjc-framework-CoreMedia-9.0.1 pyobjc-framework-CoreMediaIO-9.0.1 pyobjc-framework-CoreMotion-9.0.1 pyobjc-framework-CoreServices-9.0.1 pyobjc-framework-CoreSpotlight-9.0.1 pyobjc-framework-CoreText-9.0.1 pyobjc-framework-CoreWLAN-9.0.1 pyobjc-framework-CryptoTokenKit-9.0.1 pyobjc-framework-DVDPlayback-9.0.1 pyobjc-framework-DataDetection-9.0.1 pyobjc-framework-DeviceCheck-9.0.1 pyobjc-framework-DictionaryServices-9.0.1 pyobjc-framework-DiscRecording-9.0.1 pyobjc-framework-DiscRecordingUI-9.0.1 pyobjc-framework-DiskArbitration-9.0.1 pyobjc-framework-EventKit-9.0.1 pyobjc-framework-ExceptionHandling-9.0.1 pyobjc-framework-ExecutionPolicy-9.0.1 pyobjc-framework-ExternalAccessory-9.0.1 pyobjc-framework-FSEvents-9.0.1 pyobjc-framework-FileProvider-9.0.1 pyobjc-framework-FileProviderUI-9.0.1 pyobjc-framework-FinderSync-9.0.1 pyobjc-framework-GameCenter-9.0.1 pyobjc-framework-GameController-9.0.1 pyobjc-framework-GameKit-9.0.1 pyobjc-framework-GameplayKit-9.0.1 pyobjc-framework-IMServicePlugIn-9.0.1 pyobjc-framework-IOSurface-9.0.1 pyobjc-framework-ImageCaptureCore-9.0.1 pyobjc-framework-InputMethodKit-9.0.1 pyobjc-framework-InstallerPlugins-9.0.1 pyobjc-framework-InstantMessage-9.0.1 pyobjc-framework-Intents-9.0.1 pyobjc-framework-IntentsUI-9.0.1 pyobjc-framework-KernelManagement-9.0.1 pyobjc-framework-LatentSemanticMapping-9.0.1 pyobjc-framework-LaunchServices-9.0.1 pyobjc-framework-LinkPresentation-9.0.1 pyobjc-framework-LocalAuthentication-9.0.1 pyobjc-framework-LocalAuthenticationEmbeddedUI-9.0.1 pyobjc-framework-MLCompute-9.0.1 pyobjc-framework-MailKit-9.0.1 pyobjc-framework-MapKit-9.0.1 pyobjc-framework-MediaAccessibility-9.0.1 pyobjc-framework-MediaLibrary-9.0.1 pyobjc-framework-MediaPlayer-9.0.1 pyobjc-framework-MediaToolbox-9.0.1 pyobjc-framework-Metal-9.0.1 pyobjc-framework-MetalKit-9.0.1 pyobjc-framework-MetalPerformanceShaders-9.0.1 pyobjc-framework-MetalPerformanceShadersGraph-9.0.1 pyobjc-framework-MetricKit-9.0.1 pyobjc-framework-ModelIO-9.0.1 pyobjc-framework-MultipeerConnectivity-9.0.1 pyobjc-framework-NaturalLanguage-9.0.1 pyobjc-framework-NetFS-9.0.1 pyobjc-framework-Network-9.0.1 pyobjc-framework-NetworkExtension-9.0.1 pyobjc-framework-NotificationCenter-9.0.1 pyobjc-framework-OSAKit-9.0.1 pyobjc-framework-OSLog-9.0.1 pyobjc-framework-OpenDirectory-9.0.1 pyobjc-framework-PassKit-9.0.1 pyobjc-framework-PencilKit-9.0.1 pyobjc-framework-Photos-9.0.1 pyobjc-framework-PhotosUI-9.0.1 pyobjc-framework-PreferencePanes-9.0.1 pyobjc-framework-PushKit-9.0.1 pyobjc-framework-Quartz-9.0.1 pyobjc-framework-QuickLookThumbnailing-9.0.1 pyobjc-framework-ReplayKit-9.0.1 pyobjc-framework-SafariServices-9.0.1 pyobjc-framework-SceneKit-9.0.1 pyobjc-framework-ScreenSaver-9.0.1 pyobjc-framework-ScreenTime-9.0.1 pyobjc-framework-ScriptingBridge-9.0.1 pyobjc-framework-SearchKit-9.0.1 pyobjc-framework-Security-9.0.1 pyobjc-framework-SecurityFoundation-9.0.1 pyobjc-framework-SecurityInterface-9.0.1 pyobjc-framework-ServiceManagement-9.0.1 pyobjc-framework-ShazamKit-9.0.1 pyobjc-framework-Social-9.0.1 pyobjc-framework-SoundAnalysis-9.0.1 pyobjc-framework-Speech-9.0.1 pyobjc-framework-SpriteKit-9.0.1 pyobjc-framework-StoreKit-9.0.1 pyobjc-framework-SyncServices-9.0.1 pyobjc-framework-SystemConfiguration-9.0.1 pyobjc-framework-SystemExtensions-9.0.1 pyobjc-framework-UniformTypeIdentifiers-9.0.1 pyobjc-framework-UserNotifications-9.0.1 pyobjc-framework-UserNotificationsUI-9.0.1 pyobjc-framework-VideoSubscriberAccount-9.0.1 pyobjc-framework-VideoToolbox-9.0.1 pyobjc-framework-Virtualization-9.0.1 pyobjc-framework-Vision-9.0.1 pyobjc-framework-WebKit-9.0.1 pyobjc-framework-iTunesLibrary-9.0.1 pyobjc-framework-libdispatch-9.0.1 pyperclip-1.8.2 pyrect-0.2.0 pyscreeze-0.1.28 rubicon-objc-0.4.5\n",
      "\u001b[33mWARNING: You are using pip version 21.2.3; however, version 23.0.1 is available.\n",
      "You should consider upgrading via the '/usr/local/bin/python3 -m pip install --upgrade pip' command.\u001b[0m\n",
      "Note: you may need to restart the kernel to use updated packages.\n"
     ]
    }
   ],
   "source": [
    "%pip install pyautogui"
   ]
  },
  {
   "cell_type": "code",
   "execution_count": 72,
   "metadata": {},
   "outputs": [
    {
     "name": "stdout",
     "output_type": "stream",
     "text": [
      "10 9 8 7 6 5 4 3 2 1 \n"
     ]
    }
   ],
   "source": [
    "pyautogui.countdown(10)"
   ]
  },
  {
   "cell_type": "code",
   "execution_count": null,
   "metadata": {},
   "outputs": [],
   "source": []
  }
 ],
 "metadata": {
  "kernelspec": {
   "display_name": "Python 3",
   "language": "python",
   "name": "python3"
  },
  "language_info": {
   "codemirror_mode": {
    "name": "ipython",
    "version": 3
   },
   "file_extension": ".py",
   "mimetype": "text/x-python",
   "name": "python",
   "nbconvert_exporter": "python",
   "pygments_lexer": "ipython3",
   "version": "3.9.7"
  },
  "orig_nbformat": 4,
  "vscode": {
   "interpreter": {
    "hash": "aee8b7b246df8f9039afb4144a1f6fd8d2ca17a180786b69acc140d282b71a49"
   }
  }
 },
 "nbformat": 4,
 "nbformat_minor": 2
}
